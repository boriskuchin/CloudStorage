{
  "nbformat": 4,
  "nbformat_minor": 0,
  "metadata": {
    "colab": {
      "provenance": [],
      "include_colab_link": true
    },
    "kernelspec": {
      "name": "python3",
      "display_name": "Python 3"
    },
    "language_info": {
      "name": "python"
    }
  },
  "cells": [
    {
      "cell_type": "markdown",
      "metadata": {
        "id": "view-in-github",
        "colab_type": "text"
      },
      "source": [
        "<a href=\"https://colab.research.google.com/github/boriskuchin/CloudStorage/blob/main/01_python_basics_pt1.ipynb\" target=\"_parent\"><img src=\"https://colab.research.google.com/assets/colab-badge.svg\" alt=\"Open In Colab\"/></a>"
      ]
    },
    {
      "cell_type": "markdown",
      "source": [
        "# Занятие 1. Python Recap. Базовый синтаксис"
      ],
      "metadata": {
        "id": "Ri5PDJZdOwUU"
      }
    },
    {
      "cell_type": "markdown",
      "source": [
        "# Python как интерпретируемый язык"
      ],
      "metadata": {
        "id": "M7yR3yLUSbSQ"
      }
    },
    {
      "cell_type": "markdown",
      "source": [
        "**Python** - интерпретируемый язык программирования, можем выполнять команды поштучно. Из-за этого чистый Питон является далеко не самым быстрым языком программирования, но зато очень удобным для проведения исследовательской работы."
      ],
      "metadata": {
        "id": "q5mYgH4q2nNw"
      }
    },
    {
      "cell_type": "markdown",
      "source": [
        "## Подробнее - Компиляторы и интерпретаторы"
      ],
      "metadata": {
        "id": "1uVYB8ykVj-5"
      }
    },
    {
      "cell_type": "markdown",
      "source": [
        "Есть 2 основных\\* способа перевода инструкций в машинный код - переводить всю программу целиком или переводить ее по кусочкам (по отдельным командам). По этому принципу языки разделяют на компилируемые и интерпретируемые:"
      ],
      "metadata": {
        "id": "A_LvIUTkWBv5"
      }
    },
    {
      "cell_type": "markdown",
      "source": [
        "- В **компилируемых** используется специальная программа - **компилятор**, которая берет программу **целиком** и преобразует (компилирует) ее в исполняемый компьютерный код. После этого компьютер может исполнять скомпилированную программу. Компилятор способен выполнять многие или даже все операции: предварительную обработку исходной программы, парсинг, семантический анализ, преобразование входных программ в промежуточное представление, оптимизацию и генерацию кода.\n",
        "\n",
        "    ![compiler](https://cdn-images-1.medium.com/max/533/0*OaEDlCa01FEDRIQ8)\n",
        "    \n",
        "    *Source: [NoP](https://nuancesprog.ru/p/12524/)*\n"
      ],
      "metadata": {
        "id": "0Fyt8qFYXRgy"
      }
    },
    {
      "cell_type": "markdown",
      "source": [
        "- В **интерпретируемых** преобразование осуществляется **интерпретатором** последовательно - оператор за оператором.\n",
        "\n",
        "    ![interpreter](https://cdn-images-1.medium.com/max/533/0*MddNw1pcH9OJiekl)\n",
        "\n",
        "    *Source: [NoP](https://nuancesprog.ru/p/12524/)*"
      ],
      "metadata": {
        "id": "xqZJW8KzV97g"
      }
    },
    {
      "cell_type": "markdown",
      "source": [
        "И **компилятор**, и **интерпретатор** выполняют одну и ту же работу  —  преобразовывают язык программирования высокого уровня в машинный код. Однако **компилятор** преобразовывает исходный материал в машинный код **перед запуском** программы. **Интерпретатор** выполняет эту функцию **при ее запуске**."
      ],
      "metadata": {
        "id": "6cq-o5gTXVXg"
      }
    },
    {
      "cell_type": "markdown",
      "source": [
        "- Компилируемые ЯП - C, C++.\n",
        "- Интерпретируемые ЯП - Perl, Python и Matlab."
      ],
      "metadata": {
        "id": "pK3w8hp9XbEj"
      }
    },
    {
      "cell_type": "markdown",
      "source": [
        "### Преимущества и недостатки"
      ],
      "metadata": {
        "id": "KvSuIxIzzwB_"
      }
    },
    {
      "cell_type": "markdown",
      "source": [
        "**Преимущества компилятора:**\n",
        "- Программный код переводится целиком - можно оптимизировать его на низком уровне, тем самым сделать **быстрее**\n",
        "- Объектные программы **лучше защищены от изменения** пользователем сложнее изменить, чем исходный код\n",
        "- Компилятор **проверяет исходный код** на наличие синтаксических ошибок во время компиляции"
      ],
      "metadata": {
        "id": "0zNh_8LCYGJw"
      }
    },
    {
      "cell_type": "markdown",
      "source": [
        "**Недостатки компилятора:**\n",
        "- Поскольку переводится вся программа, она **использует гораздо больше памяти** компьютера\n",
        "- При работе с компилятором **невозможно\\* изменить программу**, не вернувшись к исходному коду\n",
        "- Компилирование может занимать **очень много времени**\n",
        "\n",
        "    ![compiling](https://xkcd.ru/i/303_v2.png)\n",
        "\n",
        "    *Source: [xkcd.ru](https://xkcd.ru/303/)*\n",
        "- Исходный код должен быть **на 100% верным** для создания исполняемого файла\n",
        "- Компилирование выполняется **только под определенную платформу** (x86, arm, ...)"
      ],
      "metadata": {
        "id": "ndduPpPbYIUc"
      }
    },
    {
      "cell_type": "markdown",
      "source": [
        "**Преимущества интерпретатора:**\n",
        "- С интерпретатором **проще работать с исходным кодом**\n",
        "- Перевод по одной инструкции за раз, поэтому использует **минимальный объем памяти**"
      ],
      "metadata": {
        "id": "kZa-Dkb2YKPm"
      }
    },
    {
      "cell_type": "markdown",
      "source": [
        "**Недостатки интерпретатора:**\n",
        "- Каждый раз, когда программа выполняется, тратится время на интерпретацию, из-за чего **затягивается время исполнения**\n",
        "- Для запуска интерпретируемой программы **необходим интерпретатор**"
      ],
      "metadata": {
        "id": "HecH45Y-YLsZ"
      }
    },
    {
      "cell_type": "markdown",
      "metadata": {
        "pycharm": {
          "name": "#%% md\n"
        },
        "id": "MYXhqKPCquBb"
      },
      "source": [
        "# Среда разработки"
      ]
    },
    {
      "cell_type": "markdown",
      "source": [
        "Сначала нужно установить Python - https://www.python.org/"
      ],
      "metadata": {
        "id": "LWW0k8fuMhg5"
      }
    },
    {
      "cell_type": "markdown",
      "source": [
        "Запустить программу на Python можно несколькими способами:"
      ],
      "metadata": {
        "id": "jtcQTwMHJy2w"
      }
    },
    {
      "cell_type": "markdown",
      "source": [
        "## Интерактивный путь - Jupyter Notebook и Google Colab"
      ],
      "metadata": {
        "id": "arp2IyQ8EF7H"
      }
    },
    {
      "cell_type": "markdown",
      "source": [
        "[Jupyter Notebook](https://jupyter.org/) позволяет выполнять редактирование кода в окне браузера (в том числе на удаленном сервере) и вставлять не только ячейки с кодом на Python, но и с markdown (облегченный язык разметки текста, см. [туториал](https://www.markdownguide.org/cheat-sheet/))."
      ],
      "metadata": {
        "id": "nUaolCv0aOFT"
      }
    },
    {
      "cell_type": "markdown",
      "source": [
        "<img src=\"https://jupyter.org/assets/homepage/main-logo.svg\" width=200/>"
      ],
      "metadata": {
        "id": "dtm2nw3f3195"
      }
    },
    {
      "cell_type": "markdown",
      "source": [
        "Блокнот (notebook) объединяет в себе:\n",
        "- код и его вывод\n",
        "- визуализации\n",
        "- повествовательный текст, математические уравнения и другие мультимедиа.\n",
        "\n",
        "Поэтому популярнен при работе с анализом данных."
      ],
      "metadata": {
        "id": "z3sTdsr-ajmq"
      }
    },
    {
      "cell_type": "markdown",
      "source": [
        "В ноутбуке есть два типа ячеек:\n",
        "- ячейки с текстом (как эта) - ячейки поддерживают язык разметки [Markdown](https://paulradzkov.com/2014/markdown_cheatsheet/), что позволяет красиво оформлять текст!\n",
        "- ячейки с кодом (запускали код в них) - позволяет выполнять код отдельными фрагментами с сохранением текущего состояния"
      ],
      "metadata": {
        "id": "7Q2u_BEb5rHb"
      }
    },
    {
      "cell_type": "markdown",
      "source": [
        "Google Colab - доступная в сети \"разновидность\" Jupyter Notebook, позволяет без установки программ на ваш компьютер работать с Python и делиться как кодом, так и результатами.\n",
        "\n",
        "Имеется короткий [туториал от Google](https://colab.research.google.com/notebooks/welcome.ipynb#scrollTo=GJBs_flRovLc)."
      ],
      "metadata": {
        "id": "NU8pbvC16N0i"
      }
    },
    {
      "cell_type": "markdown",
      "source": [
        "## Скриптовый путь - IDE"
      ],
      "metadata": {
        "id": "Doeb7D9jEM9Z"
      }
    },
    {
      "cell_type": "markdown",
      "source": [
        "Создавать большие продвинутые проекты на Python в командной строке, обычном текстовом редакторе и даже в IDLE не очень удобно - хотелось бы иметь многие инструменты, такие как поддердка VCS, продвинутое автодополнение, дебаггинг, возможности рефакторинга и т.д. Здесь на помощь приходит [PyCharm](https://www.jetbrains.com/ru-ru/pycharm/).\n",
        "\n",
        "<div><img src=\"https://www.jetbrains.com/lp/pycharm-pro/static/1-go-to-declaration-8637ad4640eeb0b1f807592885d7ffbf.png\"></div>\n",
        "\n",
        "*Source: [JetBrains](https://www.jetbrains.com/lp/pycharm-pro/static/1-go-to-declaration-8637ad4640eeb0b1f807592885d7ffbf.png)*\n",
        "\n",
        "У JetBrains имеется бесплатная версия PyCharm Community Edition, которой более чем хватит для обучения."
      ],
      "metadata": {
        "id": "IOTs4LBea5zT"
      }
    },
    {
      "cell_type": "markdown",
      "source": [
        "# Основы Python"
      ],
      "metadata": {
        "id": "h6FfaA0aAmUo"
      }
    },
    {
      "cell_type": "markdown",
      "source": [
        "## Создание переменных"
      ],
      "metadata": {
        "id": "a4ytcgAeu-nf"
      }
    },
    {
      "cell_type": "markdown",
      "source": [
        "Cоздание переменной и присваивание\\* ей значения:"
      ],
      "metadata": {
        "id": "AtK20cgLAzQt"
      }
    },
    {
      "cell_type": "code",
      "source": [
        "variable = 4"
      ],
      "metadata": {
        "id": "4O8_TLuSA-KX"
      },
      "execution_count": null,
      "outputs": []
    },
    {
      "cell_type": "markdown",
      "source": [
        "Вывод значения:"
      ],
      "metadata": {
        "id": "PyD0osPnBC3i"
      }
    },
    {
      "cell_type": "code",
      "source": [
        "print(variable)"
      ],
      "metadata": {
        "colab": {
          "base_uri": "https://localhost:8080/"
        },
        "id": "pvMx3NIBBfns",
        "outputId": "b96158ed-5309-4de9-8fc3-a6d2a66b468f"
      },
      "execution_count": null,
      "outputs": [
        {
          "output_type": "stream",
          "name": "stdout",
          "text": [
            "4\n"
          ]
        }
      ]
    },
    {
      "cell_type": "code",
      "source": [
        "variable"
      ],
      "metadata": {
        "colab": {
          "base_uri": "https://localhost:8080/"
        },
        "id": "WZesEn9kBimX",
        "outputId": "d2bbc400-8014-4b88-e10a-b4cf57644438"
      },
      "execution_count": null,
      "outputs": [
        {
          "output_type": "execute_result",
          "data": {
            "text/plain": [
              "4"
            ]
          },
          "metadata": {},
          "execution_count": 3
        }
      ]
    },
    {
      "cell_type": "markdown",
      "source": [
        "Имена переменных удовлетворяют следующим правилам:\n",
        "\n",
        "- имя должно содержать только буквы, цифры и знаки нижнего подчеркивания (`_`)\n",
        "- имя должно начинаться только с буквы или нижнего подчеркивания"
      ],
      "metadata": {
        "id": "ejQosoa5vGdP"
      }
    },
    {
      "cell_type": "markdown",
      "source": [
        "**Примечания:**\n",
        "\n",
        "1. Имена переменных чувстсвительны к регистру - `age`, `Age` и `AGE` являются тремя разными именами\n",
        "2. Технически у вас есть возможность использовать не только буквы английского алфавита, но и русские, однако, так категорически не рекомендуется делать\n",
        "3. Советую называть переменные осмысленно, чтобы другой программист смог понять за что именно отвечает та или иная переменная"
      ],
      "metadata": {
        "id": "o6RopDqrvwXW"
      }
    },
    {
      "cell_type": "code",
      "source": [
        "привет = 10"
      ],
      "metadata": {
        "id": "9HSqAkGN78Dj"
      },
      "execution_count": null,
      "outputs": []
    },
    {
      "cell_type": "code",
      "source": [
        "print(привет)"
      ],
      "metadata": {
        "colab": {
          "base_uri": "https://localhost:8080/"
        },
        "id": "Qu6lv3HE7-Ca",
        "outputId": "af490e62-bea5-45b4-e353-fd1bf327e6e1"
      },
      "execution_count": null,
      "outputs": [
        {
          "output_type": "stream",
          "name": "stdout",
          "text": [
            "10\n"
          ]
        }
      ]
    },
    {
      "cell_type": "markdown",
      "source": [
        "Множественное присваивание:"
      ],
      "metadata": {
        "id": "EZrzyib1w0hv"
      }
    },
    {
      "cell_type": "code",
      "source": [
        "x = y = 500"
      ],
      "metadata": {
        "id": "JzRfyaEbgbXv"
      },
      "execution_count": null,
      "outputs": []
    },
    {
      "cell_type": "code",
      "source": [
        "x"
      ],
      "metadata": {
        "id": "3V5OHglcyGIk",
        "colab": {
          "base_uri": "https://localhost:8080/"
        },
        "outputId": "6189369f-6955-4d97-f28b-c20526b79e0b"
      },
      "execution_count": null,
      "outputs": [
        {
          "output_type": "execute_result",
          "data": {
            "text/plain": [
              "500"
            ]
          },
          "metadata": {},
          "execution_count": 7
        }
      ]
    },
    {
      "cell_type": "code",
      "source": [
        "y"
      ],
      "metadata": {
        "id": "9VZpA2TFyG3t",
        "colab": {
          "base_uri": "https://localhost:8080/"
        },
        "outputId": "38c8ee11-07e6-4d9c-b2c8-215d4757320c"
      },
      "execution_count": null,
      "outputs": [
        {
          "output_type": "execute_result",
          "data": {
            "text/plain": [
              "500"
            ]
          },
          "metadata": {},
          "execution_count": 8
        }
      ]
    },
    {
      "cell_type": "code",
      "source": [
        "x, y = 100, 300"
      ],
      "metadata": {
        "id": "sr0EaJzZgkH9"
      },
      "execution_count": null,
      "outputs": []
    },
    {
      "cell_type": "code",
      "source": [
        "x\n"
      ],
      "metadata": {
        "id": "M5paE_rEyOsb",
        "colab": {
          "base_uri": "https://localhost:8080/"
        },
        "outputId": "d87dce2b-3e1f-4aba-a4ce-22e64f358440"
      },
      "execution_count": null,
      "outputs": [
        {
          "output_type": "execute_result",
          "data": {
            "text/plain": [
              "100"
            ]
          },
          "metadata": {},
          "execution_count": 10
        }
      ]
    },
    {
      "cell_type": "code",
      "source": [
        "y"
      ],
      "metadata": {
        "id": "iAYcR-8uyPC4",
        "colab": {
          "base_uri": "https://localhost:8080/"
        },
        "outputId": "d37af4b7-5f80-4748-b6ab-27bd8770e31c"
      },
      "execution_count": null,
      "outputs": [
        {
          "output_type": "execute_result",
          "data": {
            "text/plain": [
              "300"
            ]
          },
          "metadata": {},
          "execution_count": 11
        }
      ]
    },
    {
      "cell_type": "markdown",
      "source": [
        "## Встроенная документация. Функция `help`"
      ],
      "metadata": {
        "id": "sRZr04xfyhiI"
      }
    },
    {
      "cell_type": "code",
      "source": [
        "help(print)"
      ],
      "metadata": {
        "colab": {
          "base_uri": "https://localhost:8080/"
        },
        "id": "pkT5k8pXJHnv",
        "outputId": "a669383c-504e-4966-9869-30039145cf53"
      },
      "execution_count": null,
      "outputs": [
        {
          "output_type": "stream",
          "name": "stdout",
          "text": [
            "Help on built-in function print in module builtins:\n",
            "\n",
            "print(...)\n",
            "    print(value, ..., sep=' ', end='\\n', file=sys.stdout, flush=False)\n",
            "    \n",
            "    Prints the values to a stream, or to sys.stdout by default.\n",
            "    Optional keyword arguments:\n",
            "    file:  a file-like object (stream); defaults to the current sys.stdout.\n",
            "    sep:   string inserted between values, default a space.\n",
            "    end:   string appended after the last value, default a newline.\n",
            "    flush: whether to forcibly flush the stream.\n",
            "\n"
          ]
        }
      ]
    },
    {
      "cell_type": "code",
      "source": [
        "print(x, y, x, sep='sep', end='end')"
      ],
      "metadata": {
        "colab": {
          "base_uri": "https://localhost:8080/"
        },
        "id": "iC40fTwtpLIZ",
        "outputId": "3e31d178-32d5-4d1f-aed9-9f5669cf23b7"
      },
      "execution_count": null,
      "outputs": [
        {
          "output_type": "stream",
          "name": "stdout",
          "text": [
            "100sep300sep100end"
          ]
        }
      ]
    },
    {
      "cell_type": "markdown",
      "metadata": {
        "pycharm": {
          "name": "#%% md\n"
        },
        "id": "3D67e32squBK"
      },
      "source": [
        "## Базовая арифметика"
      ]
    },
    {
      "cell_type": "markdown",
      "source": [
        "`+`, `-`, `*`, `/` - простейшие операции"
      ],
      "metadata": {
        "id": "pzTNDYEsTUUc"
      }
    },
    {
      "cell_type": "code",
      "source": [
        "(1 + 6) / 4 - 2 * 3"
      ],
      "metadata": {
        "colab": {
          "base_uri": "https://localhost:8080/"
        },
        "id": "fy29Z8xKTWcZ",
        "outputId": "87948a33-04f0-4cc3-f172-a5efaee610a6"
      },
      "execution_count": null,
      "outputs": [
        {
          "output_type": "execute_result",
          "data": {
            "text/plain": [
              "-4.25"
            ]
          },
          "metadata": {},
          "execution_count": 14
        }
      ]
    },
    {
      "cell_type": "markdown",
      "source": [
        "`//`, `%` - целочисленное деление и остаток от деления"
      ],
      "metadata": {
        "id": "05o3uWZfTgZL"
      }
    },
    {
      "cell_type": "code",
      "source": [
        "45 // 6, 45 % 6"
      ],
      "metadata": {
        "colab": {
          "base_uri": "https://localhost:8080/"
        },
        "id": "QRCvm8j0TkXr",
        "outputId": "429e9ab0-7238-4b72-e12b-0bd31825ab4b"
      },
      "execution_count": null,
      "outputs": [
        {
          "output_type": "execute_result",
          "data": {
            "text/plain": [
              "(7, 3)"
            ]
          },
          "metadata": {},
          "execution_count": 15
        }
      ]
    },
    {
      "cell_type": "markdown",
      "source": [
        "`**` - возведение в степень"
      ],
      "metadata": {
        "id": "U8_S79e6Tpi4"
      }
    },
    {
      "cell_type": "code",
      "execution_count": null,
      "metadata": {
        "pycharm": {
          "name": "#%%\n"
        },
        "colab": {
          "base_uri": "https://localhost:8080/"
        },
        "id": "-SaGO590quBK",
        "outputId": "5199fcd0-c012-4f7f-8199-099c15b7ce8f"
      },
      "outputs": [
        {
          "output_type": "execute_result",
          "data": {
            "text/plain": [
              "1024"
            ]
          },
          "metadata": {},
          "execution_count": 16
        }
      ],
      "source": [
        "2 ** 10"
      ]
    },
    {
      "cell_type": "markdown",
      "source": [
        "Комбинация арифметики и стандартного оператора присваивания\\*:"
      ],
      "metadata": {
        "id": "YeTm02SWfuLe"
      }
    },
    {
      "cell_type": "code",
      "source": [
        "a = 1900\n",
        "a += 1   # a = a + 1\n",
        "a -= 2   # a = a - 2\n",
        "a *= 3   # a = a * 3\n",
        "a /= 4   # a = a / 4\n",
        "a //= 2  # a = a // 2\n",
        "a **= 2  # a = a ** 2\n",
        "a %= 6   # a = a % 6"
      ],
      "metadata": {
        "id": "sjlmU5i3gCDB"
      },
      "execution_count": null,
      "outputs": []
    },
    {
      "cell_type": "markdown",
      "metadata": {
        "pycharm": {
          "name": "#%% md\n"
        },
        "id": "x5GZRycoquBJ"
      },
      "source": [
        "# Базовые типы данных. Интересное"
      ]
    },
    {
      "cell_type": "markdown",
      "source": [
        "## `int`"
      ],
      "metadata": {
        "id": "wCqikhxsK5SM"
      }
    },
    {
      "cell_type": "markdown",
      "source": [
        "Длинная арифметика (подробнее [тут](https://www.codementor.io/@arpitbhayani/how-python-implements-super-long-integers-12icwon5vk)):"
      ],
      "metadata": {
        "id": "ixIAvJFpLa_i"
      }
    },
    {
      "cell_type": "code",
      "source": [
        "a = 2 ** 10000"
      ],
      "metadata": {
        "id": "iJQ89T5qLhF5"
      },
      "execution_count": null,
      "outputs": []
    },
    {
      "cell_type": "code",
      "source": [
        "a"
      ],
      "metadata": {
        "colab": {
          "base_uri": "https://localhost:8080/"
        },
        "id": "7W810u72_Zi_",
        "outputId": "147e7656-23fe-4c43-ff38-95f7e7f0bb50"
      },
      "execution_count": null,
      "outputs": [
        {
          "output_type": "execute_result",
          "data": {
            "text/plain": [
              "19950631168807583848837421626835850838234968318861924548520089498529438830221946631919961684036194597899331129423209124271556491349413781117593785932096323957855730046793794526765246551266059895520550086918193311542508608460618104685509074866089624888090489894838009253941633257850621568309473902556912388065225096643874441046759871626985453222868538161694315775629640762836880760732228535091641476183956381458969463899410840960536267821064621427333394036525565649530603142680234969400335934316651459297773279665775606172582031407994198179607378245683762280037302885487251900834464581454650557929601414833921615734588139257095379769119277800826957735674444123062018757836325502728323789270710373802866393031428133241401624195671690574061419654342324638801248856147305207431992259611796250130992860241708340807605932320161268492288496255841312844061536738951487114256315111089745514203313820202931640957596464756010405845841566072044962867016515061920631004186422275908670900574606417856951911456055068251250406007519842261898059237118054444788072906395242548339221982707404473162376760846613033778706039803413197133493654622700563169937455508241780972810983291314403571877524768509857276937926433221599399876886660808368837838027643282775172273657572744784112294389733810861607423253291974813120197604178281965697475898164531258434135959862784130128185406283476649088690521047580882615823961985770122407044330583075869039319604603404973156583208672105913300903752823415539745394397715257455290510212310947321610753474825740775273986348298498340756937955646638621874569499279016572103701364433135817214311791398222983845847334440270964182851005072927748364550578634501100852987812389473928699540834346158807043959118985815145779177143619698728131459483783202081474982171858011389071228250905826817436220577475921417653715687725614904582904992461028630081535583308130101987675856234343538955409175623400844887526162643568648833519463720377293240094456246923254350400678027273837755376406726898636241037491410966718557050759098100246789880178271925953381282421954028302759408448955014676668389697996886241636313376393903373455801407636741877711055384225739499110186468219696581651485130494222369947714763069155468217682876200362777257723781365331611196811280792669481887201298643660768551639860534602297871557517947385246369446923087894265948217008051120322365496288169035739121368338393591756418733850510970271613915439590991598154654417336311656936031122249937969999226781732358023111862644575299135758175008199839236284615249881088960232244362173771618086357015468484058622329792853875623486556440536962622018963571028812361567512543338303270029097668650568557157505516727518899194129711337690149916181315171544007728650573189557450920330185304847113818315407324053319038462084036421763703911550639789000742853672196280903477974533320468368795868580237952218629120080742819551317948157624448298518461509704888027274721574688131594750409732115080498190455803416826949787141316063210686391511681774304792596709376"
            ]
          },
          "metadata": {},
          "execution_count": 18
        }
      ]
    },
    {
      "cell_type": "code",
      "source": [
        "a + 1"
      ],
      "metadata": {
        "colab": {
          "base_uri": "https://localhost:8080/"
        },
        "id": "QQQYu2xrgKzn",
        "outputId": "21086193-91ab-440f-b8cb-99f103fcb479"
      },
      "execution_count": null,
      "outputs": [
        {
          "output_type": "execute_result",
          "data": {
            "text/plain": [
              "19950631168807583848837421626835850838234968318861924548520089498529438830221946631919961684036194597899331129423209124271556491349413781117593785932096323957855730046793794526765246551266059895520550086918193311542508608460618104685509074866089624888090489894838009253941633257850621568309473902556912388065225096643874441046759871626985453222868538161694315775629640762836880760732228535091641476183956381458969463899410840960536267821064621427333394036525565649530603142680234969400335934316651459297773279665775606172582031407994198179607378245683762280037302885487251900834464581454650557929601414833921615734588139257095379769119277800826957735674444123062018757836325502728323789270710373802866393031428133241401624195671690574061419654342324638801248856147305207431992259611796250130992860241708340807605932320161268492288496255841312844061536738951487114256315111089745514203313820202931640957596464756010405845841566072044962867016515061920631004186422275908670900574606417856951911456055068251250406007519842261898059237118054444788072906395242548339221982707404473162376760846613033778706039803413197133493654622700563169937455508241780972810983291314403571877524768509857276937926433221599399876886660808368837838027643282775172273657572744784112294389733810861607423253291974813120197604178281965697475898164531258434135959862784130128185406283476649088690521047580882615823961985770122407044330583075869039319604603404973156583208672105913300903752823415539745394397715257455290510212310947321610753474825740775273986348298498340756937955646638621874569499279016572103701364433135817214311791398222983845847334440270964182851005072927748364550578634501100852987812389473928699540834346158807043959118985815145779177143619698728131459483783202081474982171858011389071228250905826817436220577475921417653715687725614904582904992461028630081535583308130101987675856234343538955409175623400844887526162643568648833519463720377293240094456246923254350400678027273837755376406726898636241037491410966718557050759098100246789880178271925953381282421954028302759408448955014676668389697996886241636313376393903373455801407636741877711055384225739499110186468219696581651485130494222369947714763069155468217682876200362777257723781365331611196811280792669481887201298643660768551639860534602297871557517947385246369446923087894265948217008051120322365496288169035739121368338393591756418733850510970271613915439590991598154654417336311656936031122249937969999226781732358023111862644575299135758175008199839236284615249881088960232244362173771618086357015468484058622329792853875623486556440536962622018963571028812361567512543338303270029097668650568557157505516727518899194129711337690149916181315171544007728650573189557450920330185304847113818315407324053319038462084036421763703911550639789000742853672196280903477974533320468368795868580237952218629120080742819551317948157624448298518461509704888027274721574688131594750409732115080498190455803416826949787141316063210686391511681774304792596709377"
            ]
          },
          "metadata": {},
          "execution_count": 19
        }
      ]
    },
    {
      "cell_type": "code",
      "source": [
        "type(a)"
      ],
      "metadata": {
        "colab": {
          "base_uri": "https://localhost:8080/"
        },
        "id": "EIO_90Kn_cko",
        "outputId": "dc674548-28e9-4a4a-d4a2-4f30687a66c0"
      },
      "execution_count": null,
      "outputs": [
        {
          "output_type": "execute_result",
          "data": {
            "text/plain": [
              "int"
            ]
          },
          "metadata": {},
          "execution_count": 20
        }
      ]
    },
    {
      "cell_type": "markdown",
      "metadata": {
        "pycharm": {
          "name": "#%% md\n"
        },
        "id": "uhUpRZlGquBL"
      },
      "source": [
        "Удобная форма записи длинных целых чисел:"
      ]
    },
    {
      "cell_type": "code",
      "execution_count": null,
      "metadata": {
        "pycharm": {
          "name": "#%%\n"
        },
        "colab": {
          "base_uri": "https://localhost:8080/"
        },
        "id": "hyttf-LsquBL",
        "outputId": "13408e67-f12b-4d89-9d45-eaa49a4c925a"
      },
      "outputs": [
        {
          "output_type": "execute_result",
          "data": {
            "text/plain": [
              "100000000"
            ]
          },
          "metadata": {},
          "execution_count": 43
        }
      ],
      "source": [
        "100_000_000"
      ]
    },
    {
      "cell_type": "markdown",
      "source": [
        "## `float`"
      ],
      "metadata": {
        "id": "x2xbjSRvL1KH"
      }
    },
    {
      "cell_type": "markdown",
      "source": [
        "Экспоненциальная форма записи:"
      ],
      "metadata": {
        "id": "Adx0EVDgzwlk"
      }
    },
    {
      "cell_type": "code",
      "source": [
        "1.5e-12 # 1.5 * 10 ** (-12) == 0.00...0015"
      ],
      "metadata": {
        "colab": {
          "base_uri": "https://localhost:8080/"
        },
        "outputId": "1e553668-88ea-4796-bbbc-4df9bcef0d99",
        "id": "sOEz6gXHzvaN"
      },
      "execution_count": null,
      "outputs": [
        {
          "output_type": "execute_result",
          "data": {
            "text/plain": [
              "1.5e-12"
            ]
          },
          "metadata": {},
          "execution_count": 48
        }
      ]
    },
    {
      "cell_type": "markdown",
      "metadata": {
        "pycharm": {
          "name": "#%% md\n"
        },
        "id": "zjWOgOzZquBK"
      },
      "source": [
        "Спец. значения:"
      ]
    },
    {
      "cell_type": "code",
      "execution_count": null,
      "metadata": {
        "pycharm": {
          "name": "#%%\n"
        },
        "colab": {
          "base_uri": "https://localhost:8080/"
        },
        "id": "JSvnW2jEquBK",
        "outputId": "f9450627-15b8-4526-ba3e-82b8d68c534d"
      },
      "outputs": [
        {
          "output_type": "execute_result",
          "data": {
            "text/plain": [
              "(inf, inf, inf)"
            ]
          },
          "metadata": {},
          "execution_count": 86
        }
      ],
      "source": [
        "float('inf'), 2 * float('inf'), float('inf') + 1000000"
      ]
    },
    {
      "cell_type": "code",
      "source": [
        "float('-inf'), 2 * float('-inf'), float('-inf') + 1000000"
      ],
      "metadata": {
        "colab": {
          "base_uri": "https://localhost:8080/"
        },
        "id": "fDQW1BfjUk-u",
        "outputId": "602fea85-4b90-437b-9900-b8031bf902fe"
      },
      "execution_count": null,
      "outputs": [
        {
          "output_type": "execute_result",
          "data": {
            "text/plain": [
              "(-inf, -inf, -inf)"
            ]
          },
          "metadata": {},
          "execution_count": 87
        }
      ]
    },
    {
      "cell_type": "code",
      "source": [
        "float('Inf') - float('Inf')"
      ],
      "metadata": {
        "colab": {
          "base_uri": "https://localhost:8080/"
        },
        "id": "5HWxiIloUmei",
        "outputId": "b28bd7fc-5088-452c-be1b-e895d83b6e47"
      },
      "execution_count": null,
      "outputs": [
        {
          "output_type": "execute_result",
          "data": {
            "text/plain": [
              "nan"
            ]
          },
          "metadata": {},
          "execution_count": 88
        }
      ]
    },
    {
      "cell_type": "markdown",
      "source": [
        "`float` основан на `double` из C -> есть ограничения по допустимым значениям:"
      ],
      "metadata": {
        "id": "7O-UW7OmL4wR"
      }
    },
    {
      "cell_type": "code",
      "source": [
        "from sys import float_info\n",
        "\n",
        "precision = float_info.min * float_info.epsilon\n",
        "max_value = float_info.max"
      ],
      "metadata": {
        "id": "7Z8BRnThMnHf"
      },
      "execution_count": null,
      "outputs": []
    },
    {
      "cell_type": "code",
      "source": [
        "print(max_value, max_value * 2)"
      ],
      "metadata": {
        "colab": {
          "base_uri": "https://localhost:8080/"
        },
        "id": "1x58XjL8MDbw",
        "outputId": "c9117273-7723-4ae4-be89-37b8fdcdc756"
      },
      "execution_count": null,
      "outputs": [
        {
          "output_type": "stream",
          "name": "stdout",
          "text": [
            "1.7976931348623157e+308 inf\n"
          ]
        }
      ]
    },
    {
      "cell_type": "code",
      "source": [
        "print(precision, precision / 2)"
      ],
      "metadata": {
        "colab": {
          "base_uri": "https://localhost:8080/"
        },
        "id": "mM0dQIuEMTtU",
        "outputId": "8e6afa5c-4ace-4830-9b13-cf4f9e9f16a6"
      },
      "execution_count": null,
      "outputs": [
        {
          "output_type": "stream",
          "name": "stdout",
          "text": [
            "5e-324 0.0\n"
          ]
        }
      ]
    },
    {
      "cell_type": "markdown",
      "source": [
        "Округление в Python - `round`, по правилу [\"округления банкира\"](https://ru.wikipedia.org/wiki/%D0%9E%D0%BA%D1%80%D1%83%D0%B3%D0%BB%D0%B5%D0%BD%D0%B8%D0%B5#:~:text=banker's%20rounding%20%E2%80%94%20%C2%AB%D0%BE%D0%BA%D1%80%D1%83%D0%B3%D0%BB%D0%B5%D0%BD%D0%B8%D0%B5%20%D0%B1%D0%B0%D0%BD%D0%BA%D0%B8%D1%80%D0%B0%C2%BB,(%D0%BC%D0%BE%D0%B6%D0%B5%D1%82%20%D0%B8%D1%81%D0%BF%D0%BE%D0%BB%D1%8C%D0%B7%D0%BE%D0%B2%D0%B0%D1%82%D1%8C%D1%81%D1%8F%20%D0%B2%20%D1%81%D1%82%D0%B0%D1%82%D0%B8%D1%81%D1%82%D0%B8%D0%BA%D0%B5)) (до ближайшего четного числа):"
      ],
      "metadata": {
        "id": "jdpYshXyB722"
      }
    },
    {
      "cell_type": "code",
      "source": [
        "round(0.3)"
      ],
      "metadata": {
        "id": "h66lj6_TCBo7",
        "colab": {
          "base_uri": "https://localhost:8080/"
        },
        "outputId": "e9e22f83-3b0b-4db8-940b-ca8b0c318743"
      },
      "execution_count": null,
      "outputs": [
        {
          "output_type": "execute_result",
          "data": {
            "text/plain": [
              "0"
            ]
          },
          "metadata": {},
          "execution_count": 50
        }
      ]
    },
    {
      "cell_type": "code",
      "source": [
        "round(0.5)"
      ],
      "metadata": {
        "colab": {
          "base_uri": "https://localhost:8080/"
        },
        "id": "U6aJIwzBCgqS",
        "outputId": "f60c42df-55f8-4221-d016-10abfe479888"
      },
      "execution_count": null,
      "outputs": [
        {
          "output_type": "execute_result",
          "data": {
            "text/plain": [
              "0"
            ]
          },
          "metadata": {},
          "execution_count": 51
        }
      ]
    },
    {
      "cell_type": "code",
      "source": [
        "round(1.5)"
      ],
      "metadata": {
        "colab": {
          "base_uri": "https://localhost:8080/"
        },
        "id": "VIc6pvZ5Cica",
        "outputId": "41b9cb97-372b-43c5-9d9c-045668f1cc00"
      },
      "execution_count": null,
      "outputs": [
        {
          "output_type": "execute_result",
          "data": {
            "text/plain": [
              "2"
            ]
          },
          "metadata": {},
          "execution_count": 52
        }
      ]
    },
    {
      "cell_type": "markdown",
      "source": [
        "Дополнительно можно указать до какого знака стоит округлять:"
      ],
      "metadata": {
        "id": "Rs8ZgYYaC7Ac"
      }
    },
    {
      "cell_type": "code",
      "source": [
        "round(3.1415, 2)"
      ],
      "metadata": {
        "colab": {
          "base_uri": "https://localhost:8080/"
        },
        "id": "drjsrHoZDAO0",
        "outputId": "2aa2ce57-2d67-41cc-de93-52b0bddec6da"
      },
      "execution_count": null,
      "outputs": [
        {
          "output_type": "execute_result",
          "data": {
            "text/plain": [
              "3.14"
            ]
          },
          "metadata": {},
          "execution_count": 21
        }
      ]
    },
    {
      "cell_type": "markdown",
      "source": [
        "Арифметика с плавающей точкой:"
      ],
      "metadata": {
        "id": "MW95N-300wjY"
      }
    },
    {
      "cell_type": "code",
      "source": [
        "0.1 + 0.2"
      ],
      "metadata": {
        "colab": {
          "base_uri": "https://localhost:8080/"
        },
        "id": "ux6nVNJhfkSp",
        "outputId": "36ddd972-7dd6-4dc3-809b-ddb2bd7cfa9e"
      },
      "execution_count": null,
      "outputs": [
        {
          "output_type": "execute_result",
          "data": {
            "text/plain": [
              "0.30000000000000004"
            ]
          },
          "metadata": {},
          "execution_count": 53
        }
      ]
    },
    {
      "cell_type": "markdown",
      "source": [
        "Этого пугаться не стоит, такое поведение свойственно всем языкам программировани."
      ],
      "metadata": {
        "id": "dTgsrulA1KIm"
      }
    },
    {
      "cell_type": "markdown",
      "source": [
        "Подробнее про числа с плавающей точкой - https://0.30000000000000004.com/"
      ],
      "metadata": {
        "id": "CyrToMtw_nXu"
      }
    },
    {
      "cell_type": "markdown",
      "source": [
        "## `complex`"
      ],
      "metadata": {
        "id": "u1MBAEA3OGrk"
      }
    },
    {
      "cell_type": "markdown",
      "source": [
        "`complex` - тип для работы с комплексными числами. Мнимая часть описывается с помощью символа `j` (вместо `i` в математике):"
      ],
      "metadata": {
        "id": "ZObdoCD4K9Aw"
      }
    },
    {
      "cell_type": "code",
      "source": [
        "2 + 3j, type(2 + 3j)"
      ],
      "metadata": {
        "colab": {
          "base_uri": "https://localhost:8080/"
        },
        "id": "YqvJgBH-LGoL",
        "outputId": "ca1de840-7dfd-4a9c-c835-27ef58a78d0a"
      },
      "execution_count": null,
      "outputs": [
        {
          "output_type": "execute_result",
          "data": {
            "text/plain": [
              "((2+3j), complex)"
            ]
          },
          "metadata": {},
          "execution_count": 54
        }
      ]
    },
    {
      "cell_type": "code",
      "source": [
        "(2 + 3j) * (2 + 3j)"
      ],
      "metadata": {
        "colab": {
          "base_uri": "https://localhost:8080/"
        },
        "id": "47CwQ_Z8fUGY",
        "outputId": "1ab6d14f-b33e-4309-872f-172c5b259a45"
      },
      "execution_count": null,
      "outputs": [
        {
          "output_type": "execute_result",
          "data": {
            "text/plain": [
              "(-5+12j)"
            ]
          },
          "metadata": {},
          "execution_count": 55
        }
      ]
    },
    {
      "cell_type": "markdown",
      "source": [
        "## `bool`"
      ],
      "metadata": {
        "id": "4-cFglQgOhqe"
      }
    },
    {
      "cell_type": "markdown",
      "source": [
        " Тип `bool` является подтипом `int`, поэтому между ними возможны операции сравнения без явного приведения типов:"
      ],
      "metadata": {
        "id": "HXyR22m7O1I2"
      }
    },
    {
      "cell_type": "code",
      "source": [
        "True == 1"
      ],
      "metadata": {
        "colab": {
          "base_uri": "https://localhost:8080/"
        },
        "id": "0UVhCf3CO5NA",
        "outputId": "2a2e891b-2cd5-4377-a56c-56c3a5cc0e0f"
      },
      "execution_count": null,
      "outputs": [
        {
          "output_type": "execute_result",
          "data": {
            "text/plain": [
              "True"
            ]
          },
          "metadata": {},
          "execution_count": 76
        }
      ]
    },
    {
      "cell_type": "code",
      "source": [
        "True > 2"
      ],
      "metadata": {
        "colab": {
          "base_uri": "https://localhost:8080/"
        },
        "id": "sjTom5QYPUY3",
        "outputId": "88126341-67c5-4fd1-9003-76a0adfc45fd"
      },
      "execution_count": null,
      "outputs": [
        {
          "output_type": "execute_result",
          "data": {
            "text/plain": [
              "False"
            ]
          },
          "metadata": {},
          "execution_count": 78
        }
      ]
    },
    {
      "cell_type": "markdown",
      "source": [
        "## str"
      ],
      "metadata": {
        "id": "Nn2y5XJnPbUc"
      }
    },
    {
      "cell_type": "markdown",
      "source": [
        "Выделяется двойными или одинарными кавычками (открывающая и закрывающая должны быть одинаковы!):"
      ],
      "metadata": {
        "id": "fzNDbBtxWIpu"
      }
    },
    {
      "cell_type": "code",
      "source": [
        "'abc'"
      ],
      "metadata": {
        "colab": {
          "base_uri": "https://localhost:8080/",
          "height": 36
        },
        "id": "dYXjeidaWIOo",
        "outputId": "2161ae8a-016b-4951-9d75-c86c9e76a5a7"
      },
      "execution_count": null,
      "outputs": [
        {
          "output_type": "execute_result",
          "data": {
            "text/plain": [
              "'abc'"
            ],
            "application/vnd.google.colaboratory.intrinsic+json": {
              "type": "string"
            }
          },
          "metadata": {},
          "execution_count": 22
        }
      ]
    },
    {
      "cell_type": "code",
      "source": [
        "\"abc\""
      ],
      "metadata": {
        "colab": {
          "base_uri": "https://localhost:8080/",
          "height": 36
        },
        "id": "6zSe1uGlFPMb",
        "outputId": "0cb629bc-2d2b-44a3-d483-b12d2d421f2b"
      },
      "execution_count": null,
      "outputs": [
        {
          "output_type": "execute_result",
          "data": {
            "text/plain": [
              "'abc'"
            ],
            "application/vnd.google.colaboratory.intrinsic+json": {
              "type": "string"
            }
          },
          "metadata": {},
          "execution_count": 23
        }
      ]
    },
    {
      "cell_type": "code",
      "source": [
        "'abc\""
      ],
      "metadata": {
        "colab": {
          "base_uri": "https://localhost:8080/",
          "height": 133
        },
        "id": "-AeA8_U8WLZl",
        "outputId": "89b15ded-7e8e-47c7-ecc1-1ace742cca0b"
      },
      "execution_count": null,
      "outputs": [
        {
          "output_type": "error",
          "ename": "SyntaxError",
          "evalue": "ignored",
          "traceback": [
            "\u001b[0;36m  File \u001b[0;32m\"<ipython-input-73-2e69c44e7191>\"\u001b[0;36m, line \u001b[0;32m1\u001b[0m\n\u001b[0;31m    'abc\"\u001b[0m\n\u001b[0m         ^\u001b[0m\n\u001b[0;31mSyntaxError\u001b[0m\u001b[0;31m:\u001b[0m EOL while scanning string literal\n"
          ]
        }
      ]
    },
    {
      "cell_type": "markdown",
      "source": [
        "В Python также возможны многострочные строки (multiline string):"
      ],
      "metadata": {
        "id": "5gtL4eHJV7Mc"
      }
    },
    {
      "cell_type": "code",
      "source": [
        "string = \"\"\"и\n",
        "я\n",
        "тоже\n",
        "строка\"\"\"\n",
        "print(string)"
      ],
      "metadata": {
        "id": "0ZbWqEXOV_2R",
        "colab": {
          "base_uri": "https://localhost:8080/"
        },
        "outputId": "d2054d3a-dacc-4105-b1cd-96e0c56f1173"
      },
      "execution_count": null,
      "outputs": [
        {
          "output_type": "stream",
          "name": "stdout",
          "text": [
            "и\n",
            "я\n",
            "тоже\n",
            "строка\n"
          ]
        }
      ]
    },
    {
      "cell_type": "markdown",
      "source": [
        "Кроме того, в Python (как и во многих других ЯП) имеются комментарии - строки кода, которые игнорируются при запуске программы. Однострочные комменатарии начинаются с `#`:"
      ],
      "metadata": {
        "id": "j_1x2HohWRhW"
      }
    },
    {
      "cell_type": "code",
      "source": [
        "# Я однострочный комментарий"
      ],
      "metadata": {
        "id": "4vxTAlHEWmH-"
      },
      "execution_count": null,
      "outputs": []
    },
    {
      "cell_type": "code",
      "source": [
        "print('a')\n",
        "\"\"\"\n",
        "print('a')\n",
        "print('a')\n",
        "print('a')\n",
        "\"\"\"\n",
        "print('a')"
      ],
      "metadata": {
        "colab": {
          "base_uri": "https://localhost:8080/"
        },
        "id": "q0_WM97DxW3r",
        "outputId": "48c94053-c96d-4c7c-b86b-637fed8fee20"
      },
      "execution_count": null,
      "outputs": [
        {
          "output_type": "stream",
          "name": "stdout",
          "text": [
            "a\n",
            "a\n"
          ]
        }
      ]
    },
    {
      "cell_type": "markdown",
      "source": [
        "Строки можно складывать, строку можно домножать на целое число, можно проверять вхождение подстроки в строку:"
      ],
      "metadata": {
        "id": "MqI8MTWdW7BK"
      }
    },
    {
      "cell_type": "code",
      "source": [
        "s1 = \"very_big_string\"\n",
        "s2 = 'string'"
      ],
      "metadata": {
        "id": "4z0UnYB9W-2o"
      },
      "execution_count": null,
      "outputs": []
    },
    {
      "cell_type": "code",
      "source": [
        "s1 + s2"
      ],
      "metadata": {
        "colab": {
          "base_uri": "https://localhost:8080/",
          "height": 35
        },
        "id": "miCTj92iXFnL",
        "outputId": "743986ea-a41a-4997-930b-00be2f2d0604"
      },
      "execution_count": null,
      "outputs": [
        {
          "output_type": "execute_result",
          "data": {
            "text/plain": [
              "'very_big_stringstring'"
            ],
            "application/vnd.google.colaboratory.intrinsic+json": {
              "type": "string"
            }
          },
          "metadata": {},
          "execution_count": 18
        }
      ]
    },
    {
      "cell_type": "code",
      "source": [
        "s2 * 4"
      ],
      "metadata": {
        "colab": {
          "base_uri": "https://localhost:8080/",
          "height": 35
        },
        "id": "J22ccffPXHUs",
        "outputId": "984af4c4-0d87-4060-842b-08837c0732f3"
      },
      "execution_count": null,
      "outputs": [
        {
          "output_type": "execute_result",
          "data": {
            "text/plain": [
              "'stringstringstringstring'"
            ],
            "application/vnd.google.colaboratory.intrinsic+json": {
              "type": "string"
            }
          },
          "metadata": {},
          "execution_count": 19
        }
      ]
    },
    {
      "cell_type": "code",
      "source": [
        "s2 in s1"
      ],
      "metadata": {
        "id": "Lg6MNei92Tc8",
        "colab": {
          "base_uri": "https://localhost:8080/"
        },
        "outputId": "52eddc2c-e7da-497b-d389-9531facc185c"
      },
      "execution_count": null,
      "outputs": [
        {
          "output_type": "execute_result",
          "data": {
            "text/plain": [
              "True"
            ]
          },
          "metadata": {},
          "execution_count": 82
        }
      ]
    },
    {
      "cell_type": "markdown",
      "source": [
        "## NoneType"
      ],
      "metadata": {
        "id": "ZGiEswGhQeGL"
      }
    },
    {
      "cell_type": "markdown",
      "source": [
        "`NoneType` - специальный тип данных для объекта `None`:"
      ],
      "metadata": {
        "id": "wT1hHabmLBYg"
      }
    },
    {
      "cell_type": "code",
      "source": [
        "None, type(None)"
      ],
      "metadata": {
        "colab": {
          "base_uri": "https://localhost:8080/"
        },
        "id": "476Z_U2FLLX7",
        "outputId": "71b42acf-d51c-44b3-c9dd-00eb418282ef"
      },
      "execution_count": null,
      "outputs": [
        {
          "output_type": "execute_result",
          "data": {
            "text/plain": [
              "(None, NoneType)"
            ]
          },
          "metadata": {},
          "execution_count": 42
        }
      ]
    },
    {
      "cell_type": "markdown",
      "source": [
        "`None` - специальное значение переменной, означающее \"ничего\" или \"отсутствие значения\". Является аналогом `null` из других языков программирования.\n",
        "\n",
        "Для анализа данных важно отличать пустое/нулевое значение (данные есть, но пустое/нулевое) от пропущенного значения (данных нет)."
      ],
      "metadata": {
        "id": "bQI8iZ7oRmap"
      }
    },
    {
      "cell_type": "markdown",
      "source": [
        "![image.png](data:image/png;base64,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)"
      ],
      "metadata": {
        "id": "hJ6Np_9pWB3C"
      }
    },
    {
      "cell_type": "markdown",
      "source": [
        "## Приведение базовых типов"
      ],
      "metadata": {
        "id": "DzNfL3WN5fG5"
      }
    },
    {
      "cell_type": "markdown",
      "source": [
        "Базовые типы данных часто можно преобразовывать из одного в другой следующим образом:"
      ],
      "metadata": {
        "id": "N2bmfcZK5jEP"
      }
    },
    {
      "cell_type": "code",
      "source": [
        "int('123')"
      ],
      "metadata": {
        "colab": {
          "base_uri": "https://localhost:8080/"
        },
        "id": "y77NBqp55ooB",
        "outputId": "57452ad4-275b-4dea-c6ed-d67644ab1a0f"
      },
      "execution_count": null,
      "outputs": [
        {
          "output_type": "execute_result",
          "data": {
            "text/plain": [
              "123"
            ]
          },
          "metadata": {},
          "execution_count": 20
        }
      ]
    },
    {
      "cell_type": "code",
      "source": [
        "str(345)"
      ],
      "metadata": {
        "colab": {
          "base_uri": "https://localhost:8080/",
          "height": 35
        },
        "id": "8N8qX3Lm5uz3",
        "outputId": "5785ec4e-aae6-4a2f-87bd-8a00173d282d"
      },
      "execution_count": null,
      "outputs": [
        {
          "output_type": "execute_result",
          "data": {
            "text/plain": [
              "'345'"
            ],
            "application/vnd.google.colaboratory.intrinsic+json": {
              "type": "string"
            }
          },
          "metadata": {},
          "execution_count": 21
        }
      ]
    },
    {
      "cell_type": "code",
      "source": [
        "float(5)"
      ],
      "metadata": {
        "colab": {
          "base_uri": "https://localhost:8080/"
        },
        "id": "bFBKKdcb7CM4",
        "outputId": "3f547ab1-92a1-4a2a-92b0-c652cb1ac11f"
      },
      "execution_count": null,
      "outputs": [
        {
          "output_type": "execute_result",
          "data": {
            "text/plain": [
              "5.0"
            ]
          },
          "metadata": {},
          "execution_count": 22
        }
      ]
    },
    {
      "cell_type": "code",
      "source": [
        "int(234.5)"
      ],
      "metadata": {
        "colab": {
          "base_uri": "https://localhost:8080/"
        },
        "id": "PU5cD0tm7Dh3",
        "outputId": "883654e6-bb4b-4664-f05c-c9f4c62c9641"
      },
      "execution_count": null,
      "outputs": [
        {
          "output_type": "execute_result",
          "data": {
            "text/plain": [
              "234"
            ]
          },
          "metadata": {},
          "execution_count": 23
        }
      ]
    },
    {
      "cell_type": "markdown",
      "source": [
        "**Замечание:** при преобразовании переменной из `float` в `int` дробная часть отбрасывается:"
      ],
      "metadata": {
        "id": "6sxqOLyrDNz1"
      }
    },
    {
      "cell_type": "code",
      "source": [
        "int(3.14)"
      ],
      "metadata": {
        "colab": {
          "base_uri": "https://localhost:8080/"
        },
        "id": "hsDTyrL5DUof",
        "outputId": "19445ced-4af7-4a20-c776-bd91203b63dc"
      },
      "execution_count": null,
      "outputs": [
        {
          "output_type": "execute_result",
          "data": {
            "text/plain": [
              "3"
            ]
          },
          "metadata": {},
          "execution_count": 24
        }
      ]
    },
    {
      "cell_type": "code",
      "source": [
        "int(-3.14)"
      ],
      "metadata": {
        "colab": {
          "base_uri": "https://localhost:8080/"
        },
        "id": "rHPWUjrcDZma",
        "outputId": "4d2c9d94-2ec3-464d-a6dd-09594c821b01"
      },
      "execution_count": null,
      "outputs": [
        {
          "output_type": "execute_result",
          "data": {
            "text/plain": [
              "-3"
            ]
          },
          "metadata": {},
          "execution_count": 25
        }
      ]
    },
    {
      "cell_type": "code",
      "source": [
        "int(2.73)"
      ],
      "metadata": {
        "colab": {
          "base_uri": "https://localhost:8080/"
        },
        "id": "H345CqvQDXZ8",
        "outputId": "44f9d4b1-0afc-4357-8ebb-f07544d357bd"
      },
      "execution_count": null,
      "outputs": [
        {
          "output_type": "execute_result",
          "data": {
            "text/plain": [
              "2"
            ]
          },
          "metadata": {},
          "execution_count": 26
        }
      ]
    },
    {
      "cell_type": "markdown",
      "source": [
        "Но преобразование не всегда возможно:"
      ],
      "metadata": {
        "id": "H9RyTfaL8M_y"
      }
    },
    {
      "cell_type": "code",
      "source": [
        "float('12.a')"
      ],
      "metadata": {
        "colab": {
          "base_uri": "https://localhost:8080/",
          "height": 176
        },
        "id": "K8gpN4pT7FSk",
        "outputId": "8fd234c4-9a4d-4a1a-9180-f4a50068a30c"
      },
      "execution_count": null,
      "outputs": [
        {
          "output_type": "error",
          "ename": "ValueError",
          "evalue": "ignored",
          "traceback": [
            "\u001b[0;31m---------------------------------------------------------------------------\u001b[0m",
            "\u001b[0;31mValueError\u001b[0m                                Traceback (most recent call last)",
            "\u001b[0;32m<ipython-input-27-9e100896e350>\u001b[0m in \u001b[0;36m<cell line: 1>\u001b[0;34m()\u001b[0m\n\u001b[0;32m----> 1\u001b[0;31m \u001b[0mfloat\u001b[0m\u001b[0;34m(\u001b[0m\u001b[0;34m'12.a'\u001b[0m\u001b[0;34m)\u001b[0m\u001b[0;34m\u001b[0m\u001b[0;34m\u001b[0m\u001b[0m\n\u001b[0m",
            "\u001b[0;31mValueError\u001b[0m: could not convert string to float: '12.a'"
          ]
        }
      ]
    },
    {
      "cell_type": "markdown",
      "source": [
        "### Приведение к bool"
      ],
      "metadata": {
        "id": "E9Kacduc8xw2"
      }
    },
    {
      "cell_type": "markdown",
      "source": [
        "Для `int` и `float`: `0` и `0.0` переводятся в `False`, все остальное - в `True`:"
      ],
      "metadata": {
        "id": "7E-q1jYH9AMl"
      }
    },
    {
      "cell_type": "code",
      "source": [
        "bool(0), bool(0.0)"
      ],
      "metadata": {
        "colab": {
          "base_uri": "https://localhost:8080/"
        },
        "id": "9vUlE2QM9DkW",
        "outputId": "b1cb4057-6bf2-4ac6-a879-9c8ae6f53043"
      },
      "execution_count": null,
      "outputs": [
        {
          "output_type": "execute_result",
          "data": {
            "text/plain": [
              "(False, False)"
            ]
          },
          "metadata": {},
          "execution_count": 28
        }
      ]
    },
    {
      "cell_type": "code",
      "source": [
        "bool(1), bool(24.1)"
      ],
      "metadata": {
        "colab": {
          "base_uri": "https://localhost:8080/"
        },
        "id": "ewRyEAyB9Fbf",
        "outputId": "c45a10b5-2cbf-4c07-93da-ddeaf5d77049"
      },
      "execution_count": null,
      "outputs": [
        {
          "output_type": "execute_result",
          "data": {
            "text/plain": [
              "(True, True)"
            ]
          },
          "metadata": {},
          "execution_count": 29
        }
      ]
    },
    {
      "cell_type": "code",
      "source": [
        "bool(-2), bool(-12.3)"
      ],
      "metadata": {
        "colab": {
          "base_uri": "https://localhost:8080/"
        },
        "id": "cl5aT5B39Gsx",
        "outputId": "241f87ad-dfdb-4488-f7d5-4fb732b06251"
      },
      "execution_count": null,
      "outputs": [
        {
          "output_type": "execute_result",
          "data": {
            "text/plain": [
              "(True, True)"
            ]
          },
          "metadata": {},
          "execution_count": 30
        }
      ]
    },
    {
      "cell_type": "markdown",
      "source": [
        "Для `str`: пустые строки - в `False`, остальное - в `True`:"
      ],
      "metadata": {
        "id": "uxPh8Zt99LIr"
      }
    },
    {
      "cell_type": "code",
      "source": [
        "bool(''), bool('a')"
      ],
      "metadata": {
        "colab": {
          "base_uri": "https://localhost:8080/"
        },
        "id": "TD-43Rhh9MF2",
        "outputId": "b15c439c-694c-44f8-d835-80675a5b88c7"
      },
      "execution_count": null,
      "outputs": [
        {
          "output_type": "execute_result",
          "data": {
            "text/plain": [
              "(False, True)"
            ]
          },
          "metadata": {},
          "execution_count": 96
        }
      ]
    },
    {
      "cell_type": "code",
      "source": [
        "bool(None)"
      ],
      "metadata": {
        "colab": {
          "base_uri": "https://localhost:8080/"
        },
        "id": "7KSVHDDJ1F-f",
        "outputId": "d9b30419-86ab-40ff-d9dd-3870b97de315"
      },
      "execution_count": null,
      "outputs": [
        {
          "output_type": "execute_result",
          "data": {
            "text/plain": [
              "False"
            ]
          },
          "metadata": {},
          "execution_count": 97
        }
      ]
    },
    {
      "cell_type": "code",
      "source": [
        "bool(1+0j)"
      ],
      "metadata": {
        "colab": {
          "base_uri": "https://localhost:8080/"
        },
        "id": "jIw0OVzZ1a2G",
        "outputId": "58da67df-d67f-4c9e-febd-550b7c27c2b9"
      },
      "execution_count": null,
      "outputs": [
        {
          "output_type": "execute_result",
          "data": {
            "text/plain": [
              "True"
            ]
          },
          "metadata": {},
          "execution_count": 86
        }
      ]
    },
    {
      "cell_type": "code",
      "source": [
        "bool(0+1j)"
      ],
      "metadata": {
        "colab": {
          "base_uri": "https://localhost:8080/"
        },
        "id": "1GQHB-3i1dbD",
        "outputId": "bb605857-36f6-4aed-8a14-4285f606e076"
      },
      "execution_count": null,
      "outputs": [
        {
          "output_type": "execute_result",
          "data": {
            "text/plain": [
              "True"
            ]
          },
          "metadata": {},
          "execution_count": 87
        }
      ]
    },
    {
      "cell_type": "code",
      "source": [
        "bool(0+0j)"
      ],
      "metadata": {
        "colab": {
          "base_uri": "https://localhost:8080/"
        },
        "id": "I9K6I52u1gbs",
        "outputId": "61030dd6-8ae1-4f51-e9d3-60a28d5fc278"
      },
      "execution_count": null,
      "outputs": [
        {
          "output_type": "execute_result",
          "data": {
            "text/plain": [
              "False"
            ]
          },
          "metadata": {},
          "execution_count": 88
        }
      ]
    },
    {
      "cell_type": "code",
      "source": [
        "a = 1/3"
      ],
      "metadata": {
        "id": "ontCzOHwLqD4"
      },
      "execution_count": null,
      "outputs": []
    },
    {
      "cell_type": "code",
      "source": [
        "print(a)"
      ],
      "metadata": {
        "colab": {
          "base_uri": "https://localhost:8080/"
        },
        "id": "oLbjNUIFL63h",
        "outputId": "2010a81e-c8ce-4fe8-b264-cfd200771315"
      },
      "execution_count": null,
      "outputs": [
        {
          "output_type": "stream",
          "name": "stdout",
          "text": [
            "0.3333333333333333\n"
          ]
        }
      ]
    },
    {
      "cell_type": "code",
      "source": [
        "format(a, \".4f\")"
      ],
      "metadata": {
        "colab": {
          "base_uri": "https://localhost:8080/",
          "height": 35
        },
        "id": "IPSa0i7WLgjx",
        "outputId": "4b123443-d6f7-40d3-f499-813af9dc3495"
      },
      "execution_count": null,
      "outputs": [
        {
          "output_type": "execute_result",
          "data": {
            "text/plain": [
              "'0.3333'"
            ],
            "application/vnd.google.colaboratory.intrinsic+json": {
              "type": "string"
            }
          },
          "metadata": {},
          "execution_count": 104
        }
      ]
    },
    {
      "cell_type": "markdown",
      "metadata": {
        "pycharm": {
          "name": "#%% md\n"
        },
        "id": "7j6pHZG0quBZ"
      },
      "source": [
        "# Операторы сравнения"
      ]
    },
    {
      "cell_type": "markdown",
      "source": [
        "- `<`, `<=` - \"меньше\", \"меньше или равно\"\n",
        "- `>`, `>=` - \"больше\", \"больше или равно\"\n",
        "- `==`, `!=` - \"равно\", \"не равно\""
      ],
      "metadata": {
        "id": "_-iRqumnEOEo"
      }
    },
    {
      "cell_type": "code",
      "execution_count": null,
      "metadata": {
        "pycharm": {
          "name": "#%%\n"
        },
        "id": "zDXk3vzXquBZ",
        "outputId": "d9f44746-ba99-458e-f5a5-b4218f3c03ed",
        "colab": {
          "base_uri": "https://localhost:8080/"
        }
      },
      "outputs": [
        {
          "output_type": "execute_result",
          "data": {
            "text/plain": [
              "True"
            ]
          },
          "metadata": {},
          "execution_count": 31
        }
      ],
      "source": [
        "4 < 5"
      ]
    },
    {
      "cell_type": "code",
      "source": [
        "3 >= 2"
      ],
      "metadata": {
        "colab": {
          "base_uri": "https://localhost:8080/"
        },
        "id": "k7n5RQWXEmcH",
        "outputId": "1f346cef-ff83-48c2-cc5d-e56c4f4d14af"
      },
      "execution_count": null,
      "outputs": [
        {
          "output_type": "execute_result",
          "data": {
            "text/plain": [
              "True"
            ]
          },
          "metadata": {},
          "execution_count": 32
        }
      ]
    },
    {
      "cell_type": "code",
      "source": [
        "1 != 1"
      ],
      "metadata": {
        "colab": {
          "base_uri": "https://localhost:8080/"
        },
        "id": "ohEh-Dh_EnhT",
        "outputId": "2ae78c8b-c23c-4322-8b2f-f0814cfd15a3"
      },
      "execution_count": null,
      "outputs": [
        {
          "output_type": "execute_result",
          "data": {
            "text/plain": [
              "False"
            ]
          },
          "metadata": {},
          "execution_count": 33
        }
      ]
    },
    {
      "cell_type": "markdown",
      "metadata": {
        "pycharm": {
          "name": "#%% md\n"
        },
        "id": "lVO41WlLquBZ"
      },
      "source": [
        "Также можно сравнивать строки, списки и кортежи. Сравнение происходит лексикографически (как в словаре):"
      ]
    },
    {
      "cell_type": "code",
      "execution_count": null,
      "metadata": {
        "pycharm": {
          "name": "#%%\n"
        },
        "id": "nTMo-9HtquBZ",
        "outputId": "874042d2-b1c9-4cc6-bd15-f13725e6f848",
        "colab": {
          "base_uri": "https://localhost:8080/"
        }
      },
      "outputs": [
        {
          "output_type": "execute_result",
          "data": {
            "text/plain": [
              "True"
            ]
          },
          "metadata": {},
          "execution_count": 36
        }
      ],
      "source": [
        "'a' < 'aa'"
      ]
    },
    {
      "cell_type": "code",
      "source": [
        "'aa' < 'ab'"
      ],
      "metadata": {
        "colab": {
          "base_uri": "https://localhost:8080/"
        },
        "id": "uwYCFHc7Eum9",
        "outputId": "a90b5af1-753f-4fa0-ac07-af7c919b4abc"
      },
      "execution_count": null,
      "outputs": [
        {
          "output_type": "execute_result",
          "data": {
            "text/plain": [
              "True"
            ]
          },
          "metadata": {},
          "execution_count": 109
        }
      ]
    },
    {
      "cell_type": "code",
      "source": [
        "'aaaa' < 'ab'"
      ],
      "metadata": {
        "colab": {
          "base_uri": "https://localhost:8080/"
        },
        "id": "W6KRrul0EwCB",
        "outputId": "8ef7ed32-b789-43e8-8639-e7cb5a8c9edb"
      },
      "execution_count": null,
      "outputs": [
        {
          "output_type": "execute_result",
          "data": {
            "text/plain": [
              "True"
            ]
          },
          "metadata": {},
          "execution_count": 110
        }
      ]
    },
    {
      "cell_type": "code",
      "source": [
        "'A' < 'a'"
      ],
      "metadata": {
        "colab": {
          "base_uri": "https://localhost:8080/"
        },
        "id": "Cbrz3b-jOLRB",
        "outputId": "282efb61-5957-4586-e8df-90a72457ef4c"
      },
      "execution_count": null,
      "outputs": [
        {
          "output_type": "execute_result",
          "data": {
            "text/plain": [
              "True"
            ]
          },
          "metadata": {},
          "execution_count": 120
        }
      ]
    },
    {
      "cell_type": "code",
      "source": [
        "'1' < 'A'"
      ],
      "metadata": {
        "colab": {
          "base_uri": "https://localhost:8080/"
        },
        "id": "0cN58JgUOQqk",
        "outputId": "38dd0370-5bca-4070-e0ba-85ba7a668c8b"
      },
      "execution_count": null,
      "outputs": [
        {
          "output_type": "execute_result",
          "data": {
            "text/plain": [
              "True"
            ]
          },
          "metadata": {},
          "execution_count": 121
        }
      ]
    },
    {
      "cell_type": "markdown",
      "metadata": {
        "pycharm": {
          "name": "#%% md\n"
        },
        "id": "_nyQDoisquBY"
      },
      "source": [
        "### Логические операторы"
      ]
    },
    {
      "cell_type": "markdown",
      "source": [
        "Python позволять логические операции:\n",
        "\n",
        "- `and` - логическое И, логическое произведение\n",
        "- `or` - логическое ИЛИ, логическая сумма\n",
        "- `not` - логическое НЕ"
      ],
      "metadata": {
        "id": "GmrGTRYf_rm3"
      }
    },
    {
      "cell_type": "code",
      "execution_count": null,
      "metadata": {
        "pycharm": {
          "name": "#%%\n"
        },
        "id": "XmdFzdRtquBY"
      },
      "outputs": [],
      "source": [
        "a, b = True, False"
      ]
    },
    {
      "cell_type": "code",
      "source": [
        "a and b"
      ],
      "metadata": {
        "colab": {
          "base_uri": "https://localhost:8080/"
        },
        "id": "D5SfOexHATPj",
        "outputId": "15547c75-180e-4e26-ff02-9426ffc836dc"
      },
      "execution_count": null,
      "outputs": [
        {
          "output_type": "execute_result",
          "data": {
            "text/plain": [
              "False"
            ]
          },
          "metadata": {},
          "execution_count": 112
        }
      ]
    },
    {
      "cell_type": "code",
      "source": [
        "a or b"
      ],
      "metadata": {
        "colab": {
          "base_uri": "https://localhost:8080/"
        },
        "id": "hYKSDKRlAQie",
        "outputId": "d1e59c19-6555-4716-8c29-d033ac45cb62"
      },
      "execution_count": null,
      "outputs": [
        {
          "output_type": "execute_result",
          "data": {
            "text/plain": [
              "True"
            ]
          },
          "metadata": {},
          "execution_count": 113
        }
      ]
    },
    {
      "cell_type": "code",
      "source": [
        "not b"
      ],
      "metadata": {
        "colab": {
          "base_uri": "https://localhost:8080/"
        },
        "id": "ID4Z83_gAP8T",
        "outputId": "5664020c-253b-4adf-a48d-3cf573df950d"
      },
      "execution_count": null,
      "outputs": [
        {
          "output_type": "execute_result",
          "data": {
            "text/plain": [
              "True"
            ]
          },
          "metadata": {},
          "execution_count": 114
        }
      ]
    },
    {
      "cell_type": "markdown",
      "metadata": {
        "id": "itx0lisXnKwh"
      },
      "source": [
        "# Условный оператор `if`"
      ]
    },
    {
      "cell_type": "markdown",
      "source": [
        "**Условный оператор** (оператор ветвления) позволяет выполнять набор команд при выполнении заданного условия."
      ],
      "metadata": {
        "id": "9Nt2r1uYXuw-"
      }
    },
    {
      "cell_type": "markdown",
      "source": [
        "В Python условный оператор выполнен в виде оператора `if`:\n",
        "\n",
        "```python\n",
        "if <условие 1 (булевское выражение)> :\n",
        "    <блок команд1>\n",
        "elif <условие i>:  # опционально\n",
        "    <блок команд_i>\n",
        "else:\n",
        "    <блок команд_last>\n",
        "```"
      ],
      "metadata": {
        "id": "LT7DWr34UcVE"
      }
    },
    {
      "cell_type": "markdown",
      "source": [
        "**Обратите внимание!** Команды, которые будут выполняться при истинности условия, записываются с отступом в 4 пробела от уровня оператора `if`!\n",
        "\n",
        "*Отступы позволяют питону понять, где начинается код, который должен выполняться при выполнении условия в `if`, и где заканчивается*"
      ],
      "metadata": {
        "id": "yCgnpxoBUeCH"
      }
    },
    {
      "cell_type": "code",
      "source": [
        "mark = int(input(\"Введите оценку (от 1 до 5): \"))\n",
        "\n",
        "if mark <= 5 and mark > 0:\n",
        "    print(\"Ваша оценка получена!\")\n",
        "\n",
        "if not (mark <= 5 and mark > 0):\n",
        "    print(\"Вы ввели некорректную оценку!\")"
      ],
      "metadata": {
        "colab": {
          "base_uri": "https://localhost:8080/"
        },
        "id": "bwJrCN2bcvXt",
        "outputId": "d239e90a-ca14-4f2e-af55-58fbac29483e"
      },
      "execution_count": null,
      "outputs": [
        {
          "output_type": "stream",
          "name": "stdout",
          "text": [
            "Введите оценку (от 1 до 5): 5\n",
            "Ваша оценка получена!\n"
          ]
        }
      ]
    },
    {
      "cell_type": "markdown",
      "source": [
        "**Синтаксический сахар:** условия вида\n",
        "\n",
        "```python\n",
        "mark <= 5 and mark > 0\n",
        "```\n",
        "могут быть записаны в виде двойного неравенства:\n",
        "\n",
        "```python\n",
        "0 < mark <= 5\n",
        "```"
      ],
      "metadata": {
        "id": "vXtr2xx4dWhN"
      }
    },
    {
      "cell_type": "markdown",
      "source": [
        "**Примечание.** В качестве условия не обязательно ставить равенство или неравенство, можно ставить любую переменную, в таком случае Python преобразует тип этой переменной в тип `bool`:"
      ],
      "metadata": {
        "id": "YbK_efOmZTNG"
      }
    },
    {
      "cell_type": "code",
      "source": [
        "string = input(\"Введите строку: \")\n",
        "\n",
        "if string:\n",
        "    print(\"Строка непустая\")\n",
        "else:\n",
        "    print(\"Строка пустая!\")"
      ],
      "metadata": {
        "id": "pV27aaMxloUB",
        "colab": {
          "base_uri": "https://localhost:8080/"
        },
        "outputId": "c18b1277-8db3-478e-d26c-586e37bd1fc9"
      },
      "execution_count": null,
      "outputs": [
        {
          "output_type": "stream",
          "name": "stdout",
          "text": [
            "Введите строку: \n",
            "Строка пустая!\n"
          ]
        }
      ]
    },
    {
      "cell_type": "markdown",
      "source": [
        "**Сколько уровней вложенности условных операторов является допустимым?**\n",
        "\n",
        "Жесткого ограничения нет, но на практике - не больше 3. Если у вас выходит больше 3 уровней вложенности, то стоит задуматься о том, чтобы изменить структуру вашей программы."
      ],
      "metadata": {
        "id": "Q2S-fGbpz-Kt"
      }
    },
    {
      "cell_type": "markdown",
      "source": [
        "## Тернарный условный оператор"
      ],
      "metadata": {
        "id": "3GSelpHfzjJT"
      }
    },
    {
      "cell_type": "markdown",
      "source": [
        "Заметим, что в предыдущих примерах всё, что мы делали в блоке каждого `if`-а - присваивание значения переменной `answer`.\n",
        "\n",
        "Для таких случаев, когда хотим присвоить переменной одно из двух значений в зависимости от условия, пригождается еще одна конструкция в Python - тернарный оператор:"
      ],
      "metadata": {
        "id": "O7umjM9n0ehk"
      }
    },
    {
      "cell_type": "markdown",
      "metadata": {
        "id": "ZhEdDS3DNhMr"
      },
      "source": [
        "```python\n",
        "[значение_если_истина] if [условие] else [значение_если_ложь]\n",
        "```"
      ]
    },
    {
      "cell_type": "markdown",
      "source": [
        "Перепишем предыдущий пример для одной страны с помощью тернарного оператора:"
      ],
      "metadata": {
        "id": "e69UBCqM1C6q"
      }
    },
    {
      "cell_type": "code",
      "source": [
        "age = int(input(\"Введите возраст: \"))\n",
        "\n",
        "# Вот так лаконично получается\n",
        "answer = \"Можно продавать\" if age >= 18 else \"Нельзя продавать\"\n",
        "print(answer)"
      ],
      "metadata": {
        "id": "x6uqhpv_0zXK",
        "colab": {
          "base_uri": "https://localhost:8080/"
        },
        "outputId": "743b7af4-acd1-4241-c577-768b23e47193"
      },
      "execution_count": null,
      "outputs": [
        {
          "output_type": "stream",
          "name": "stdout",
          "text": [
            "Введите возраст: 16\n",
            "Нельзя продавать\n"
          ]
        }
      ]
    },
    {
      "cell_type": "code",
      "source": [
        "age = int(input(\"Введите возраст: \"))\n",
        "\n",
        "# Вот так лаконично получается\n",
        "print(\"Можно продавать\" if age >= 18 else \"Нельзя продавать\")"
      ],
      "metadata": {
        "id": "_cmzXEmwBtpI",
        "colab": {
          "base_uri": "https://localhost:8080/"
        },
        "outputId": "e499819f-013a-4e43-b2ba-e654fd13f4f0"
      },
      "execution_count": null,
      "outputs": [
        {
          "output_type": "stream",
          "name": "stdout",
          "text": [
            "Введите возраст: 21\n",
            "Можно продавать\n"
          ]
        }
      ]
    },
    {
      "cell_type": "markdown",
      "source": [
        "В качестве значений можно использовать и выражения:"
      ],
      "metadata": {
        "id": "W8Uwlhh-3Dsc"
      }
    },
    {
      "cell_type": "code",
      "source": [
        "value = float(input(\"Введите число: \"))\n",
        "\n",
        "# Арифметические операции бессмысленны, но для демонстрации\n",
        "abs_value = value * 1 + 1 - 1 if value > 0 else 0 - value\n",
        "print(abs_value)"
      ],
      "metadata": {
        "id": "XO1TRzsG3P6G",
        "colab": {
          "base_uri": "https://localhost:8080/"
        },
        "outputId": "0ade9db7-7d96-43e3-de64-a8aa37b117cf"
      },
      "execution_count": null,
      "outputs": [
        {
          "output_type": "stream",
          "name": "stdout",
          "text": [
            "Введите число: 14\n",
            "14.0\n"
          ]
        }
      ]
    },
    {
      "cell_type": "markdown",
      "metadata": {
        "id": "-XfbAcBrNhMs"
      },
      "source": [
        "Тернарные операторы можно использовать и в выражениях:"
      ]
    },
    {
      "cell_type": "code",
      "execution_count": null,
      "metadata": {
        "id": "melxghw9NhMs",
        "outputId": "2fb5df05-2d51-4db8-e068-185ab3806bcb",
        "colab": {
          "base_uri": "https://localhost:8080/"
        }
      },
      "outputs": [
        {
          "output_type": "stream",
          "name": "stdout",
          "text": [
            "Введите возраст: 21\n",
            "Алкоголь можно продавать\n"
          ]
        }
      ],
      "source": [
        "age = int(input(\"Введите возраст: \"))\n",
        "\n",
        "# Вот так лаконично получается\n",
        "answer = \"Алкоголь \" + (\"можно\" if age >= 18 else \"нельзя\") + ' продавать'\n",
        "print(answer)"
      ]
    },
    {
      "cell_type": "code",
      "source": [
        "age = int(input(\"Введите возраст: \"))\n",
        "\n",
        "# Вот так лаконично получается\n",
        "answer = \"Алкоголь \" + \"можно\" if age >= 18 else \"нельзя\" + ' продавать'\n",
        "print(answer)"
      ],
      "metadata": {
        "id": "_ZncDIpKCzoX"
      },
      "execution_count": null,
      "outputs": []
    },
    {
      "cell_type": "markdown",
      "metadata": {
        "id": "xX-00oKsNhMs"
      },
      "source": [
        "Можно использовать и вложенные тернарные операторы (но лучше не надо - ухудшает читаемость):"
      ]
    },
    {
      "cell_type": "code",
      "execution_count": null,
      "metadata": {
        "id": "bnCLmimGNhMs",
        "colab": {
          "base_uri": "https://localhost:8080/"
        },
        "outputId": "8903c226-91b2-48bb-edd5-fb94a234e006"
      },
      "outputs": [
        {
          "output_type": "stream",
          "name": "stdout",
          "text": [
            "Введите возраст: 20\n",
            "Введите страну: USA\n",
            "Алкоголь нельзя продавать\n"
          ]
        }
      ],
      "source": [
        "age = int(input(\"Введите возраст: \"))\n",
        "country = input(\"Введите страну: \")\n",
        "\n",
        "verdict = (\"можно\" if age >= 18 else \"нельзя\") if country == \"RUS\" else (\"можно\" if age >= 21 else \"нельзя\")\n",
        "print(\"Алкоголь \" + verdict + ' продавать')"
      ]
    },
    {
      "cell_type": "markdown",
      "metadata": {
        "id": "aKItG24wF5hB"
      },
      "source": [
        "# Контейнеры"
      ]
    },
    {
      "cell_type": "markdown",
      "metadata": {
        "id": "f8kGpDiBPW6Q"
      },
      "source": [
        "**Контейнеры** - типы данных, экземпляры (т.е. переменные этих типов данных) которых содержат в себе один или несколько других элементов.\n",
        "\n",
        "**Основные встроенные контейнеры:**\n",
        "- `list` - список\n",
        "- `tuple` - кортеж\n",
        "- `dict` - словарь\n",
        "- `set` - множество"
      ]
    },
    {
      "cell_type": "markdown",
      "metadata": {
        "id": "sAjK_o5P7g3y"
      },
      "source": [
        "## `list`"
      ]
    },
    {
      "cell_type": "markdown",
      "metadata": {
        "id": "ebtJifoUtZLi"
      },
      "source": [
        "**List** (cписок) - упорядоченный набор данных, в котором доступ к его элементам предоставляется по индексу (порядковому номеру).\n",
        "\n",
        " Позволяет добавлять, удалять и изменять элементы внутри."
      ]
    },
    {
      "cell_type": "code",
      "execution_count": null,
      "metadata": {
        "colab": {
          "base_uri": "https://localhost:8080/"
        },
        "outputId": "1c74c207-8f17-4ad3-e3db-97fe79e269da",
        "id": "fPdAW6UWKZ4d"
      },
      "outputs": [
        {
          "output_type": "execute_result",
          "data": {
            "text/plain": [
              "[1, 2.0, 'string!', [None], False]"
            ]
          },
          "metadata": {},
          "execution_count": 26
        }
      ],
      "source": [
        "list_example = [1, 2.0, 'string!', [None], False]  # Перечисляем через запятую\n",
        "list_example"
      ]
    },
    {
      "cell_type": "code",
      "source": [
        "list_example[3]"
      ],
      "metadata": {
        "colab": {
          "base_uri": "https://localhost:8080/"
        },
        "id": "vFDCSpSWKAzs",
        "outputId": "256d7226-fcac-463f-fc26-0cfc2d36bb58"
      },
      "execution_count": null,
      "outputs": [
        {
          "output_type": "execute_result",
          "data": {
            "text/plain": [
              "[None]"
            ]
          },
          "metadata": {},
          "execution_count": 8
        }
      ]
    },
    {
      "cell_type": "markdown",
      "metadata": {
        "id": "Z03Xtm-s6HhL"
      },
      "source": [
        "Индексы в Python могут быть и отрицательными! С помощью отрицательных индексов можно удобно получать доступ к элементам с конца списка.\n",
        "\n",
        "Например, чтобы получить последний и предпоследний элементы списка, можем использовать индексы `-1` и `-2`, соответственно:"
      ]
    },
    {
      "cell_type": "code",
      "execution_count": null,
      "metadata": {
        "id": "PTtoHBM_6iLC",
        "colab": {
          "base_uri": "https://localhost:8080/"
        },
        "outputId": "6c0a2a45-4295-4f64-b5fd-d03ef8b8048d"
      },
      "outputs": [
        {
          "output_type": "execute_result",
          "data": {
            "text/plain": [
              "[1, 2.0, 'string!', [None], False]"
            ]
          },
          "metadata": {},
          "execution_count": 27
        }
      ],
      "source": [
        "list_example"
      ]
    },
    {
      "cell_type": "code",
      "source": [
        "list_example[-1] # Последний"
      ],
      "metadata": {
        "id": "tJk72U4pP-1C",
        "colab": {
          "base_uri": "https://localhost:8080/"
        },
        "outputId": "a868d472-208f-4683-a2ff-b5a099837339"
      },
      "execution_count": null,
      "outputs": [
        {
          "output_type": "execute_result",
          "data": {
            "text/plain": [
              "False"
            ]
          },
          "metadata": {},
          "execution_count": 28
        }
      ]
    },
    {
      "cell_type": "code",
      "source": [
        "list_example[-2] # Предпоследний"
      ],
      "metadata": {
        "id": "nIT9uF8EP9uu",
        "colab": {
          "base_uri": "https://localhost:8080/"
        },
        "outputId": "e7769d3a-7fcc-42c1-dfce-7f07c20b3484"
      },
      "execution_count": null,
      "outputs": [
        {
          "output_type": "execute_result",
          "data": {
            "text/plain": [
              "[None]"
            ]
          },
          "metadata": {},
          "execution_count": 11
        }
      ]
    },
    {
      "cell_type": "code",
      "source": [
        "list_example[-5] # первый"
      ],
      "metadata": {
        "colab": {
          "base_uri": "https://localhost:8080/"
        },
        "id": "GFVaErWCL-96",
        "outputId": "776594a0-1c5a-4965-facd-2a498feb6f49"
      },
      "execution_count": null,
      "outputs": [
        {
          "output_type": "execute_result",
          "data": {
            "text/plain": [
              "1"
            ]
          },
          "metadata": {},
          "execution_count": 12
        }
      ]
    },
    {
      "cell_type": "markdown",
      "metadata": {
        "id": "5vcrilnH0hkO"
      },
      "source": [
        "**Что будет, если запросим индекс больше, чем длина списка?**\n",
        "\n",
        "Если элемента с запрашиваемым индексом нет, Python выдаст ошибку:"
      ]
    },
    {
      "cell_type": "code",
      "execution_count": null,
      "metadata": {
        "colab": {
          "base_uri": "https://localhost:8080/"
        },
        "id": "OH3w6Pgd6nH_",
        "outputId": "d211c13e-b8a5-4639-a0ec-28202ecfc115"
      },
      "outputs": [
        {
          "output_type": "execute_result",
          "data": {
            "text/plain": [
              "[1, 2.0, 'string!', [None], False]"
            ]
          },
          "metadata": {},
          "execution_count": 17
        }
      ],
      "source": [
        "list_example"
      ]
    },
    {
      "cell_type": "code",
      "source": [
        "list_example[10]"
      ],
      "metadata": {
        "id": "ZSFPICmKQ9Ew",
        "colab": {
          "base_uri": "https://localhost:8080/",
          "height": 166
        },
        "outputId": "f66f2498-3688-4298-bee4-1ecd5422762f"
      },
      "execution_count": null,
      "outputs": [
        {
          "output_type": "error",
          "ename": "IndexError",
          "evalue": "ignored",
          "traceback": [
            "\u001b[0;31m---------------------------------------------------------------------------\u001b[0m",
            "\u001b[0;31mIndexError\u001b[0m                                Traceback (most recent call last)",
            "\u001b[0;32m<ipython-input-18-8b3ee9ab9467>\u001b[0m in \u001b[0;36m<cell line: 1>\u001b[0;34m()\u001b[0m\n\u001b[0;32m----> 1\u001b[0;31m \u001b[0mlist_example\u001b[0m\u001b[0;34m[\u001b[0m\u001b[0;36m10\u001b[0m\u001b[0;34m]\u001b[0m\u001b[0;34m\u001b[0m\u001b[0;34m\u001b[0m\u001b[0m\n\u001b[0m",
            "\u001b[0;31mIndexError\u001b[0m: list index out of range"
          ]
        }
      ]
    },
    {
      "cell_type": "markdown",
      "metadata": {
        "id": "Q5TZhFzDdFIk"
      },
      "source": [
        "### Cрезы"
      ]
    },
    {
      "cell_type": "markdown",
      "metadata": {
        "id": "mJgk6B2jKZ4o"
      },
      "source": [
        "**Срез** - инструмент выделения набора элементов. Срезы применяются в Python для строк, списков и кортежей."
      ]
    },
    {
      "cell_type": "markdown",
      "metadata": {
        "id": "f4IT56kFw0TI"
      },
      "source": [
        ">**Примечание**\n",
        ">\n",
        ">Срезы работают для всех контейнеров, у которых можно получить доступ к их элементам по индексу. С этим мы еще встретимся при работе с библиотеками Python, например, с NumPy."
      ]
    },
    {
      "cell_type": "markdown",
      "source": [
        "Базовый синтаксис для среза:\n",
        "\n",
        "```python\n",
        "variable[start:stop]\n",
        "```\n",
        "где `start` - индекс начала выделяемого набора элемента (включается), `stop` - индекс конца выделяемого набора элемента (исключается)."
      ],
      "metadata": {
        "id": "SdrDD6GtxEar"
      }
    },
    {
      "cell_type": "markdown",
      "metadata": {
        "id": "SNn1B6axwl-W"
      },
      "source": [
        "Рассмотрим на примере:"
      ]
    },
    {
      "cell_type": "code",
      "execution_count": null,
      "metadata": {
        "colab": {
          "base_uri": "https://localhost:8080/"
        },
        "outputId": "979173d4-fcfc-4288-c107-cf6a18443ff4",
        "id": "IvMM6Bq4KZ4o"
      },
      "outputs": [
        {
          "output_type": "execute_result",
          "data": {
            "text/plain": [
              "['Facebook', 'Microsoft', 'Twitter']"
            ]
          },
          "metadata": {},
          "execution_count": 29
        }
      ],
      "source": [
        "tech_giants = [\"Apple\", \"Google\", \"Facebook\", \"Microsoft\", \"Twitter\", 'Netflix']\n",
        "i = 2\n",
        "tech_giants[i:5]  # Берем элементы с индексами 2, 3 и 4 (5 не включается)"
      ]
    },
    {
      "cell_type": "markdown",
      "source": [
        "В качестве индексов можно использовать и отрицательные числа (как при обычном обращении к элементам):"
      ],
      "metadata": {
        "id": "uT9wKCKD0p72"
      }
    },
    {
      "cell_type": "code",
      "source": [
        "tech_giants[1:-1]  # Выводим все элементы, кроме первого и последнего"
      ],
      "metadata": {
        "colab": {
          "base_uri": "https://localhost:8080/"
        },
        "id": "zKpCpeGx0xSz",
        "outputId": "507ffcab-fc05-49cd-ed2d-78421fe6a86f"
      },
      "execution_count": null,
      "outputs": [
        {
          "output_type": "execute_result",
          "data": {
            "text/plain": [
              "['Google', 'Facebook', 'Microsoft', 'Twitter']"
            ]
          },
          "metadata": {},
          "execution_count": 30
        }
      ]
    },
    {
      "cell_type": "markdown",
      "metadata": {
        "id": "2rDQkZNXKZ4p"
      },
      "source": [
        "На выходе так же получаем список. Проверим это:"
      ]
    },
    {
      "cell_type": "code",
      "execution_count": null,
      "metadata": {
        "colab": {
          "base_uri": "https://localhost:8080/"
        },
        "outputId": "02d6f78f-e750-4e84-eda2-8b6ba9196172",
        "id": "E4jFhbk_KZ4p"
      },
      "outputs": [
        {
          "output_type": "execute_result",
          "data": {
            "text/plain": [
              "list"
            ]
          },
          "metadata": {},
          "execution_count": 31
        }
      ],
      "source": [
        "favourite_tech_giants = tech_giants[2:5]\n",
        "type(favourite_tech_giants)"
      ]
    },
    {
      "cell_type": "code",
      "source": [
        "favourite_tech_giants[0] = \"Meta\"\n",
        "favourite_tech_giants"
      ],
      "metadata": {
        "colab": {
          "base_uri": "https://localhost:8080/"
        },
        "id": "e_GCyZikx_Sn",
        "outputId": "7a4010b6-2631-4369-824d-1a577de44888"
      },
      "execution_count": null,
      "outputs": [
        {
          "output_type": "execute_result",
          "data": {
            "text/plain": [
              "['Meta', 'Microsoft', 'Twitter']"
            ]
          },
          "metadata": {},
          "execution_count": 32
        }
      ]
    },
    {
      "cell_type": "markdown",
      "source": [
        "При этом с помощью среза мы получили именно копию элементов исходного списка. Посмотрим, изменился ли элемент:"
      ],
      "metadata": {
        "id": "m9stawZoyJ_L"
      }
    },
    {
      "cell_type": "code",
      "source": [
        "tech_giants  # не изменился, остался \"Facebook\""
      ],
      "metadata": {
        "colab": {
          "base_uri": "https://localhost:8080/"
        },
        "id": "E-YXbsi5ySXR",
        "outputId": "12823642-32d7-4fb5-cada-b48412a7b241"
      },
      "execution_count": null,
      "outputs": [
        {
          "output_type": "execute_result",
          "data": {
            "text/plain": [
              "['Apple', 'Google', 'Facebook', 'Microsoft', 'Twitter', 'Netflix']"
            ]
          },
          "metadata": {},
          "execution_count": 33
        }
      ]
    },
    {
      "cell_type": "markdown",
      "source": [
        "В срезах можно не указывать индексы начала и индексы конца, по умолчанию индекс начала = 0, индекс конца = длина списка /строки / ...:"
      ],
      "metadata": {
        "id": "2kKWFpN4ya8M"
      }
    },
    {
      "cell_type": "code",
      "source": [
        "tech_giants[:5]  # индексы 0, 1, 2, 3, 4"
      ],
      "metadata": {
        "colab": {
          "base_uri": "https://localhost:8080/"
        },
        "id": "O2LsB_eWyqPr",
        "outputId": "2ec288c5-9e35-4fd0-c278-5914121b92e6"
      },
      "execution_count": null,
      "outputs": [
        {
          "output_type": "execute_result",
          "data": {
            "text/plain": [
              "['Apple', 'Google', 'Facebook', 'Microsoft', 'Twitter']"
            ]
          },
          "metadata": {},
          "execution_count": 24
        }
      ]
    },
    {
      "cell_type": "code",
      "source": [
        "tech_giants[2:]  # индексы 2, 3, 4, 5"
      ],
      "metadata": {
        "colab": {
          "base_uri": "https://localhost:8080/"
        },
        "id": "63PgbQDBywwY",
        "outputId": "1e9e0804-4b30-4028-e705-dd374bf28e94"
      },
      "execution_count": null,
      "outputs": [
        {
          "output_type": "execute_result",
          "data": {
            "text/plain": [
              "['Facebook', 'Microsoft', 'Twitter', 'Netflix']"
            ]
          },
          "metadata": {},
          "execution_count": 25
        }
      ]
    },
    {
      "cell_type": "markdown",
      "source": [
        "**А если не укажем оба индекса?**\n",
        "\n",
        "Получим копию элементов списка!"
      ],
      "metadata": {
        "id": "-76if8Jry5yA"
      }
    },
    {
      "cell_type": "code",
      "source": [
        "all_tech_giants = tech_giants[:]\n",
        "all_tech_giants[1] = \"Alphabet\"\n",
        "all_tech_giants"
      ],
      "metadata": {
        "colab": {
          "base_uri": "https://localhost:8080/"
        },
        "id": "CTIi5IKFzDl9",
        "outputId": "d3e34b72-0e61-4943-837a-c76d655835d9"
      },
      "execution_count": null,
      "outputs": [
        {
          "output_type": "execute_result",
          "data": {
            "text/plain": [
              "['Apple', 'Alphabet', 'Facebook', 'Microsoft', 'Twitter', 'Netflix']"
            ]
          },
          "metadata": {},
          "execution_count": 34
        }
      ]
    },
    {
      "cell_type": "code",
      "source": [
        "tech_giants"
      ],
      "metadata": {
        "colab": {
          "base_uri": "https://localhost:8080/"
        },
        "id": "I_iYrVM9zc1K",
        "outputId": "1b166bec-8f69-45ba-ca6b-caa926082562"
      },
      "execution_count": null,
      "outputs": [
        {
          "output_type": "execute_result",
          "data": {
            "text/plain": [
              "['Apple', 'Google', 'Facebook', 'Microsoft', 'Twitter', 'Netflix']"
            ]
          },
          "metadata": {},
          "execution_count": 28
        }
      ]
    },
    {
      "cell_type": "markdown",
      "source": [
        ">**ВАЖНОЕ ПРИМЕЧАНИЕ!**\n",
        ">\n",
        ">С помощью срезов можно выполнять только **неглубокое** копирование! Подробнее об этом поговорим в конце занятия."
      ],
      "metadata": {
        "id": "MqS69xjl0IYG"
      }
    },
    {
      "cell_type": "markdown",
      "source": [
        "С помощью срезов элементы можно не только выбирать и копировать, но и изменять:"
      ],
      "metadata": {
        "id": "1w2AXmQh1PK7"
      }
    },
    {
      "cell_type": "code",
      "source": [
        "tech_giants_copy = tech_giants[:]\n",
        "tech_giants_copy"
      ],
      "metadata": {
        "colab": {
          "base_uri": "https://localhost:8080/"
        },
        "id": "6x63isoj1Yjb",
        "outputId": "715feab4-35ba-4d01-e1a9-b0a89904af9a"
      },
      "execution_count": null,
      "outputs": [
        {
          "output_type": "execute_result",
          "data": {
            "text/plain": [
              "['Apple', 'Google', 'Facebook', 'Microsoft', 'Twitter', 'Netflix']"
            ]
          },
          "metadata": {},
          "execution_count": 29
        }
      ]
    },
    {
      "cell_type": "code",
      "source": [
        "tech_giants_copy[1:3] = [\"Alphabet\", \"Meta\"]\n",
        "tech_giants_copy"
      ],
      "metadata": {
        "colab": {
          "base_uri": "https://localhost:8080/"
        },
        "id": "6_yUsijU1ZR5",
        "outputId": "daadd2b7-e4cc-41ae-de45-777bcc08d08d"
      },
      "execution_count": null,
      "outputs": [
        {
          "output_type": "execute_result",
          "data": {
            "text/plain": [
              "['Apple', 'Alphabet', 'Meta', 'Microsoft', 'Twitter', 'Netflix']"
            ]
          },
          "metadata": {},
          "execution_count": 30
        }
      ]
    },
    {
      "cell_type": "markdown",
      "source": [
        "При чем необязательно, чтобы длина среза равнялась длине списка справа:"
      ],
      "metadata": {
        "id": "APQF7o4S1mAU"
      }
    },
    {
      "cell_type": "code",
      "source": [
        "tech_giants_copy = tech_giants[:]\n",
        "tech_giants_copy"
      ],
      "metadata": {
        "colab": {
          "base_uri": "https://localhost:8080/"
        },
        "id": "tO2PLMrI1249",
        "outputId": "e3fa4b10-6e20-4cb8-cad2-4e3f61a2d9d5"
      },
      "execution_count": null,
      "outputs": [
        {
          "output_type": "execute_result",
          "data": {
            "text/plain": [
              "['Apple', 'Google', 'Facebook', 'Microsoft', 'Twitter', 'Netflix']"
            ]
          },
          "metadata": {},
          "execution_count": 35
        }
      ]
    },
    {
      "cell_type": "code",
      "source": [
        "tech_giants_copy[1:3] = [\"Alphabet\", \"Uber\", \"Amazon\", \"Netflix\", \"Meta\"]\n",
        "tech_giants_copy"
      ],
      "metadata": {
        "colab": {
          "base_uri": "https://localhost:8080/"
        },
        "id": "3jOCYN8R14CF",
        "outputId": "f3de0286-84c5-4061-af03-d8512ef90279"
      },
      "execution_count": null,
      "outputs": [
        {
          "output_type": "execute_result",
          "data": {
            "text/plain": [
              "['Apple',\n",
              " 'Alphabet',\n",
              " 'Uber',\n",
              " 'Amazon',\n",
              " 'Netflix',\n",
              " 'Meta',\n",
              " 'Microsoft',\n",
              " 'Twitter',\n",
              " 'Netflix']"
            ]
          },
          "metadata": {},
          "execution_count": 36
        }
      ]
    },
    {
      "cell_type": "markdown",
      "source": [
        "Дополнительно в срезах можно указывать шаг, с которым вы выбираете элементы, с помощью следующего синтаксиса:\n",
        "\n",
        "```python\n",
        "variable[start:stop:step]\n",
        "```\n",
        "\n",
        "Если шаг не указываете, то он считается равным 1."
      ],
      "metadata": {
        "id": "LM15m25e1KDp"
      }
    },
    {
      "cell_type": "markdown",
      "source": [
        "Сделаем еще одну выборку:"
      ],
      "metadata": {
        "id": "kBxFljue2cBw"
      }
    },
    {
      "cell_type": "code",
      "source": [
        "tech_giants"
      ],
      "metadata": {
        "colab": {
          "base_uri": "https://localhost:8080/"
        },
        "id": "sVcBtz9U3hVA",
        "outputId": "df0e99c4-ae0f-47a9-98f6-bb824fd0d401"
      },
      "execution_count": null,
      "outputs": [
        {
          "output_type": "execute_result",
          "data": {
            "text/plain": [
              "['Apple', 'Google', 'Facebook', 'Microsoft', 'Twitter', 'Netflix']"
            ]
          },
          "metadata": {},
          "execution_count": 37
        }
      ]
    },
    {
      "cell_type": "code",
      "source": [
        "tech_giants[1:-1:2]  # Берем элементы с индексами 1 и 3, 5 не подходит, т.к. индекс >= stop"
      ],
      "metadata": {
        "colab": {
          "base_uri": "https://localhost:8080/"
        },
        "id": "kMAWBF492iUd",
        "outputId": "d59d7096-dbd6-4798-b1a6-07a850d5e243"
      },
      "execution_count": null,
      "outputs": [
        {
          "output_type": "execute_result",
          "data": {
            "text/plain": [
              "['Google', 'Microsoft']"
            ]
          },
          "metadata": {},
          "execution_count": 60
        }
      ]
    },
    {
      "cell_type": "markdown",
      "source": [
        "Так же, как и раньше, индексы начала и конца при желании можем не указывать:"
      ],
      "metadata": {
        "id": "Jo302yiB3ATr"
      }
    },
    {
      "cell_type": "code",
      "source": [
        "tech_giants[:5:2]"
      ],
      "metadata": {
        "colab": {
          "base_uri": "https://localhost:8080/"
        },
        "id": "4gCZdR843GH5",
        "outputId": "e33dc9ba-f1c3-4c4b-e03f-89f3f0f81b01"
      },
      "execution_count": null,
      "outputs": [
        {
          "output_type": "execute_result",
          "data": {
            "text/plain": [
              "['Apple', 'Facebook', 'Twitter']"
            ]
          },
          "metadata": {},
          "execution_count": 34
        }
      ]
    },
    {
      "cell_type": "code",
      "source": [
        "tech_giants[1::2]"
      ],
      "metadata": {
        "colab": {
          "base_uri": "https://localhost:8080/"
        },
        "id": "62sl6W6V3JC0",
        "outputId": "f5363108-380c-4cff-f9b0-81789360ba78"
      },
      "execution_count": null,
      "outputs": [
        {
          "output_type": "execute_result",
          "data": {
            "text/plain": [
              "['Google', 'Microsoft', 'Netflix']"
            ]
          },
          "metadata": {},
          "execution_count": 35
        }
      ]
    },
    {
      "cell_type": "code",
      "source": [
        "tech_giants[::2]"
      ],
      "metadata": {
        "colab": {
          "base_uri": "https://localhost:8080/"
        },
        "id": "MPWFcsA53VLT",
        "outputId": "af3d7a76-a87e-4b6f-fb0b-3a288aeedfd0"
      },
      "execution_count": null,
      "outputs": [
        {
          "output_type": "execute_result",
          "data": {
            "text/plain": [
              "['Apple', 'Facebook', 'Twitter']"
            ]
          },
          "metadata": {},
          "execution_count": 36
        }
      ]
    },
    {
      "cell_type": "markdown",
      "metadata": {
        "id": "UPCJo0MNKZ4p"
      },
      "source": [
        "Шаг может быть и отрицательным:"
      ]
    },
    {
      "cell_type": "code",
      "execution_count": null,
      "metadata": {
        "colab": {
          "base_uri": "https://localhost:8080/"
        },
        "outputId": "e259566e-5168-427b-b167-6e2e98da4927",
        "id": "EvQ-Y8aMKZ4p"
      },
      "outputs": [
        {
          "output_type": "execute_result",
          "data": {
            "text/plain": [
              "['Twitter', 'Microsoft', 'Facebook']"
            ]
          },
          "metadata": {},
          "execution_count": 37
        }
      ],
      "source": [
        "tech_giants[4:1:-1]"
      ]
    },
    {
      "cell_type": "markdown",
      "metadata": {
        "id": "bWxwdpTDKRfP"
      },
      "source": [
        "Одно из интересных применений срезов - разворот списка:"
      ]
    },
    {
      "cell_type": "code",
      "source": [
        "tech_giants"
      ],
      "metadata": {
        "colab": {
          "base_uri": "https://localhost:8080/"
        },
        "id": "x63BAvrg3ozP",
        "outputId": "b968f3e5-3392-4920-b830-3fe54506ca94"
      },
      "execution_count": null,
      "outputs": [
        {
          "output_type": "execute_result",
          "data": {
            "text/plain": [
              "['Apple', 'Google', 'Facebook', 'Microsoft', 'Twitter', 'Netflix']"
            ]
          },
          "metadata": {},
          "execution_count": 68
        }
      ]
    },
    {
      "cell_type": "code",
      "execution_count": null,
      "metadata": {
        "colab": {
          "base_uri": "https://localhost:8080/"
        },
        "id": "dBVhpV_7KRw8",
        "outputId": "c2a72c28-fe17-402f-dcbd-28c76a64da63"
      },
      "outputs": [
        {
          "output_type": "execute_result",
          "data": {
            "text/plain": [
              "['Netflix', 'Twitter', 'Microsoft', 'Facebook', 'Google', 'Apple']"
            ]
          },
          "metadata": {},
          "execution_count": 38
        }
      ],
      "source": [
        "tech_giants[::-1]"
      ]
    },
    {
      "cell_type": "markdown",
      "source": [
        "При использовании среза с нестандартным шаг для присвоения значений длина среза и длина контейнера справа должны быть одинаковыми:"
      ],
      "metadata": {
        "id": "pzRwUa4F3ufi"
      }
    },
    {
      "cell_type": "code",
      "source": [
        "tech_giants_copy = tech_giants[:]\n",
        "tech_giants_copy"
      ],
      "metadata": {
        "colab": {
          "base_uri": "https://localhost:8080/"
        },
        "id": "9Jdm6Zy338o_",
        "outputId": "03a5d412-efb0-469b-8cda-eb8d8693bbe8"
      },
      "execution_count": null,
      "outputs": [
        {
          "output_type": "execute_result",
          "data": {
            "text/plain": [
              "['Apple', 'Google', 'Facebook', 'Microsoft', 'Twitter', 'Netflix']"
            ]
          },
          "metadata": {},
          "execution_count": 39
        }
      ]
    },
    {
      "cell_type": "code",
      "source": [
        "tech_giants_copy[1::2]"
      ],
      "metadata": {
        "colab": {
          "base_uri": "https://localhost:8080/"
        },
        "id": "mLsa8bHX39ws",
        "outputId": "23f04488-cc40-4632-f5f9-15538e73ded2"
      },
      "execution_count": null,
      "outputs": [
        {
          "output_type": "execute_result",
          "data": {
            "text/plain": [
              "['Google', 'Microsoft', 'Netflix']"
            ]
          },
          "metadata": {},
          "execution_count": 40
        }
      ]
    },
    {
      "cell_type": "code",
      "source": [
        "tech_giants_copy[1::2] = [\"Alphabet\", \"Macrohard\", \"Amazon\"]\n",
        "tech_giants_copy"
      ],
      "metadata": {
        "colab": {
          "base_uri": "https://localhost:8080/"
        },
        "id": "OrJUMLOP4E4d",
        "outputId": "bbb3fd47-8106-438f-b6bf-df980e554a4a"
      },
      "execution_count": null,
      "outputs": [
        {
          "output_type": "execute_result",
          "data": {
            "text/plain": [
              "['Apple', 'Alphabet', 'Facebook', 'Macrohard', 'Twitter', 'Amazon']"
            ]
          },
          "metadata": {},
          "execution_count": 42
        }
      ]
    },
    {
      "cell_type": "code",
      "source": [
        "tech_giants_copy[1::2] = [\"Alphabet\", \"Macrohard\"]\n",
        "tech_giants_copy"
      ],
      "metadata": {
        "colab": {
          "base_uri": "https://localhost:8080/",
          "height": 183
        },
        "id": "wpvzIvtI4P8L",
        "outputId": "3ac9c60d-f3eb-49a5-e877-1767d476bbf1"
      },
      "execution_count": null,
      "outputs": [
        {
          "output_type": "error",
          "ename": "ValueError",
          "evalue": "ignored",
          "traceback": [
            "\u001b[0;31m---------------------------------------------------------------------------\u001b[0m",
            "\u001b[0;31mValueError\u001b[0m                                Traceback (most recent call last)",
            "\u001b[0;32m<ipython-input-43-1c0324fb053f>\u001b[0m in \u001b[0;36m<cell line: 1>\u001b[0;34m()\u001b[0m\n\u001b[0;32m----> 1\u001b[0;31m \u001b[0mtech_giants_copy\u001b[0m\u001b[0;34m[\u001b[0m\u001b[0;36m1\u001b[0m\u001b[0;34m:\u001b[0m\u001b[0;34m:\u001b[0m\u001b[0;36m2\u001b[0m\u001b[0;34m]\u001b[0m \u001b[0;34m=\u001b[0m \u001b[0;34m[\u001b[0m\u001b[0;34m\"Alphabet\"\u001b[0m\u001b[0;34m,\u001b[0m \u001b[0;34m\"Macrohard\"\u001b[0m\u001b[0;34m]\u001b[0m\u001b[0;34m\u001b[0m\u001b[0;34m\u001b[0m\u001b[0m\n\u001b[0m\u001b[1;32m      2\u001b[0m \u001b[0mtech_giants_copy\u001b[0m\u001b[0;34m\u001b[0m\u001b[0;34m\u001b[0m\u001b[0m\n",
            "\u001b[0;31mValueError\u001b[0m: attempt to assign sequence of size 2 to extended slice of size 3"
          ]
        }
      ]
    },
    {
      "cell_type": "markdown",
      "source": [
        "Аналогично срезы применяются для строк и для кортежей."
      ],
      "metadata": {
        "id": "5_ZZsl7i4T6t"
      }
    },
    {
      "cell_type": "markdown",
      "metadata": {
        "id": "NBIWaVyLGnWD"
      },
      "source": [
        "***Нюанс***"
      ]
    },
    {
      "cell_type": "code",
      "source": [
        "list_example"
      ],
      "metadata": {
        "colab": {
          "base_uri": "https://localhost:8080/"
        },
        "id": "YuuPQkISiMg7",
        "outputId": "c58ca4a4-82da-4133-e544-a1fcc6c22c40"
      },
      "execution_count": null,
      "outputs": [
        {
          "output_type": "execute_result",
          "data": {
            "text/plain": [
              "[1, 2.0, 'string!', [None], False]"
            ]
          },
          "metadata": {},
          "execution_count": 38
        }
      ]
    },
    {
      "cell_type": "code",
      "source": [
        "1.0 in list_example"
      ],
      "metadata": {
        "colab": {
          "base_uri": "https://localhost:8080/"
        },
        "id": "aV-XlzR2iSBx",
        "outputId": "d6993bab-f617-44fc-f7c1-c563b82828a3"
      },
      "execution_count": null,
      "outputs": [
        {
          "output_type": "execute_result",
          "data": {
            "text/plain": [
              "True"
            ]
          },
          "metadata": {},
          "execution_count": 39
        }
      ]
    },
    {
      "cell_type": "markdown",
      "metadata": {
        "id": "PwKzJxlTRWb2"
      },
      "source": [
        "Почему `1.0 in list_example == True`, хотя у нас в списке есть `1`, а не `1.0`?"
      ]
    },
    {
      "cell_type": "markdown",
      "metadata": {
        "id": "FweGcdVTRJ6k"
      },
      "source": [
        "Python способен сравнивать числовые типы данных, например, `float` и `int`, по их значению и находить числовые элементы, игнорируя их тип. Аналогичное происходит с булевским типом:"
      ]
    },
    {
      "cell_type": "code",
      "execution_count": null,
      "metadata": {
        "colab": {
          "base_uri": "https://localhost:8080/"
        },
        "id": "F88ETloJc2Fk",
        "outputId": "ac087ab6-7b72-43ad-d243-febf3729de22"
      },
      "outputs": [
        {
          "output_type": "execute_result",
          "data": {
            "text/plain": [
              "True"
            ]
          },
          "metadata": {},
          "execution_count": 48
        }
      ],
      "source": [
        "0 in list_example"
      ]
    },
    {
      "cell_type": "markdown",
      "metadata": {
        "id": "22QdlDP7N7GO"
      },
      "source": [
        "### Арифметические действия со списками"
      ]
    },
    {
      "cell_type": "markdown",
      "metadata": {
        "id": "QLTkbd5HMkZd"
      },
      "source": [
        "Списки можно складывать. Результатом сложения двух списков будет новый список, в котором сначала будут записаны элементы первого списка, затем - второго:"
      ]
    },
    {
      "cell_type": "code",
      "execution_count": null,
      "metadata": {
        "colab": {
          "base_uri": "https://localhost:8080/"
        },
        "id": "uuyrk1lCMw_a",
        "outputId": "436498d4-2818-456e-ff22-682c33f54d91"
      },
      "outputs": [
        {
          "output_type": "execute_result",
          "data": {
            "text/plain": [
              "[1, 2, 3, 4, 5, 6]"
            ]
          },
          "metadata": {},
          "execution_count": 40
        }
      ],
      "source": [
        "a = [1, 2, 3]\n",
        "b = [4, 5, 6]\n",
        "a + b"
      ]
    },
    {
      "cell_type": "markdown",
      "metadata": {
        "id": "9ww0LNGYNPdd"
      },
      "source": [
        "А вот вычитать нельзя:"
      ]
    },
    {
      "cell_type": "code",
      "execution_count": null,
      "metadata": {
        "id": "C9aTz0a-NQ_p",
        "colab": {
          "base_uri": "https://localhost:8080/",
          "height": 166
        },
        "outputId": "99fcf5f9-a17b-4a93-8491-43f3d7c5fad6"
      },
      "outputs": [
        {
          "output_type": "error",
          "ename": "TypeError",
          "evalue": "ignored",
          "traceback": [
            "\u001b[0;31m---------------------------------------------------------------------------\u001b[0m",
            "\u001b[0;31mTypeError\u001b[0m                                 Traceback (most recent call last)",
            "\u001b[0;32m<ipython-input-67-09bd029d0285>\u001b[0m in \u001b[0;36m<cell line: 1>\u001b[0;34m()\u001b[0m\n\u001b[0;32m----> 1\u001b[0;31m \u001b[0ma\u001b[0m \u001b[0;34m-\u001b[0m \u001b[0mb\u001b[0m\u001b[0;34m\u001b[0m\u001b[0;34m\u001b[0m\u001b[0m\n\u001b[0m",
            "\u001b[0;31mTypeError\u001b[0m: unsupported operand type(s) for -: 'list' and 'list'"
          ]
        }
      ],
      "source": [
        "a - b"
      ]
    },
    {
      "cell_type": "markdown",
      "metadata": {
        "id": "2iQobm26KZ4m"
      },
      "source": [
        "Как и строки, списки можно домножать на целое число:"
      ]
    },
    {
      "cell_type": "code",
      "execution_count": null,
      "metadata": {
        "colab": {
          "base_uri": "https://localhost:8080/"
        },
        "outputId": "e76359c5-e010-45d0-c9cf-bb19bb86210d",
        "id": "JBmFaV50KZ4m"
      },
      "outputs": [
        {
          "output_type": "execute_result",
          "data": {
            "text/plain": [
              "['Hello', 'world!', 'Hello', 'world!', 'Hello', 'world!']"
            ]
          },
          "metadata": {},
          "execution_count": 102
        }
      ],
      "source": [
        "[\"Hello\", \"world!\"] * 3"
      ]
    },
    {
      "cell_type": "markdown",
      "source": [
        "Прибавить к списку число, чтобы добавить его в список, тоже нельзя:"
      ],
      "metadata": {
        "id": "A7z_VGjbq5B3"
      }
    },
    {
      "cell_type": "code",
      "source": [
        "a + 3"
      ],
      "metadata": {
        "id": "-c99JB7mrCy6",
        "colab": {
          "base_uri": "https://localhost:8080/",
          "height": 168
        },
        "outputId": "88f53d9b-90df-49dc-bb1e-1d006b286944"
      },
      "execution_count": null,
      "outputs": [
        {
          "output_type": "error",
          "ename": "TypeError",
          "evalue": "ignored",
          "traceback": [
            "\u001b[0;31m---------------------------------------------------------------------------\u001b[0m",
            "\u001b[0;31mTypeError\u001b[0m                                 Traceback (most recent call last)",
            "\u001b[0;32m<ipython-input-103-d390b6b495e8>\u001b[0m in \u001b[0;36m<module>\u001b[0;34m\u001b[0m\n\u001b[0;32m----> 1\u001b[0;31m \u001b[0ma\u001b[0m \u001b[0;34m+\u001b[0m \u001b[0;36m3\u001b[0m\u001b[0;34m\u001b[0m\u001b[0;34m\u001b[0m\u001b[0m\n\u001b[0m",
            "\u001b[0;31mTypeError\u001b[0m: can only concatenate list (not \"int\") to list"
          ]
        }
      ]
    },
    {
      "cell_type": "code",
      "source": [
        "a + [3]"
      ],
      "metadata": {
        "id": "EKpc33XYrEcm",
        "colab": {
          "base_uri": "https://localhost:8080/"
        },
        "outputId": "cba07244-55a6-44bf-d8f7-108e0a5174b9"
      },
      "execution_count": null,
      "outputs": [
        {
          "output_type": "execute_result",
          "data": {
            "text/plain": [
              "[1, 2, 3, 3]"
            ]
          },
          "metadata": {},
          "execution_count": 104
        }
      ]
    },
    {
      "cell_type": "markdown",
      "source": [
        "### Сравнение списков"
      ],
      "metadata": {
        "id": "b_VftlgP463M"
      }
    },
    {
      "cell_type": "markdown",
      "source": [
        "В Python возможно сравнивать списки с помощью операторов `>`, `>=`, `<`, `<=`, `==`, `!=`.\n",
        "\n",
        "Сравнение будет происходить поэлементно (\"лексикографически\" как в строках):"
      ],
      "metadata": {
        "id": "G3svp2N25BV2"
      }
    },
    {
      "cell_type": "code",
      "source": [
        "[1, 2, 3, 4] == [1, 2, 3, 4]"
      ],
      "metadata": {
        "colab": {
          "base_uri": "https://localhost:8080/"
        },
        "id": "uVSeI4-K5aLx",
        "outputId": "06a1ec23-94c4-48a4-b82d-b7193b4d2479"
      },
      "execution_count": null,
      "outputs": [
        {
          "output_type": "execute_result",
          "data": {
            "text/plain": [
              "True"
            ]
          },
          "metadata": {},
          "execution_count": 68
        }
      ]
    },
    {
      "cell_type": "code",
      "source": [
        "[1, 1, 2, 3, 5] < [2, 4, 6, 8]"
      ],
      "metadata": {
        "colab": {
          "base_uri": "https://localhost:8080/"
        },
        "id": "PFqb2soN5dyJ",
        "outputId": "b987e9aa-3b59-4e5d-ee63-13f15e75a251"
      },
      "execution_count": null,
      "outputs": [
        {
          "output_type": "execute_result",
          "data": {
            "text/plain": [
              "True"
            ]
          },
          "metadata": {},
          "execution_count": 69
        }
      ]
    },
    {
      "cell_type": "code",
      "source": [
        "[1, 1, 2, 3, 5] > [1.0, 2, 3, 4, 5]"
      ],
      "metadata": {
        "colab": {
          "base_uri": "https://localhost:8080/"
        },
        "id": "WXHO5ztO5jXW",
        "outputId": "70cfe60a-7b9e-40fe-9cce-c23c67045d39"
      },
      "execution_count": null,
      "outputs": [
        {
          "output_type": "execute_result",
          "data": {
            "text/plain": [
              "False"
            ]
          },
          "metadata": {},
          "execution_count": 70
        }
      ]
    },
    {
      "cell_type": "markdown",
      "source": [
        "Это работает не только для списков чисел:"
      ],
      "metadata": {
        "id": "USTwDFTT5p3n"
      }
    },
    {
      "cell_type": "code",
      "source": [
        "[\"Сбер\", \"Тинькофф\", \"Альфа\", \"ВТБ\"] < [\"Сбер\", \"МТС Банк\", \"Открытие\"]"
      ],
      "metadata": {
        "colab": {
          "base_uri": "https://localhost:8080/"
        },
        "id": "uniSX_Hl5pWZ",
        "outputId": "ab93685e-32fa-4309-c46a-e73268e76be2"
      },
      "execution_count": null,
      "outputs": [
        {
          "output_type": "execute_result",
          "data": {
            "text/plain": [
              "False"
            ]
          },
          "metadata": {},
          "execution_count": 71
        }
      ]
    },
    {
      "cell_type": "markdown",
      "source": [
        "**Главное условие** допустимости сравнения списков - чтобы соответствующие элементы списков можно было сравнить:"
      ],
      "metadata": {
        "id": "t4fiECrt59Ny"
      }
    },
    {
      "cell_type": "code",
      "source": [
        "[1, \"МТС\"] < [1.0, \"Билайн\"]"
      ],
      "metadata": {
        "colab": {
          "base_uri": "https://localhost:8080/"
        },
        "id": "-zyMv5F46DOB",
        "outputId": "7fb08373-3b07-4228-ff6f-2b89c332dcb8"
      },
      "execution_count": null,
      "outputs": [
        {
          "output_type": "execute_result",
          "data": {
            "text/plain": [
              "False"
            ]
          },
          "metadata": {},
          "execution_count": 41
        }
      ]
    },
    {
      "cell_type": "code",
      "source": [
        "[\"МТС\", 1] < [1.0, \"Билайн\"]"
      ],
      "metadata": {
        "colab": {
          "base_uri": "https://localhost:8080/",
          "height": 146
        },
        "id": "j_j3xPJ36IUv",
        "outputId": "3b10c3d6-42c0-4cad-cb43-630897105292"
      },
      "execution_count": null,
      "outputs": [
        {
          "output_type": "error",
          "ename": "TypeError",
          "evalue": "'<' not supported between instances of 'str' and 'float'",
          "traceback": [
            "\u001b[0;31m---------------------------------------------------------------------------\u001b[0m",
            "\u001b[0;31mTypeError\u001b[0m                                 Traceback (most recent call last)",
            "\u001b[0;32m<ipython-input-42-959a0f0cf4ad>\u001b[0m in \u001b[0;36m<cell line: 1>\u001b[0;34m()\u001b[0m\n\u001b[0;32m----> 1\u001b[0;31m \u001b[0;34m[\u001b[0m\u001b[0;34m\"МТС\"\u001b[0m\u001b[0;34m,\u001b[0m \u001b[0;36m1\u001b[0m\u001b[0;34m]\u001b[0m \u001b[0;34m<\u001b[0m \u001b[0;34m[\u001b[0m\u001b[0;36m1.0\u001b[0m\u001b[0;34m,\u001b[0m \u001b[0;34m\"Билайн\"\u001b[0m\u001b[0;34m]\u001b[0m\u001b[0;34m\u001b[0m\u001b[0;34m\u001b[0m\u001b[0m\n\u001b[0m",
            "\u001b[0;31mTypeError\u001b[0m: '<' not supported between instances of 'str' and 'float'"
          ]
        }
      ]
    },
    {
      "cell_type": "markdown",
      "metadata": {
        "id": "WaybI9v1eHZj"
      },
      "source": [
        "### Сортировка списка"
      ]
    },
    {
      "cell_type": "markdown",
      "metadata": {
        "id": "AAgyafC4PfoE"
      },
      "source": [
        "Часто необходимо переставить элементы в массиве так, чтобы элементы располагались в порядке возрастание. Такая операция называется **сортировкой**."
      ]
    },
    {
      "cell_type": "markdown",
      "source": [
        "Отсортировать список можем двумя способами:"
      ],
      "metadata": {
        "id": "jNycnUAylK4h"
      }
    },
    {
      "cell_type": "markdown",
      "source": [
        "1. функция `sorted` - возвращает отсорированную копию списка (исходную не меняет)"
      ],
      "metadata": {
        "id": "5ku7eU5UlOiL"
      }
    },
    {
      "cell_type": "code",
      "execution_count": null,
      "metadata": {
        "id": "kTyzlE3JP0Mm",
        "colab": {
          "base_uri": "https://localhost:8080/"
        },
        "outputId": "dfdb55d6-90f9-437a-bc46-c8b3c473deea"
      },
      "outputs": [
        {
          "output_type": "execute_result",
          "data": {
            "text/plain": [
              "[0, 1, True, 1.0, 2, 3, 7, 8, 9, 70.1, 90]"
            ]
          },
          "metadata": {},
          "execution_count": 72
        }
      ],
      "source": [
        "list_example = [0, 1, True, 70.1, 90, 7, 8, 9, 1.0, 2, 3]\n",
        "list_example_sorted = sorted(list_example)\n",
        "list_example_sorted"
      ]
    },
    {
      "cell_type": "code",
      "source": [
        "list_example"
      ],
      "metadata": {
        "id": "MAWmP4tTlanb",
        "colab": {
          "base_uri": "https://localhost:8080/"
        },
        "outputId": "2c9720fc-1b82-4474-cdfc-1d7a38002dec"
      },
      "execution_count": null,
      "outputs": [
        {
          "output_type": "execute_result",
          "data": {
            "text/plain": [
              "[0, 1, True, 70.1, 90, 7, 8, 9, 1.0, 2, 3]"
            ]
          },
          "metadata": {},
          "execution_count": 73
        }
      ]
    },
    {
      "cell_type": "markdown",
      "source": [
        "2. метод `sort` - сортирует список \"на месте\" (inplace):"
      ],
      "metadata": {
        "id": "jnSb5xfmlcFn"
      }
    },
    {
      "cell_type": "code",
      "execution_count": null,
      "metadata": {
        "id": "94v3TJOiPoFW",
        "colab": {
          "base_uri": "https://localhost:8080/"
        },
        "outputId": "deedb32f-3209-4ff1-ce38-3b2e93386c0b"
      },
      "outputs": [
        {
          "output_type": "execute_result",
          "data": {
            "text/plain": [
              "[0, 1, True, 1.0, 2, 3, 7, 8, 9, 70.1, 90]"
            ]
          },
          "metadata": {},
          "execution_count": 75
        }
      ],
      "source": [
        "list_example = [0, 1, True, 70.1, 90, 7, 8, 9, 1.0, 2, 3]\n",
        "list_example.sort()\n",
        "list_example"
      ]
    },
    {
      "cell_type": "markdown",
      "source": [
        "**Что делать, если хотим отсортировать по убыванию?**\n",
        "\n",
        "У функции `sorted` и метода `sort` есть необязательный аргумент reverse, если ему установить значение `True`, то получим сортировку по убыванию:"
      ],
      "metadata": {
        "id": "EoN20JBKo-Uk"
      }
    },
    {
      "cell_type": "code",
      "source": [
        "list_example = [0, 1, True, 70.1, 90, 7, 8, 9, 1, 2, 3]"
      ],
      "metadata": {
        "id": "CPO7GqPBpX6z"
      },
      "execution_count": null,
      "outputs": []
    },
    {
      "cell_type": "code",
      "source": [
        "sorted(list_example)"
      ],
      "metadata": {
        "colab": {
          "base_uri": "https://localhost:8080/"
        },
        "id": "QGO1GS-WpQmZ",
        "outputId": "fb3988e3-929c-49c7-f138-7f30a5ccd8d8"
      },
      "execution_count": null,
      "outputs": [
        {
          "output_type": "execute_result",
          "data": {
            "text/plain": [
              "[0, 1, True, 1, 2, 3, 7, 8, 9, 70.1, 90]"
            ]
          },
          "metadata": {},
          "execution_count": 77
        }
      ]
    },
    {
      "cell_type": "code",
      "source": [
        "sorted(list_example, reverse=True)"
      ],
      "metadata": {
        "colab": {
          "base_uri": "https://localhost:8080/"
        },
        "id": "ogK14eo5pSde",
        "outputId": "a47a64a4-49a6-4f41-ce89-ccebd7fd07ee"
      },
      "execution_count": null,
      "outputs": [
        {
          "output_type": "execute_result",
          "data": {
            "text/plain": [
              "[90, 70.1, 9, 8, 7, 3, 2, 1, True, 1, 0]"
            ]
          },
          "metadata": {},
          "execution_count": 79
        }
      ]
    },
    {
      "cell_type": "code",
      "source": [
        "list_example = [0, 1, True, 70.1, 90, 7, 8, 9, 1.0, 2, 3]\n",
        "list_example.sort()\n",
        "list_example"
      ],
      "metadata": {
        "colab": {
          "base_uri": "https://localhost:8080/"
        },
        "id": "8y9ZRsuYYvk1",
        "outputId": "a271d645-e01b-4df8-9d96-c38045d458a5"
      },
      "execution_count": null,
      "outputs": [
        {
          "output_type": "execute_result",
          "data": {
            "text/plain": [
              "[0, 1, True, 1.0, 2, 3, 7, 8, 9, 70.1, 90]"
            ]
          },
          "metadata": {},
          "execution_count": 80
        }
      ]
    },
    {
      "cell_type": "code",
      "source": [
        "list_example = [0, 1, True, 70.1, 90, 7, 8, 9, 1.0, 2, 3]\n",
        "list_example.sort(reverse=True)\n",
        "list_example"
      ],
      "metadata": {
        "colab": {
          "base_uri": "https://localhost:8080/"
        },
        "id": "ow5OcRYOYs95",
        "outputId": "c391752c-65ae-4094-ad89-d616aa3af966"
      },
      "execution_count": null,
      "outputs": [
        {
          "output_type": "execute_result",
          "data": {
            "text/plain": [
              "[90, 70.1, 9, 8, 7, 3, 2, 1, True, 1.0, 0]"
            ]
          },
          "metadata": {},
          "execution_count": 81
        }
      ]
    },
    {
      "cell_type": "markdown",
      "metadata": {
        "id": "8Xu1S4eJQ3g3"
      },
      "source": [
        "Сортировать можно не только списки, состоящие из чисел:"
      ]
    },
    {
      "cell_type": "code",
      "execution_count": null,
      "metadata": {
        "id": "KxI9KMGcP2y6"
      },
      "outputs": [],
      "source": [
        "list_example = ['9', '4', '42', '8', 'a', 'bb', 'bac', 'символы']\n",
        "sorted(list_example)"
      ]
    },
    {
      "cell_type": "markdown",
      "source": [
        "Сортировка списка строк выполняется по лексикографическому порядку."
      ],
      "metadata": {
        "id": "ThKDUtE_l4xP"
      }
    },
    {
      "cell_type": "markdown",
      "metadata": {
        "id": "xzZJfTosSeEJ"
      },
      "source": [
        "\n",
        "\n",
        "А что насчет сортировки списка, состоящего из элементов разных типов? Увы, такая операция в общем случае не поддерживается:"
      ]
    },
    {
      "cell_type": "code",
      "execution_count": null,
      "metadata": {
        "id": "5eKiX3UHQZo7",
        "colab": {
          "base_uri": "https://localhost:8080/",
          "height": 183
        },
        "outputId": "bef3b88b-e1f1-40cd-da33-03b96cab0b90"
      },
      "outputs": [
        {
          "output_type": "error",
          "ename": "TypeError",
          "evalue": "ignored",
          "traceback": [
            "\u001b[0;31m---------------------------------------------------------------------------\u001b[0m",
            "\u001b[0;31mTypeError\u001b[0m                                 Traceback (most recent call last)",
            "\u001b[0;32m<ipython-input-82-edb5e904023d>\u001b[0m in \u001b[0;36m<cell line: 2>\u001b[0;34m()\u001b[0m\n\u001b[1;32m      1\u001b[0m \u001b[0mlist_example\u001b[0m \u001b[0;34m=\u001b[0m \u001b[0;34m[\u001b[0m\u001b[0;34m[\u001b[0m\u001b[0;36m1\u001b[0m\u001b[0;34m,\u001b[0m \u001b[0;36m2\u001b[0m\u001b[0;34m]\u001b[0m\u001b[0;34m,\u001b[0m \u001b[0;36m1\u001b[0m\u001b[0;34m,\u001b[0m \u001b[0;36m2\u001b[0m\u001b[0;34m]\u001b[0m\u001b[0;34m\u001b[0m\u001b[0;34m\u001b[0m\u001b[0m\n\u001b[0;32m----> 2\u001b[0;31m \u001b[0msorted\u001b[0m\u001b[0;34m(\u001b[0m\u001b[0mlist_example\u001b[0m\u001b[0;34m)\u001b[0m\u001b[0;34m\u001b[0m\u001b[0;34m\u001b[0m\u001b[0m\n\u001b[0m",
            "\u001b[0;31mTypeError\u001b[0m: '<' not supported between instances of 'int' and 'list'"
          ]
        }
      ],
      "source": [
        "list_example = [[1, 2], 1, 2]\n",
        "sorted(list_example)"
      ]
    },
    {
      "cell_type": "markdown",
      "metadata": {
        "id": "rVWqOI8j8net"
      },
      "source": [
        "## `tuple`"
      ]
    },
    {
      "cell_type": "markdown",
      "metadata": {
        "id": "FNayj9XntqQe"
      },
      "source": [
        "**Tuple** (кортеж) - **неизменяемый(!)** упорядоченный набор данных, в котором доступ к его элементам предоставляется по индексу (порядковому номеру)."
      ]
    },
    {
      "cell_type": "markdown",
      "source": [
        "**Если коротко** - кортеж является неизменяемым списком."
      ],
      "metadata": {
        "id": "hu1bmAqTmg-I"
      }
    },
    {
      "cell_type": "markdown",
      "source": [
        "Создадим кортежи с элементами:"
      ],
      "metadata": {
        "id": "Il7O4PPymoAM"
      }
    },
    {
      "cell_type": "code",
      "execution_count": null,
      "metadata": {
        "id": "UJ8N5bgQmoAN",
        "colab": {
          "base_uri": "https://localhost:8080/"
        },
        "outputId": "30de1841-2bdc-4b2a-d112-207e436171cc"
      },
      "outputs": [
        {
          "output_type": "execute_result",
          "data": {
            "text/plain": [
              "(1, 2.0, 'string!', [None], False)"
            ]
          },
          "metadata": {},
          "execution_count": 84
        }
      ],
      "source": [
        "tuple_example = (1, 2.0, 'string!', [None], False)  # Перечисляем через запятую\n",
        "tuple_example"
      ]
    },
    {
      "cell_type": "markdown",
      "metadata": {
        "id": "XY0GDp70Zxec"
      },
      "source": [
        "**Замечание** - чтобы создать кортеж из одного элемента, необходимо после него поставить запятую:"
      ]
    },
    {
      "cell_type": "code",
      "execution_count": null,
      "metadata": {
        "id": "tVj1tjAmZuBO"
      },
      "outputs": [],
      "source": [
        "fake_tuple = (4)\n",
        "real_tuple = (4,)"
      ]
    },
    {
      "cell_type": "code",
      "source": [
        "type(fake_tuple)"
      ],
      "metadata": {
        "id": "U5YUq-ZgnJ5-",
        "colab": {
          "base_uri": "https://localhost:8080/"
        },
        "outputId": "4079c319-8f52-41fe-c51e-5495770c662f"
      },
      "execution_count": null,
      "outputs": [
        {
          "output_type": "execute_result",
          "data": {
            "text/plain": [
              "int"
            ]
          },
          "metadata": {},
          "execution_count": 87
        }
      ]
    },
    {
      "cell_type": "code",
      "source": [
        "type(real_tuple)"
      ],
      "metadata": {
        "id": "nay5x47ZnM1o",
        "colab": {
          "base_uri": "https://localhost:8080/"
        },
        "outputId": "0a0aa248-df5d-4a81-ccfc-3d4c8e735320"
      },
      "execution_count": null,
      "outputs": [
        {
          "output_type": "execute_result",
          "data": {
            "text/plain": [
              "tuple"
            ]
          },
          "metadata": {},
          "execution_count": 88
        }
      ]
    },
    {
      "cell_type": "markdown",
      "metadata": {
        "id": "ziRGM3kRa-py"
      },
      "source": [
        "Возможно создать кортеж и без круглых скобок по бокам (по сути - будет присвоение \"один ко многим\"), но это порой ухудшает читаемость кода:"
      ]
    },
    {
      "cell_type": "code",
      "execution_count": null,
      "metadata": {
        "colab": {
          "base_uri": "https://localhost:8080/"
        },
        "id": "ozpvJBWD8la3",
        "outputId": "b8e13a81-3ef6-45b6-c3e7-42ca81ce2ffc"
      },
      "outputs": [
        {
          "output_type": "stream",
          "name": "stdout",
          "text": [
            "('a', 5, 12.345, (2, 'b'))\n",
            "<class 'tuple'>\n"
          ]
        }
      ],
      "source": [
        "tuple_example = 'a', 5, 12.345, (2, 'b')\n",
        "print(tuple_example)\n",
        "print(type(tuple_example))"
      ]
    },
    {
      "cell_type": "markdown",
      "source": [
        "В Python возможно множественное присваивание:"
      ],
      "metadata": {
        "id": "av9z6U47ne3I"
      }
    },
    {
      "cell_type": "code",
      "execution_count": null,
      "metadata": {
        "id": "ahySzokfaRWT"
      },
      "outputs": [],
      "source": [
        "a, b = 1, 2"
      ]
    },
    {
      "cell_type": "code",
      "source": [
        "a"
      ],
      "metadata": {
        "id": "kPYEqxBcnkmV",
        "colab": {
          "base_uri": "https://localhost:8080/"
        },
        "outputId": "2c5fbe61-0fd5-4bad-8bbf-7bcca25acfc0"
      },
      "execution_count": null,
      "outputs": [
        {
          "output_type": "execute_result",
          "data": {
            "text/plain": [
              "1"
            ]
          },
          "metadata": {},
          "execution_count": 91
        }
      ]
    },
    {
      "cell_type": "code",
      "source": [
        "b"
      ],
      "metadata": {
        "id": "AYsDRUsXnj3y",
        "colab": {
          "base_uri": "https://localhost:8080/"
        },
        "outputId": "c98e31b8-e7aa-4683-c77a-e35043b7a645"
      },
      "execution_count": null,
      "outputs": [
        {
          "output_type": "execute_result",
          "data": {
            "text/plain": [
              "2"
            ]
          },
          "metadata": {},
          "execution_count": 92
        }
      ]
    },
    {
      "cell_type": "markdown",
      "metadata": {
        "id": "mM2mwASXbw6X"
      },
      "source": [
        "По сути, это эквивалентно:"
      ]
    },
    {
      "cell_type": "code",
      "execution_count": null,
      "metadata": {
        "id": "pfJ5yUiP2P5T"
      },
      "outputs": [],
      "source": [
        "(a, b) = (1, 2)"
      ]
    },
    {
      "cell_type": "code",
      "source": [
        "a"
      ],
      "metadata": {
        "id": "q3e-5erznm_P",
        "colab": {
          "base_uri": "https://localhost:8080/"
        },
        "outputId": "2211816c-72fe-402b-e51c-45e328a0bb8b"
      },
      "execution_count": null,
      "outputs": [
        {
          "output_type": "execute_result",
          "data": {
            "text/plain": [
              "1"
            ]
          },
          "metadata": {},
          "execution_count": 94
        }
      ]
    },
    {
      "cell_type": "code",
      "source": [
        "b"
      ],
      "metadata": {
        "id": "LsbdfWBLnndX",
        "colab": {
          "base_uri": "https://localhost:8080/"
        },
        "outputId": "3b32355f-2fdf-422f-fc14-9f9abc9d15b0"
      },
      "execution_count": null,
      "outputs": [
        {
          "output_type": "execute_result",
          "data": {
            "text/plain": [
              "2"
            ]
          },
          "metadata": {},
          "execution_count": 95
        }
      ]
    },
    {
      "cell_type": "markdown",
      "metadata": {
        "id": "hcc1lWSgluGP"
      },
      "source": [
        "### Неизменяемость кортежа"
      ]
    },
    {
      "cell_type": "markdown",
      "metadata": {
        "id": "pNp-uu_b8rpY"
      },
      "source": [
        "**Кортеж нельзя изменять.** Давайте в этом убедимся:"
      ]
    },
    {
      "cell_type": "code",
      "source": [
        "tuple_example"
      ],
      "metadata": {
        "id": "xps65Vk6nxCt",
        "colab": {
          "base_uri": "https://localhost:8080/"
        },
        "outputId": "febcbf43-3104-49b5-cda4-04609a924827"
      },
      "execution_count": null,
      "outputs": [
        {
          "output_type": "execute_result",
          "data": {
            "text/plain": [
              "('a', 5, 12.345, (2, 'b'))"
            ]
          },
          "metadata": {},
          "execution_count": 96
        }
      ]
    },
    {
      "cell_type": "code",
      "source": [
        "tuple_example.append(5)"
      ],
      "metadata": {
        "id": "IogtzZyanyoN",
        "colab": {
          "base_uri": "https://localhost:8080/",
          "height": 166
        },
        "outputId": "3533326b-e258-4250-9930-aef0ece38e12"
      },
      "execution_count": null,
      "outputs": [
        {
          "output_type": "error",
          "ename": "AttributeError",
          "evalue": "ignored",
          "traceback": [
            "\u001b[0;31m---------------------------------------------------------------------------\u001b[0m",
            "\u001b[0;31mAttributeError\u001b[0m                            Traceback (most recent call last)",
            "\u001b[0;32m<ipython-input-97-62d4e63f353f>\u001b[0m in \u001b[0;36m<cell line: 1>\u001b[0;34m()\u001b[0m\n\u001b[0;32m----> 1\u001b[0;31m \u001b[0mtuple_example\u001b[0m\u001b[0;34m.\u001b[0m\u001b[0mappend\u001b[0m\u001b[0;34m(\u001b[0m\u001b[0;36m5\u001b[0m\u001b[0;34m)\u001b[0m\u001b[0;34m\u001b[0m\u001b[0;34m\u001b[0m\u001b[0m\n\u001b[0m",
            "\u001b[0;31mAttributeError\u001b[0m: 'tuple' object has no attribute 'append'"
          ]
        }
      ]
    },
    {
      "cell_type": "code",
      "execution_count": null,
      "metadata": {
        "id": "4UzHGykf8tIm",
        "colab": {
          "base_uri": "https://localhost:8080/",
          "height": 166
        },
        "outputId": "f6e52994-d58c-4282-bb35-a7602120e4b7"
      },
      "outputs": [
        {
          "output_type": "error",
          "ename": "TypeError",
          "evalue": "ignored",
          "traceback": [
            "\u001b[0;31m---------------------------------------------------------------------------\u001b[0m",
            "\u001b[0;31mTypeError\u001b[0m                                 Traceback (most recent call last)",
            "\u001b[0;32m<ipython-input-98-865b2b5acc11>\u001b[0m in \u001b[0;36m<cell line: 1>\u001b[0;34m()\u001b[0m\n\u001b[0;32m----> 1\u001b[0;31m \u001b[0mtuple_example\u001b[0m\u001b[0;34m[\u001b[0m\u001b[0;36m0\u001b[0m\u001b[0;34m]\u001b[0m \u001b[0;34m=\u001b[0m \u001b[0;36m9\u001b[0m\u001b[0;34m\u001b[0m\u001b[0;34m\u001b[0m\u001b[0m\n\u001b[0m",
            "\u001b[0;31mTypeError\u001b[0m: 'tuple' object does not support item assignment"
          ]
        }
      ],
      "source": [
        "tuple_example[0] = 9"
      ]
    },
    {
      "cell_type": "code",
      "source": [
        "tuple_example.pop()"
      ],
      "metadata": {
        "id": "MFZiHm7_n03b",
        "colab": {
          "base_uri": "https://localhost:8080/",
          "height": 166
        },
        "outputId": "94f812fc-eb3d-4e31-d741-85cbcb624b34"
      },
      "execution_count": null,
      "outputs": [
        {
          "output_type": "error",
          "ename": "AttributeError",
          "evalue": "ignored",
          "traceback": [
            "\u001b[0;31m---------------------------------------------------------------------------\u001b[0m",
            "\u001b[0;31mAttributeError\u001b[0m                            Traceback (most recent call last)",
            "\u001b[0;32m<ipython-input-99-4a9e1f2a3d9d>\u001b[0m in \u001b[0;36m<cell line: 1>\u001b[0;34m()\u001b[0m\n\u001b[0;32m----> 1\u001b[0;31m \u001b[0mtuple_example\u001b[0m\u001b[0;34m.\u001b[0m\u001b[0mpop\u001b[0m\u001b[0;34m(\u001b[0m\u001b[0;34m)\u001b[0m\u001b[0;34m\u001b[0m\u001b[0;34m\u001b[0m\u001b[0m\n\u001b[0m",
            "\u001b[0;31mAttributeError\u001b[0m: 'tuple' object has no attribute 'pop'"
          ]
        }
      ]
    },
    {
      "cell_type": "markdown",
      "metadata": {
        "id": "PA3nqEPe8xsW"
      },
      "source": [
        "Как и списки, кортежи можно складывать:"
      ]
    },
    {
      "cell_type": "code",
      "execution_count": null,
      "metadata": {
        "colab": {
          "base_uri": "https://localhost:8080/"
        },
        "id": "rymxg6rCVA3Q",
        "outputId": "c38cc66a-01ac-4e5a-8f68-4eabf81a3e5b"
      },
      "outputs": [
        {
          "output_type": "execute_result",
          "data": {
            "text/plain": [
              "('a', 5, 12.345, (2, 'b'), 1, 2, 3)"
            ]
          },
          "metadata": {},
          "execution_count": 103
        }
      ],
      "source": [
        "m = (1, 2, 3)\n",
        "tuple_example + m"
      ]
    },
    {
      "cell_type": "markdown",
      "metadata": {
        "id": "HAVyHAl6cWUQ"
      },
      "source": [
        "В общем, с кортежами можно делать все, что можно делать со списками, если это не изменяет кортеж:"
      ]
    },
    {
      "cell_type": "code",
      "source": [
        "# узнать размер\n",
        "print(len(tuple_example))"
      ],
      "metadata": {
        "id": "uLzZw_oooOy_",
        "colab": {
          "base_uri": "https://localhost:8080/"
        },
        "outputId": "b1422bbd-5613-48cf-dda7-4860ca3f34bf"
      },
      "execution_count": null,
      "outputs": [
        {
          "output_type": "stream",
          "name": "stdout",
          "text": [
            "4\n"
          ]
        }
      ]
    },
    {
      "cell_type": "code",
      "execution_count": null,
      "metadata": {
        "id": "JTwqdT9G8w2W",
        "colab": {
          "base_uri": "https://localhost:8080/"
        },
        "outputId": "dd2d057c-1930-4390-bf8d-5823b83bd134"
      },
      "outputs": [
        {
          "output_type": "stream",
          "name": "stdout",
          "text": [
            "True\n"
          ]
        }
      ],
      "source": [
        "# проверить наличие элемента\n",
        "print(5 in tuple_example)"
      ]
    },
    {
      "cell_type": "markdown",
      "metadata": {
        "id": "nUvEnqR-lzBQ"
      },
      "source": [
        "### Зачем нужен кортеж?"
      ]
    },
    {
      "cell_type": "markdown",
      "metadata": {
        "id": "yht4_LCgo0kY"
      },
      "source": [
        "**Вопрос** - зачем нужен `tuple`, если есть более удобный в использовании `list`?"
      ]
    },
    {
      "cell_type": "markdown",
      "source": [
        "**Преимущества кортежа:**\n",
        "\n",
        "1. **Кортежи работают быстрее списков.** Если нужен константный массив, то лучше использовать кортежи.\n",
        "2. **Защита данных от записи.** Кортежи позволяют явно защитить данные от изменений.\n",
        "3. **Могут быть использованы как ключи для словарей.** Некоторые кортежи являются хэшируемыми, и поэтому могут использоваться в качестве ключей для словарей."
      ],
      "metadata": {
        "id": "NApl0tl1oTCE"
      }
    },
    {
      "cell_type": "markdown",
      "metadata": {
        "id": "ESGMEpZ9pJ1c"
      },
      "source": [
        "## `dict`"
      ]
    },
    {
      "cell_type": "markdown",
      "metadata": {
        "id": "WyYh4GCCODXE"
      },
      "source": [
        "**Dict** (словарь, ассоциативный массив, хеш-таблица) - *key-value* хранилище, т.е. способен хранить пары объектов \"ключ-значение\" и получать значение объекта по его ключу. В качестве ключа может использоваться любое *хэшируемое* значение."
      ]
    },
    {
      "cell_type": "markdown",
      "metadata": {
        "id": "GGZ8-HnR9O8U"
      },
      "source": [
        "![image.png](data:image/png;base64,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)"
      ]
    },
    {
      "cell_type": "markdown",
      "source": [
        "### Зачем нужны словари?"
      ],
      "metadata": {
        "id": "_AWPsJZB-rRe"
      }
    },
    {
      "cell_type": "markdown",
      "source": [
        "Часто необходимо сопоставлять набор данных не с порядковыми числами, а с какими-либо другими данными.\n",
        "\n",
        "Например, делаем программу для перевода с английского на русский. Нам неудобно хранить английские и русские слова в виде двух списков - при необходимости перевода слова его сначала надо найти в списке английских слов, запомнить его индекс,а затем посмотреть элемент с этим индексом во втором списке - **это неудобно**.\n",
        "\n",
        "**Более того, это неэффективно**. Чтобы проверить, есть ли у нас перевод для определенного английского слова, нужно проверить все сохраненные английские слова!\n",
        "\n",
        "Решить эти две проблемы и позволяет словарь (хеш-таблица)."
      ],
      "metadata": {
        "id": "uteaP6UyBJ89"
      }
    },
    {
      "cell_type": "markdown",
      "metadata": {
        "id": "UnVKodNEvkXJ"
      },
      "source": [
        "Создать словарь в Python можно либо с помощью фигурных скобок, либо с помощью функции `dict`:"
      ]
    },
    {
      "cell_type": "code",
      "execution_count": null,
      "metadata": {
        "id": "oD3Q0LUGEgna",
        "colab": {
          "base_uri": "https://localhost:8080/"
        },
        "outputId": "c59fac92-dbd3-4c74-947a-7d2fba4898b1"
      },
      "outputs": [
        {
          "output_type": "execute_result",
          "data": {
            "text/plain": [
              "{'ivan': 100, 'peter': 200, -10: 'new', (1, -10): True}"
            ]
          },
          "metadata": {},
          "execution_count": 43
        }
      ],
      "source": [
        "dict_example = {'ivan': 100, 'peter': 200, -10: 'new', (1, -10): True}  # Перечисляем пары через запятую\n",
        "dict_example"
      ]
    },
    {
      "cell_type": "code",
      "source": [
        "dict_example = dict([\n",
        "     ('ivan', 100),\n",
        "     ('peter', 200),\n",
        "     (-10, 'new'),\n",
        "     ((1, -10), True)\n",
        "])\n",
        "dict_example"
      ],
      "metadata": {
        "id": "5Z-rHGvMErsS",
        "colab": {
          "base_uri": "https://localhost:8080/"
        },
        "outputId": "d1b95d65-d16a-4f96-8e6b-0a22cdbbcab0"
      },
      "execution_count": null,
      "outputs": [
        {
          "output_type": "execute_result",
          "data": {
            "text/plain": [
              "{'ivan': 100, 'peter': 200, -10: 'new', (1, -10): True}"
            ]
          },
          "metadata": {},
          "execution_count": 44
        }
      ]
    },
    {
      "cell_type": "markdown",
      "metadata": {
        "id": "sBydXSNfFG5x"
      },
      "source": [
        "Самым удобным способом создать словарь из двух списков (список ключей и список значений) является использование функции `zip`:"
      ]
    },
    {
      "cell_type": "code",
      "execution_count": null,
      "metadata": {
        "id": "78vRpbMZFQpR"
      },
      "outputs": [],
      "source": [
        "keys = ['ivan', 'peter', -10, (1, -10)]\n",
        "values = [100, 200, 'new', True]\n",
        "\n",
        "dict_example = dict(zip(keys, values))\n",
        "dict_example"
      ]
    },
    {
      "cell_type": "code",
      "source": [
        "a = [1, 2, 3, 4]\n",
        "b = (1.5, 2.5, 3.5, 4.5)\n",
        "c = \"АБВГД\"\n",
        "res = list(zip(a, b, c))  # дополнительно преобразуем в список, т.к. zip возвращает особый тип данных\n",
        "res"
      ],
      "metadata": {
        "colab": {
          "base_uri": "https://localhost:8080/"
        },
        "id": "BQ0GlEfCFEXb",
        "outputId": "64366bea-b7bb-41d8-85d7-3cb542b59928"
      },
      "execution_count": null,
      "outputs": [
        {
          "output_type": "execute_result",
          "data": {
            "text/plain": [
              "[(1, 1.5, 'А'), (2, 2.5, 'Б'), (3, 3.5, 'В'), (4, 4.5, 'Г')]"
            ]
          },
          "metadata": {},
          "execution_count": 141
        }
      ]
    },
    {
      "cell_type": "code",
      "source": [
        "res[2][0]"
      ],
      "metadata": {
        "colab": {
          "base_uri": "https://localhost:8080/"
        },
        "id": "Ts3S4164h79_",
        "outputId": "7a916f51-9643-4985-c303-4a6e71751e60"
      },
      "execution_count": null,
      "outputs": [
        {
          "output_type": "execute_result",
          "data": {
            "text/plain": [
              "3"
            ]
          },
          "metadata": {},
          "execution_count": 143
        }
      ]
    },
    {
      "cell_type": "markdown",
      "source": [
        "Если хотим создать словарь с заданным набором ключей и одинаковыми (начальными) значениями, удобно использовать метод `fromkeys`:"
      ],
      "metadata": {
        "id": "iLWDQ9nXKucJ"
      }
    },
    {
      "cell_type": "code",
      "source": [
        "keys_list = [\"Январь\", \"Февраль\", \"Март\", \"Апрель\", \"Май\", \"Июнь\", \"Июль\", \"Август\", \"Сентябрь\", \"Октябрь\", \"Ноябрь\", \"Декабрь\"]\n",
        "month_dict = dict.fromkeys(keys_list, 0)  # необычное написание, вызываем метод от \"функции\" dict, а не от словаря\n",
        "month_dict"
      ],
      "metadata": {
        "colab": {
          "base_uri": "https://localhost:8080/"
        },
        "id": "ITOawVV9K7pK",
        "outputId": "3e40605d-dab1-42a2-fead-eb0b67d52b81"
      },
      "execution_count": null,
      "outputs": [
        {
          "output_type": "execute_result",
          "data": {
            "text/plain": [
              "{'Январь': 0,\n",
              " 'Февраль': 0,\n",
              " 'Март': 0,\n",
              " 'Апрель': 0,\n",
              " 'Май': 0,\n",
              " 'Июнь': 0,\n",
              " 'Июль': 0,\n",
              " 'Август': 0,\n",
              " 'Сентябрь': 0,\n",
              " 'Октябрь': 0,\n",
              " 'Ноябрь': 0,\n",
              " 'Декабрь': 0}"
            ]
          },
          "metadata": {},
          "execution_count": 109
        }
      ]
    },
    {
      "cell_type": "markdown",
      "source": [
        "Если хотим другое начальное значение, то можем указать его вторым аргументом:"
      ],
      "metadata": {
        "id": "awjj2jZ9LRCs"
      }
    },
    {
      "cell_type": "code",
      "source": [
        "month_dict = dict.fromkeys(keys_list, [])\n",
        "month_dict"
      ],
      "metadata": {
        "colab": {
          "base_uri": "https://localhost:8080/"
        },
        "id": "nyd7VvsOLf8K",
        "outputId": "af7f5625-a8d0-44f8-ff26-c139a1a61333"
      },
      "execution_count": null,
      "outputs": [
        {
          "output_type": "execute_result",
          "data": {
            "text/plain": [
              "{'Январь': [],\n",
              " 'Февраль': [],\n",
              " 'Март': [],\n",
              " 'Апрель': [],\n",
              " 'Май': [],\n",
              " 'Июнь': [],\n",
              " 'Июль': [],\n",
              " 'Август': [],\n",
              " 'Сентябрь': [],\n",
              " 'Октябрь': [],\n",
              " 'Ноябрь': [],\n",
              " 'Декабрь': []}"
            ]
          },
          "metadata": {},
          "execution_count": 110
        }
      ]
    },
    {
      "cell_type": "markdown",
      "source": [
        "**Что будет, если запросим значени ключа, которого нет в словаре?**\n",
        "\n",
        "Получим ошибку:"
      ],
      "metadata": {
        "id": "26mweltsHHt-"
      }
    },
    {
      "cell_type": "code",
      "source": [
        "dict_example['ivan_the_greatest']"
      ],
      "metadata": {
        "id": "GA8-SGWqHNN_",
        "colab": {
          "base_uri": "https://localhost:8080/",
          "height": 166
        },
        "outputId": "0991396d-7098-4877-c026-c9f6453c1bd2"
      },
      "execution_count": null,
      "outputs": [
        {
          "output_type": "error",
          "ename": "KeyError",
          "evalue": "ignored",
          "traceback": [
            "\u001b[0;31m---------------------------------------------------------------------------\u001b[0m",
            "\u001b[0;31mKeyError\u001b[0m                                  Traceback (most recent call last)",
            "\u001b[0;32m<ipython-input-121-b3855fab5d89>\u001b[0m in \u001b[0;36m<cell line: 1>\u001b[0;34m()\u001b[0m\n\u001b[0;32m----> 1\u001b[0;31m \u001b[0mdict_example\u001b[0m\u001b[0;34m[\u001b[0m\u001b[0;34m'ivan_the_greatest'\u001b[0m\u001b[0;34m]\u001b[0m\u001b[0;34m\u001b[0m\u001b[0;34m\u001b[0m\u001b[0m\n\u001b[0m",
            "\u001b[0;31mKeyError\u001b[0m: 'ivan_the_greatest'"
          ]
        }
      ]
    },
    {
      "cell_type": "markdown",
      "source": [
        "Аналогичную ошибку получим при попытке удалить пару по отсутствующему ключу.\n",
        "\n",
        "Такая ситуация может возникать достаточно часто, а ошибки в программе - вещь неприятная. Можем ли мы как-нибудь *безопасно* получить значение по ключу, если он есть?"
      ],
      "metadata": {
        "id": "64aBYHTnHPo-"
      }
    },
    {
      "cell_type": "markdown",
      "source": [
        "Можем, для этого есть 2 метода:"
      ],
      "metadata": {
        "id": "7j5eMj4zHc5d"
      }
    },
    {
      "cell_type": "markdown",
      "metadata": {
        "id": "IMrHPoTj1wk5"
      },
      "source": [
        "Рассмотрим некоторые полезные методы словарей, полный список методов с описанием - [ссылка](https://python-reference.readthedocs.io/en/latest/docs/dict/)."
      ]
    },
    {
      "cell_type": "markdown",
      "metadata": {
        "id": "4RmjVDdtpNxE"
      },
      "source": [
        "Для безопасного получения значения из словаря используем методы `get` и `setdefault`:"
      ]
    },
    {
      "cell_type": "code",
      "source": [
        "dict_example = {'ivan': 100, 'peter': 200, -10: 'new', (1, -10): True, 'oleg': 42}\n",
        "dict_example"
      ],
      "metadata": {
        "colab": {
          "base_uri": "https://localhost:8080/"
        },
        "id": "y4YwXBeeHl29",
        "outputId": "83787924-d26a-4a05-fc7c-3476b035fc9e"
      },
      "execution_count": null,
      "outputs": [
        {
          "output_type": "execute_result",
          "data": {
            "text/plain": [
              "{'ivan': 100, 'peter': 200, -10: 'new', (1, -10): True, 'oleg': 42}"
            ]
          },
          "metadata": {},
          "execution_count": 123
        }
      ]
    },
    {
      "cell_type": "markdown",
      "source": [
        "1. метод `get` - если ключ есть, то возвращает соответствующее значение, если нет, то возвращает `None`:"
      ],
      "metadata": {
        "id": "BZwa8LChHnKu"
      }
    },
    {
      "cell_type": "code",
      "source": [
        "key = 'peter'\n",
        "dict_example.get(key)"
      ],
      "metadata": {
        "colab": {
          "base_uri": "https://localhost:8080/"
        },
        "id": "alC0bGN3H0Sp",
        "outputId": "14d8d5d3-7371-4e8f-b44a-6132fffa6f50"
      },
      "execution_count": null,
      "outputs": [
        {
          "output_type": "execute_result",
          "data": {
            "text/plain": [
              "200"
            ]
          },
          "metadata": {},
          "execution_count": 126
        }
      ]
    },
    {
      "cell_type": "code",
      "source": [
        "print(dict_example.get('alex'))"
      ],
      "metadata": {
        "id": "Rt8JvSb3H00-",
        "colab": {
          "base_uri": "https://localhost:8080/"
        },
        "outputId": "6ea34e89-055e-45df-8376-61bc6530bda2"
      },
      "execution_count": null,
      "outputs": [
        {
          "output_type": "stream",
          "name": "stdout",
          "text": [
            "None\n"
          ]
        }
      ]
    },
    {
      "cell_type": "markdown",
      "source": [
        "Если хотим, чтобы при отсутствии значения возвращалось что-то другое, можем указать это как второй аргумент:"
      ],
      "metadata": {
        "id": "qMBeJxn9H8W8"
      }
    },
    {
      "cell_type": "code",
      "source": [
        "dict_example.get('alex', \"not_found\")"
      ],
      "metadata": {
        "colab": {
          "base_uri": "https://localhost:8080/",
          "height": 35
        },
        "id": "sjR0lQy3IGzv",
        "outputId": "75549ba5-cefa-494e-95cd-6699a7f9847c"
      },
      "execution_count": null,
      "outputs": [
        {
          "output_type": "execute_result",
          "data": {
            "text/plain": [
              "'not_found'"
            ],
            "application/vnd.google.colaboratory.intrinsic+json": {
              "type": "string"
            }
          },
          "metadata": {},
          "execution_count": 128
        }
      ]
    },
    {
      "cell_type": "code",
      "source": [
        "dict_example"
      ],
      "metadata": {
        "colab": {
          "base_uri": "https://localhost:8080/"
        },
        "id": "A6aQ0toZjzcG",
        "outputId": "f7858320-75a4-4ead-ca9a-0a54125bdcaa"
      },
      "execution_count": null,
      "outputs": [
        {
          "output_type": "execute_result",
          "data": {
            "text/plain": [
              "{'ivan': 100, 'peter': 200, -10: 'new', (1, -10): True, 'oleg': 42}"
            ]
          },
          "metadata": {},
          "execution_count": 129
        }
      ]
    },
    {
      "cell_type": "markdown",
      "source": [
        "2. метод `setdefault` - если ключ есть, то возвращает соответствующее значение, если нет, то возвращает `None` **И** добавляет это значение для запрашиваемого ключа в словарь:"
      ],
      "metadata": {
        "id": "5XWXon0xIR4X"
      }
    },
    {
      "cell_type": "code",
      "source": [
        "key = 'peter'\n",
        "dict_example.setdefault(key)"
      ],
      "metadata": {
        "colab": {
          "base_uri": "https://localhost:8080/"
        },
        "id": "ytFwrGQdIcIH",
        "outputId": "d5b1ece7-91f2-4be0-adaa-b80bffe103ce"
      },
      "execution_count": null,
      "outputs": [
        {
          "output_type": "execute_result",
          "data": {
            "text/plain": [
              "200"
            ]
          },
          "metadata": {},
          "execution_count": 130
        }
      ]
    },
    {
      "cell_type": "code",
      "source": [
        "dict_example.setdefault('alex')"
      ],
      "metadata": {
        "id": "aBKi7snoId1L"
      },
      "execution_count": null,
      "outputs": []
    },
    {
      "cell_type": "code",
      "source": [
        "dict_example"
      ],
      "metadata": {
        "colab": {
          "base_uri": "https://localhost:8080/"
        },
        "id": "wFVmxroKIfDl",
        "outputId": "0c4edd98-ed6a-4908-86d8-de6c7d000b12"
      },
      "execution_count": null,
      "outputs": [
        {
          "output_type": "execute_result",
          "data": {
            "text/plain": [
              "{'ivan': 100,\n",
              " 'peter': 200,\n",
              " -10: 'new',\n",
              " (1, -10): True,\n",
              " 'oleg': 42,\n",
              " 'alex': None}"
            ]
          },
          "metadata": {},
          "execution_count": 132
        }
      ]
    },
    {
      "cell_type": "markdown",
      "source": [
        "Аналогично, можем указать значение \"по умолчанию\" вторым аргументом метода:"
      ],
      "metadata": {
        "id": "pqtMo731IlGo"
      }
    },
    {
      "cell_type": "code",
      "source": [
        "dict_example.setdefault('dmitry', \"not_present\")"
      ],
      "metadata": {
        "colab": {
          "base_uri": "https://localhost:8080/",
          "height": 35
        },
        "id": "0W4CdsGzIrve",
        "outputId": "dfef379c-a13f-4705-9479-0e71e3f11ea7"
      },
      "execution_count": null,
      "outputs": [
        {
          "output_type": "execute_result",
          "data": {
            "text/plain": [
              "'not_present'"
            ],
            "application/vnd.google.colaboratory.intrinsic+json": {
              "type": "string"
            }
          },
          "metadata": {},
          "execution_count": 133
        }
      ]
    },
    {
      "cell_type": "code",
      "source": [
        "dict_example"
      ],
      "metadata": {
        "colab": {
          "base_uri": "https://localhost:8080/"
        },
        "id": "lKJMVsEsIv9p",
        "outputId": "c6174573-2acf-4f9f-80e9-d99fed139179"
      },
      "execution_count": null,
      "outputs": [
        {
          "output_type": "execute_result",
          "data": {
            "text/plain": [
              "{'ivan': 100,\n",
              " 'peter': 200,\n",
              " -10: 'new',\n",
              " (1, -10): True,\n",
              " 'oleg': 42,\n",
              " 'alex': None,\n",
              " 'dmitry': 'not_present'}"
            ]
          },
          "metadata": {},
          "execution_count": 134
        }
      ]
    },
    {
      "cell_type": "markdown",
      "source": [
        "Часто хотим не получить одно значение по конкретному ключу, а получить все хранимые в словаре ключи, значения и пары.\n",
        "\n",
        "Для этого у словаря имеются методы `keys()`, `values()` и `items()`, соответственно:"
      ],
      "metadata": {
        "id": "LYSKpAzEI-T4"
      }
    },
    {
      "cell_type": "markdown",
      "metadata": {
        "id": "mjpsgNGo8PTf"
      },
      "source": [
        "Можем получить все ключи и значения из словаря с помощью методов `keys`, `values` и `items`:"
      ]
    },
    {
      "cell_type": "code",
      "source": [
        "list(dict_example.keys())"
      ],
      "metadata": {
        "colab": {
          "base_uri": "https://localhost:8080/"
        },
        "id": "5zUUp_ASJUv3",
        "outputId": "708678d5-c3e5-48a1-baef-448779f78ae9"
      },
      "execution_count": null,
      "outputs": [
        {
          "output_type": "execute_result",
          "data": {
            "text/plain": [
              "['ivan', 'peter', -10, (1, -10), 'oleg', 'alex', 'dmitry']"
            ]
          },
          "metadata": {},
          "execution_count": 135
        }
      ]
    },
    {
      "cell_type": "code",
      "source": [
        "list(dict_example.values())"
      ],
      "metadata": {
        "colab": {
          "base_uri": "https://localhost:8080/"
        },
        "id": "tt00xOLEJWUP",
        "outputId": "90f5c85a-8145-4d32-a6f7-b7551d129cd1"
      },
      "execution_count": null,
      "outputs": [
        {
          "output_type": "execute_result",
          "data": {
            "text/plain": [
              "[100, 200, 'new', True, 42, None, 'not_present']"
            ]
          },
          "metadata": {},
          "execution_count": 136
        }
      ]
    },
    {
      "cell_type": "code",
      "source": [
        "list(dict_example.items())"
      ],
      "metadata": {
        "colab": {
          "base_uri": "https://localhost:8080/"
        },
        "id": "bKxWO2p9JX_B",
        "outputId": "a02a7220-7eb4-4ada-8c3b-01df2bc845d3"
      },
      "execution_count": null,
      "outputs": [
        {
          "output_type": "execute_result",
          "data": {
            "text/plain": [
              "[('ivan', 100),\n",
              " ('peter', 200),\n",
              " (-10, 'new'),\n",
              " ((1, -10), True),\n",
              " ('oleg', 42),\n",
              " ('alex', None),\n",
              " ('dmitry', 'not_present')]"
            ]
          },
          "metadata": {},
          "execution_count": 166
        }
      ]
    },
    {
      "cell_type": "markdown",
      "source": [
        "**Примечание** - эти методы так же возвращают специальный тип данных, поэтому для вывода преобразуем возвращаемые значения в списки."
      ],
      "metadata": {
        "id": "Fgvk0eSRJZ2W"
      }
    },
    {
      "cell_type": "markdown",
      "metadata": {
        "id": "8mhOeq0m8sEW"
      },
      "source": [
        "Можем объединить два словаря в один с помощью метода `update`:"
      ]
    },
    {
      "cell_type": "code",
      "execution_count": null,
      "metadata": {
        "colab": {
          "base_uri": "https://localhost:8080/"
        },
        "id": "nuAGkTq18rQG",
        "outputId": "33c0e4a7-eb8d-4d24-e777-5861934fb9df"
      },
      "outputs": [
        {
          "output_type": "execute_result",
          "data": {
            "text/plain": [
              "{1: 2, 2: 3, 3: 4}"
            ]
          },
          "metadata": {},
          "execution_count": 167
        }
      ],
      "source": [
        "dict_1 = {1: 2, 2: 3, 3: 4}\n",
        "dict_2 = {3: 5, 4: 6, 5: 7}\n",
        "dict_1"
      ]
    },
    {
      "cell_type": "code",
      "source": [
        "dict_1.update(dict_2)\n",
        "dict_1"
      ],
      "metadata": {
        "colab": {
          "base_uri": "https://localhost:8080/"
        },
        "id": "dsN120bzOXV7",
        "outputId": "00e86a63-6dc0-48d8-c6db-b1b72d3877af"
      },
      "execution_count": null,
      "outputs": [
        {
          "output_type": "execute_result",
          "data": {
            "text/plain": [
              "{1: 2, 2: 3, 3: 5, 4: 6, 5: 7}"
            ]
          },
          "metadata": {},
          "execution_count": 168
        }
      ]
    },
    {
      "cell_type": "markdown",
      "metadata": {
        "id": "Oy-Mm08voMoq"
      },
      "source": [
        "### Ключи словаря"
      ]
    },
    {
      "cell_type": "markdown",
      "metadata": {
        "id": "suyCdm11wRZq"
      },
      "source": [
        "Ключом словаря может быть любой хешируемый (`hashable`) объект. Определение hashable из документации Python ([ссылка](https://docs.python.org/3/glossary.html#term-hashable)):\n",
        "\n",
        ">Объект является хэшируемым, если у него имеется хеш-значение, которое **не меняется за все его время существования** (необходим метод `__hash__()`), и **может быть сравним с другими объектами** (необходим метод `__eq__()`). Хэшируемые объекты, которые являются равными, должны иметь одинаковое хеш-значение.\n",
        "\n"
      ]
    },
    {
      "cell_type": "markdown",
      "metadata": {
        "id": "9wCDYb9XyLfx"
      },
      "source": [
        "Посмотреть хеш-значение в Python можно с помощью функции `hash`. Примеры хеш-значений для разных типов:"
      ]
    },
    {
      "cell_type": "code",
      "execution_count": null,
      "metadata": {
        "colab": {
          "base_uri": "https://localhost:8080/"
        },
        "id": "992ye6eqyRIY",
        "outputId": "4dc49d81-e20f-41da-e521-d449ac5da198"
      },
      "outputs": [
        {
          "output_type": "execute_result",
          "data": {
            "text/plain": [
              "343"
            ]
          },
          "metadata": {},
          "execution_count": 45
        }
      ],
      "source": [
        "hash(343)"
      ]
    },
    {
      "cell_type": "code",
      "source": [
        "hash(-343)"
      ],
      "metadata": {
        "colab": {
          "base_uri": "https://localhost:8080/"
        },
        "id": "DqEh3g-YFqGY",
        "outputId": "faf5096b-ae01-436e-f6ba-a110ceb37e57"
      },
      "execution_count": null,
      "outputs": [
        {
          "output_type": "execute_result",
          "data": {
            "text/plain": [
              "-343"
            ]
          },
          "metadata": {},
          "execution_count": 4
        }
      ]
    },
    {
      "cell_type": "code",
      "source": [
        "hash(10_000_000_000_000_000_000)"
      ],
      "metadata": {
        "colab": {
          "base_uri": "https://localhost:8080/"
        },
        "id": "4LmlAZKnF4fp",
        "outputId": "3bfeb4f5-0baf-45b2-8a4d-8066f49274fb"
      },
      "execution_count": null,
      "outputs": [
        {
          "output_type": "execute_result",
          "data": {
            "text/plain": [
              "776627963145224196"
            ]
          },
          "metadata": {},
          "execution_count": 7
        }
      ]
    },
    {
      "cell_type": "code",
      "source": [
        "hash(True)"
      ],
      "metadata": {
        "colab": {
          "base_uri": "https://localhost:8080/"
        },
        "id": "3ycmEkDPFrTP",
        "outputId": "19dc7e96-ece5-4fef-8796-5acd1309ab52"
      },
      "execution_count": null,
      "outputs": [
        {
          "output_type": "execute_result",
          "data": {
            "text/plain": [
              "1"
            ]
          },
          "metadata": {},
          "execution_count": 6
        }
      ]
    },
    {
      "cell_type": "code",
      "source": [
        "hash('hello')"
      ],
      "metadata": {
        "colab": {
          "base_uri": "https://localhost:8080/"
        },
        "id": "YnNH6LiiFtR2",
        "outputId": "263d2cfd-8c17-4258-8f80-a0bfcb8ba248"
      },
      "execution_count": null,
      "outputs": [
        {
          "output_type": "execute_result",
          "data": {
            "text/plain": [
              "-4071426291089773111"
            ]
          },
          "metadata": {},
          "execution_count": 9
        }
      ]
    },
    {
      "cell_type": "code",
      "source": [
        "hash((1, 2, 3))"
      ],
      "metadata": {
        "colab": {
          "base_uri": "https://localhost:8080/"
        },
        "id": "-qk9xrJlFvKD",
        "outputId": "615fd29d-ad07-4b65-f708-ceb008cb16d0"
      },
      "execution_count": null,
      "outputs": [
        {
          "output_type": "execute_result",
          "data": {
            "text/plain": [
              "529344067295497451"
            ]
          },
          "metadata": {},
          "execution_count": 8
        }
      ]
    },
    {
      "cell_type": "markdown",
      "metadata": {
        "id": "FSGUnbkq0c5n"
      },
      "source": [
        "**Замечание** - после перезапуска интерпретатора у сложных объектов (например, строк) будет уже другое значение хеш-функции."
      ]
    },
    {
      "cell_type": "markdown",
      "metadata": {
        "id": "kHUGTIYpymek"
      },
      "source": [
        "Проверим, являются ли хешируемыми список, кортеж и словарь:"
      ]
    },
    {
      "cell_type": "code",
      "source": [
        "hash([1, 2])  # список изменяемый"
      ],
      "metadata": {
        "colab": {
          "base_uri": "https://localhost:8080/",
          "height": 180
        },
        "id": "RAocAR3yGEgT",
        "outputId": "0a473c96-1484-4101-af50-5d498dd1720d"
      },
      "execution_count": null,
      "outputs": [
        {
          "output_type": "error",
          "ename": "TypeError",
          "evalue": "ignored",
          "traceback": [
            "\u001b[0;31m---------------------------------------------------------------------------\u001b[0m",
            "\u001b[0;31mTypeError\u001b[0m                                 Traceback (most recent call last)",
            "\u001b[0;32m<ipython-input-10-f4204dd6cd57>\u001b[0m in \u001b[0;36m<cell line: 1>\u001b[0;34m()\u001b[0m\n\u001b[0;32m----> 1\u001b[0;31m \u001b[0mhash\u001b[0m\u001b[0;34m(\u001b[0m\u001b[0;34m[\u001b[0m\u001b[0;36m1\u001b[0m\u001b[0;34m,\u001b[0m \u001b[0;36m2\u001b[0m\u001b[0;34m]\u001b[0m\u001b[0;34m)\u001b[0m  \u001b[0;31m# список изменяемый\u001b[0m\u001b[0;34m\u001b[0m\u001b[0;34m\u001b[0m\u001b[0m\n\u001b[0m",
            "\u001b[0;31mTypeError\u001b[0m: unhashable type: 'list'"
          ]
        }
      ]
    },
    {
      "cell_type": "code",
      "source": [
        "hash((1, 2))  # этот кортеж неизменяемый"
      ],
      "metadata": {
        "colab": {
          "base_uri": "https://localhost:8080/"
        },
        "id": "UQL_uQFeGIsZ",
        "outputId": "3b2e653c-c232-41c6-9e4d-0ed23218879a"
      },
      "execution_count": null,
      "outputs": [
        {
          "output_type": "execute_result",
          "data": {
            "text/plain": [
              "-3550055125485641917"
            ]
          },
          "metadata": {},
          "execution_count": 11
        }
      ]
    },
    {
      "cell_type": "code",
      "source": [
        "hash({1: 2})  # словарб изменяемый"
      ],
      "metadata": {
        "colab": {
          "base_uri": "https://localhost:8080/",
          "height": 180
        },
        "id": "EQAN-F9oGPxd",
        "outputId": "2c15236e-4f2f-40dd-ac8a-6fec3b368b5e"
      },
      "execution_count": null,
      "outputs": [
        {
          "output_type": "error",
          "ename": "TypeError",
          "evalue": "ignored",
          "traceback": [
            "\u001b[0;31m---------------------------------------------------------------------------\u001b[0m",
            "\u001b[0;31mTypeError\u001b[0m                                 Traceback (most recent call last)",
            "\u001b[0;32m<ipython-input-12-25fe24b8fc73>\u001b[0m in \u001b[0;36m<cell line: 1>\u001b[0;34m()\u001b[0m\n\u001b[0;32m----> 1\u001b[0;31m \u001b[0mhash\u001b[0m\u001b[0;34m(\u001b[0m\u001b[0;34m{\u001b[0m\u001b[0;36m1\u001b[0m\u001b[0;34m:\u001b[0m \u001b[0;36m2\u001b[0m\u001b[0;34m}\u001b[0m\u001b[0;34m)\u001b[0m  \u001b[0;31m# словарб изменяемый\u001b[0m\u001b[0;34m\u001b[0m\u001b[0;34m\u001b[0m\u001b[0m\n\u001b[0m",
            "\u001b[0;31mTypeError\u001b[0m: unhashable type: 'dict'"
          ]
        }
      ]
    },
    {
      "cell_type": "markdown",
      "metadata": {
        "id": "zSju0X-jolD5"
      },
      "source": [
        "#### Хешируемость кортежей"
      ]
    },
    {
      "cell_type": "markdown",
      "metadata": {
        "id": "KI0Hx95JzMxQ"
      },
      "source": [
        "**Внимание** - не все кортежи хешируемы! **Кортеж хешируем, если все его элементы тоже хешируемы**:"
      ]
    },
    {
      "cell_type": "code",
      "execution_count": null,
      "metadata": {
        "colab": {
          "base_uri": "https://localhost:8080/",
          "height": 201
        },
        "id": "-XRXccs8zWUQ",
        "outputId": "4da35a4a-bd7a-4fb1-c3d5-250f9dde5276"
      },
      "outputs": [
        {
          "output_type": "stream",
          "name": "stdout",
          "text": [
            "3794340727080330424\n"
          ]
        },
        {
          "output_type": "error",
          "ename": "TypeError",
          "evalue": "ignored",
          "traceback": [
            "\u001b[0;31m---------------------------------------------------------------------------\u001b[0m",
            "\u001b[0;31mTypeError\u001b[0m                                 Traceback (most recent call last)",
            "\u001b[0;32m<ipython-input-146-06a2042ba85a>\u001b[0m in \u001b[0;36m<cell line: 2>\u001b[0;34m()\u001b[0m\n\u001b[1;32m      1\u001b[0m \u001b[0mprint\u001b[0m\u001b[0;34m(\u001b[0m\u001b[0mhash\u001b[0m\u001b[0;34m(\u001b[0m\u001b[0;34m(\u001b[0m\u001b[0;36m1\u001b[0m\u001b[0;34m,\u001b[0m \u001b[0;36m2\u001b[0m\u001b[0;34m,\u001b[0m \u001b[0;34m(\u001b[0m\u001b[0;36m3\u001b[0m\u001b[0;34m,\u001b[0m \u001b[0;36m4\u001b[0m\u001b[0;34m)\u001b[0m\u001b[0;34m)\u001b[0m\u001b[0;34m)\u001b[0m\u001b[0;34m)\u001b[0m\u001b[0;34m\u001b[0m\u001b[0;34m\u001b[0m\u001b[0m\n\u001b[0;32m----> 2\u001b[0;31m \u001b[0mprint\u001b[0m\u001b[0;34m(\u001b[0m\u001b[0mhash\u001b[0m\u001b[0;34m(\u001b[0m\u001b[0;34m(\u001b[0m\u001b[0;36m1\u001b[0m\u001b[0;34m,\u001b[0m \u001b[0;36m2\u001b[0m\u001b[0;34m,\u001b[0m \u001b[0;34m[\u001b[0m\u001b[0;36m3\u001b[0m\u001b[0;34m,\u001b[0m \u001b[0;36m4\u001b[0m\u001b[0;34m]\u001b[0m\u001b[0;34m)\u001b[0m\u001b[0;34m)\u001b[0m\u001b[0;34m)\u001b[0m\u001b[0;34m\u001b[0m\u001b[0;34m\u001b[0m\u001b[0m\n\u001b[0m",
            "\u001b[0;31mTypeError\u001b[0m: unhashable type: 'list'"
          ]
        }
      ],
      "source": [
        "print(hash((1, 2, (3, 4))))\n",
        "print(hash((1, 2, [3, 4])))"
      ]
    },
    {
      "cell_type": "code",
      "source": [
        "hash((1, 2, (1, 2), \"12312\", []))"
      ],
      "metadata": {
        "colab": {
          "base_uri": "https://localhost:8080/",
          "height": 166
        },
        "id": "54eYqAa9mY0r",
        "outputId": "659f6200-5c32-455d-f2b9-e70e3be2f29e"
      },
      "execution_count": null,
      "outputs": [
        {
          "output_type": "error",
          "ename": "TypeError",
          "evalue": "ignored",
          "traceback": [
            "\u001b[0;31m---------------------------------------------------------------------------\u001b[0m",
            "\u001b[0;31mTypeError\u001b[0m                                 Traceback (most recent call last)",
            "\u001b[0;32m<ipython-input-150-0391b8db0b11>\u001b[0m in \u001b[0;36m<cell line: 1>\u001b[0;34m()\u001b[0m\n\u001b[0;32m----> 1\u001b[0;31m \u001b[0mhash\u001b[0m\u001b[0;34m(\u001b[0m\u001b[0;34m(\u001b[0m\u001b[0;36m1\u001b[0m\u001b[0;34m,\u001b[0m \u001b[0;36m2\u001b[0m\u001b[0;34m,\u001b[0m \u001b[0;34m(\u001b[0m\u001b[0;36m1\u001b[0m\u001b[0;34m,\u001b[0m \u001b[0;36m2\u001b[0m\u001b[0;34m)\u001b[0m\u001b[0;34m,\u001b[0m \u001b[0;34m\"12312\"\u001b[0m\u001b[0;34m,\u001b[0m \u001b[0;34m[\u001b[0m\u001b[0;34m]\u001b[0m\u001b[0;34m)\u001b[0m\u001b[0;34m)\u001b[0m\u001b[0;34m\u001b[0m\u001b[0;34m\u001b[0m\u001b[0m\n\u001b[0m",
            "\u001b[0;31mTypeError\u001b[0m: unhashable type: 'list'"
          ]
        }
      ]
    },
    {
      "cell_type": "code",
      "source": [
        "id(0)"
      ],
      "metadata": {
        "colab": {
          "base_uri": "https://localhost:8080/"
        },
        "id": "pWrm2eo9nkgb",
        "outputId": "d1ba37ef-6d80-4e93-e3ff-1eca67411329"
      },
      "execution_count": null,
      "outputs": [
        {
          "output_type": "execute_result",
          "data": {
            "text/plain": [
              "9793056"
            ]
          },
          "metadata": {},
          "execution_count": 178
        }
      ]
    },
    {
      "cell_type": "markdown",
      "metadata": {
        "id": "VCRhtYMfGcp-"
      },
      "source": [
        "## set"
      ]
    },
    {
      "cell_type": "markdown",
      "metadata": {
        "id": "hC7pewOoGf9M"
      },
      "source": [
        "**Set** (множество) - контейнер, позволяющий хранить набор уникальных элементов. Эквивалентен математическому множеству.\n",
        "\n"
      ]
    },
    {
      "cell_type": "markdown",
      "source": [
        "Основные операции:\n",
        "- добавить элемент в множество\n",
        "- удалить элемент из множества\n",
        "- проверить наличие элемента в множестве\n",
        "\n",
        "Принцип работы также основан на хеш-таблице."
      ],
      "metadata": {
        "id": "71Wt2DAPOpfV"
      }
    },
    {
      "cell_type": "markdown",
      "metadata": {
        "id": "rsIPTBXZqXGB"
      },
      "source": [
        "Где удобно использовать множества:\n",
        "- подсчет уникальных элементов в списке\n",
        "- быстрая проверка элемента на вхождение"
      ]
    },
    {
      "cell_type": "markdown",
      "source": [
        "**Замечание** - т.к. множество работает на хеш-таблицах, то в качестве элементов нельзя брать нехешируемые элементы!"
      ],
      "metadata": {
        "id": "5AGuX3MiRoaZ"
      }
    },
    {
      "cell_type": "markdown",
      "source": [
        "**Внимание!** Выражение вида `variable = {}` создает словарь:"
      ],
      "metadata": {
        "id": "iDukcOqPPhI-"
      }
    },
    {
      "cell_type": "code",
      "source": [
        "variable = {}\n",
        "type(variable)"
      ],
      "metadata": {
        "colab": {
          "base_uri": "https://localhost:8080/"
        },
        "id": "LOrca_aTPn7k",
        "outputId": "6b29bf2b-39d0-4fd0-9164-bcaaa734b852"
      },
      "execution_count": null,
      "outputs": [
        {
          "output_type": "execute_result",
          "data": {
            "text/plain": [
              "dict"
            ]
          },
          "metadata": {},
          "execution_count": 152
        }
      ]
    },
    {
      "cell_type": "markdown",
      "source": [
        "Создадим множество с элементами:"
      ],
      "metadata": {
        "id": "3m9P5SosPVlr"
      }
    },
    {
      "cell_type": "code",
      "execution_count": null,
      "metadata": {
        "id": "_r2rZ83mG9Pv",
        "colab": {
          "base_uri": "https://localhost:8080/"
        },
        "outputId": "fd550c52-c14f-4ed1-b793-a20cebb1a01a"
      },
      "outputs": [
        {
          "output_type": "execute_result",
          "data": {
            "text/plain": [
              "{1, 2, 3}"
            ]
          },
          "metadata": {},
          "execution_count": 153
        }
      ],
      "source": [
        "set_example = {1, 2, 3}\n",
        "set_example"
      ]
    },
    {
      "cell_type": "code",
      "execution_count": null,
      "metadata": {
        "id": "TdJIgANKHFHG",
        "colab": {
          "base_uri": "https://localhost:8080/"
        },
        "outputId": "2ed0f4a3-3e4f-4eb0-ac8c-eb82ab16b7f5"
      },
      "outputs": [
        {
          "output_type": "execute_result",
          "data": {
            "text/plain": [
              "{2, 3, 4, 5}"
            ]
          },
          "metadata": {},
          "execution_count": 154
        }
      ],
      "source": [
        "set_example = set([2, 3, 4, 3, 5, 2])\n",
        "set_example"
      ]
    },
    {
      "cell_type": "markdown",
      "metadata": {
        "id": "ssju2xRurAzu"
      },
      "source": [
        "### Операции с множествами"
      ]
    },
    {
      "cell_type": "markdown",
      "metadata": {
        "id": "nsh8DSMEHYiE"
      },
      "source": [
        "В отличие от списков, словарей, кортежей и строк, получить прямой доступ к элементам множества мы не можем.\n",
        "\n",
        "Для нас доступны лишь следующие операции:"
      ]
    },
    {
      "cell_type": "code",
      "execution_count": null,
      "metadata": {
        "colab": {
          "base_uri": "https://localhost:8080/"
        },
        "id": "36sVwe5PHdhG",
        "outputId": "f314b5d3-d371-4b5c-846c-c0d67ed410fa"
      },
      "outputs": [
        {
          "output_type": "execute_result",
          "data": {
            "text/plain": [
              "{1, '2', 3.0, 'four'}"
            ]
          },
          "metadata": {},
          "execution_count": 182
        }
      ],
      "source": [
        "set_example = {1, '2', 3.0, 'four'}\n",
        "set_example"
      ]
    },
    {
      "cell_type": "markdown",
      "source": [
        "1. добавить элемент в множество - метод `add`:"
      ],
      "metadata": {
        "id": "cfh8pEA7QIxh"
      }
    },
    {
      "cell_type": "code",
      "execution_count": null,
      "metadata": {
        "colab": {
          "base_uri": "https://localhost:8080/"
        },
        "id": "8QQaySqsH1Sz",
        "outputId": "ce1afa0a-2ba0-48a7-e350-11f9be4daa56"
      },
      "outputs": [
        {
          "output_type": "execute_result",
          "data": {
            "text/plain": [
              "{1, '2', 3.0, 5, 'four'}"
            ]
          },
          "metadata": {},
          "execution_count": 183
        }
      ],
      "source": [
        "set_example.add(5)\n",
        "set_example"
      ]
    },
    {
      "cell_type": "markdown",
      "source": [
        "Множество хранит лишь уникальные элементы (нет дубликатов), если добавим уже существующий элемент, то множество не изменится:"
      ],
      "metadata": {
        "id": "4bMPbSW9QRiL"
      }
    },
    {
      "cell_type": "code",
      "source": [
        "set_example.add(5)\n",
        "set_example"
      ],
      "metadata": {
        "colab": {
          "base_uri": "https://localhost:8080/"
        },
        "id": "R2SfT-sOQaWF",
        "outputId": "c0da3911-2feb-486c-f7da-9aac4fc8f8f0"
      },
      "execution_count": null,
      "outputs": [
        {
          "output_type": "execute_result",
          "data": {
            "text/plain": [
              "{1, '2', 3.0, 5, 'four'}"
            ]
          },
          "metadata": {},
          "execution_count": 184
        }
      ]
    },
    {
      "cell_type": "markdown",
      "source": [
        "2. удалить элемент из множества - для это есть 2 метода:"
      ],
      "metadata": {
        "id": "BQZ4tlDIQb2y"
      }
    },
    {
      "cell_type": "markdown",
      "source": [
        "- метод `remove` - при попытке удалить уже отсутствующий в множестве элемент выдает ошибку:"
      ],
      "metadata": {
        "id": "xVX0X8mHQnCc"
      }
    },
    {
      "cell_type": "code",
      "execution_count": null,
      "metadata": {
        "colab": {
          "base_uri": "https://localhost:8080/"
        },
        "id": "dodPnxEvH2_K",
        "outputId": "fdf8719c-218d-4666-fc43-6b5141f4169e"
      },
      "outputs": [
        {
          "output_type": "execute_result",
          "data": {
            "text/plain": [
              "{'2', 3.0, 5, 'four'}"
            ]
          },
          "metadata": {},
          "execution_count": 185
        }
      ],
      "source": [
        "set_example.remove(1)\n",
        "set_example"
      ]
    },
    {
      "cell_type": "code",
      "source": [
        "set_example.remove(1)\n",
        "set_example"
      ],
      "metadata": {
        "colab": {
          "base_uri": "https://localhost:8080/",
          "height": 185
        },
        "id": "Js55SqR-QvoK",
        "outputId": "db163db1-c932-47d0-f306-43b838c9c14a"
      },
      "execution_count": null,
      "outputs": [
        {
          "output_type": "error",
          "ename": "KeyError",
          "evalue": "ignored",
          "traceback": [
            "\u001b[0;31m---------------------------------------------------------------------------\u001b[0m",
            "\u001b[0;31mKeyError\u001b[0m                                  Traceback (most recent call last)",
            "\u001b[0;32m<ipython-input-186-128714824f8d>\u001b[0m in \u001b[0;36m<module>\u001b[0;34m\u001b[0m\n\u001b[0;32m----> 1\u001b[0;31m \u001b[0mset_example\u001b[0m\u001b[0;34m.\u001b[0m\u001b[0mremove\u001b[0m\u001b[0;34m(\u001b[0m\u001b[0;36m1\u001b[0m\u001b[0;34m)\u001b[0m\u001b[0;34m\u001b[0m\u001b[0;34m\u001b[0m\u001b[0m\n\u001b[0m\u001b[1;32m      2\u001b[0m \u001b[0mset_example\u001b[0m\u001b[0;34m\u001b[0m\u001b[0;34m\u001b[0m\u001b[0m\n",
            "\u001b[0;31mKeyError\u001b[0m: 1"
          ]
        }
      ]
    },
    {
      "cell_type": "markdown",
      "source": [
        "- метод `discard` - при попытке удалить уже отсутствующий в множестве элемент **НЕ** выдает ошибку:"
      ],
      "metadata": {
        "id": "hgGiH-gaQyD6"
      }
    },
    {
      "cell_type": "code",
      "source": [
        "set_example.discard(1)\n",
        "set_example"
      ],
      "metadata": {
        "colab": {
          "base_uri": "https://localhost:8080/"
        },
        "id": "dacAaSiKQ6rb",
        "outputId": "31753622-cfc3-41a3-f0ec-b6a0f32f7c64"
      },
      "execution_count": null,
      "outputs": [
        {
          "output_type": "execute_result",
          "data": {
            "text/plain": [
              "{'2', 3.0, 5, 'four'}"
            ]
          },
          "metadata": {},
          "execution_count": 190
        }
      ]
    },
    {
      "cell_type": "markdown",
      "source": [
        "3. проверить наличие элемента в множества - оператор `in` / `not in`:"
      ],
      "metadata": {
        "id": "PsDEnL4eRMBe"
      }
    },
    {
      "cell_type": "code",
      "execution_count": null,
      "metadata": {
        "colab": {
          "base_uri": "https://localhost:8080/"
        },
        "id": "HkBqm9SqH4V0",
        "outputId": "bf162d4f-06e0-4616-a34c-dc31da3eb785"
      },
      "outputs": [
        {
          "output_type": "execute_result",
          "data": {
            "text/plain": [
              "True"
            ]
          },
          "metadata": {},
          "execution_count": 192
        }
      ],
      "source": [
        "'2' in set_example"
      ]
    },
    {
      "cell_type": "code",
      "source": [
        "1 in set_example"
      ],
      "metadata": {
        "colab": {
          "base_uri": "https://localhost:8080/"
        },
        "id": "LWtk8-RCRT5D",
        "outputId": "d341c8c3-2d6c-4e5b-832d-03d23d874be2"
      },
      "execution_count": null,
      "outputs": [
        {
          "output_type": "execute_result",
          "data": {
            "text/plain": [
              "False"
            ]
          },
          "metadata": {},
          "execution_count": 193
        }
      ]
    },
    {
      "cell_type": "code",
      "source": [
        "1 not in set_example"
      ],
      "metadata": {
        "colab": {
          "base_uri": "https://localhost:8080/"
        },
        "id": "7mstH5g4RVfP",
        "outputId": "76f956f1-adcc-4610-8a54-41f706e62b68"
      },
      "execution_count": null,
      "outputs": [
        {
          "output_type": "execute_result",
          "data": {
            "text/plain": [
              "True"
            ]
          },
          "metadata": {},
          "execution_count": 194
        }
      ]
    },
    {
      "cell_type": "markdown",
      "source": [
        "### Математические операции над множествами"
      ],
      "metadata": {
        "id": "UFPLwaA3UkTE"
      }
    },
    {
      "cell_type": "markdown",
      "source": [
        "Множества в Python во многом \"подражают\" математическим множествам, поэтому для них определены разные операции над множествами:"
      ],
      "metadata": {
        "id": "duYPkBFUUo4e"
      }
    },
    {
      "cell_type": "code",
      "source": [
        "a = {1, 2, 3}\n",
        "b = set([2, 3, 4])"
      ],
      "metadata": {
        "id": "miPHZTvfVMBm"
      },
      "execution_count": null,
      "outputs": []
    },
    {
      "cell_type": "markdown",
      "metadata": {
        "id": "GZpy13k3rtOx"
      },
      "source": [
        "- объединение двух множеств - метод `union`:"
      ]
    },
    {
      "cell_type": "code",
      "execution_count": null,
      "metadata": {
        "colab": {
          "base_uri": "https://localhost:8080/"
        },
        "id": "IiNlppdGI95S",
        "outputId": "58a5b012-2124-4eb6-9120-001350ee9c15"
      },
      "outputs": [
        {
          "output_type": "execute_result",
          "data": {
            "text/plain": [
              "{1, 2, 3, 4}"
            ]
          },
          "metadata": {},
          "execution_count": 156
        }
      ],
      "source": [
        "b.union(a)"
      ]
    },
    {
      "cell_type": "markdown",
      "source": [
        "- пересечение двух множеств - метод `intersection`:"
      ],
      "metadata": {
        "id": "yayywvReVDhI"
      }
    },
    {
      "cell_type": "code",
      "source": [
        "b.intersection(a)"
      ],
      "metadata": {
        "colab": {
          "base_uri": "https://localhost:8080/"
        },
        "id": "loxVTRk0VK0N",
        "outputId": "ec629944-28dd-4d29-de45-f422be8f18c6"
      },
      "execution_count": null,
      "outputs": [
        {
          "output_type": "execute_result",
          "data": {
            "text/plain": [
              "{2, 3}"
            ]
          },
          "metadata": {},
          "execution_count": 157
        }
      ]
    },
    {
      "cell_type": "markdown",
      "source": [
        "- разность двух множеств (элементы множества `b`, которых нет в `a`) - метод `difference`:"
      ],
      "metadata": {
        "id": "am8XdFXLVg0s"
      }
    },
    {
      "cell_type": "code",
      "source": [
        "b.difference(a)"
      ],
      "metadata": {
        "colab": {
          "base_uri": "https://localhost:8080/"
        },
        "id": "wOsMSuYAVf3R",
        "outputId": "8ba9b6c7-a2b8-4b83-efb7-ec26608d4b8d"
      },
      "execution_count": null,
      "outputs": [
        {
          "output_type": "execute_result",
          "data": {
            "text/plain": [
              "{4}"
            ]
          },
          "metadata": {},
          "execution_count": 158
        }
      ]
    },
    {
      "cell_type": "markdown",
      "source": [
        "- симметричная разность (элементы двух множеств, которые встречаются лишь в одном из них) - метод `symmetric_difference`:"
      ],
      "metadata": {
        "id": "GY5U8TGFVsX9"
      }
    },
    {
      "cell_type": "code",
      "source": [
        "b.symmetric_difference(a)"
      ],
      "metadata": {
        "colab": {
          "base_uri": "https://localhost:8080/"
        },
        "id": "RVGZyxmFV2XP",
        "outputId": "c0f56c44-2b8f-439a-ae17-1c937b4ab154"
      },
      "execution_count": null,
      "outputs": [
        {
          "output_type": "execute_result",
          "data": {
            "text/plain": [
              "{1, 4}"
            ]
          },
          "metadata": {},
          "execution_count": 159
        }
      ]
    },
    {
      "cell_type": "markdown",
      "source": [
        "Эти же действия можно выполнять с помощью операций:"
      ],
      "metadata": {
        "id": "qxwoOKnPWOHU"
      }
    },
    {
      "cell_type": "code",
      "source": [
        "a | b  # объединение"
      ],
      "metadata": {
        "colab": {
          "base_uri": "https://localhost:8080/"
        },
        "id": "0-d-CRKRWTDa",
        "outputId": "7f45e7c6-ba98-46cc-aa2d-c364fe07d23f"
      },
      "execution_count": null,
      "outputs": [
        {
          "output_type": "execute_result",
          "data": {
            "text/plain": [
              "{1, 2, 3, 4}"
            ]
          },
          "metadata": {},
          "execution_count": 160
        }
      ]
    },
    {
      "cell_type": "code",
      "source": [
        "a & b  # пересечение"
      ],
      "metadata": {
        "colab": {
          "base_uri": "https://localhost:8080/"
        },
        "id": "wKjee2nuWYUO",
        "outputId": "36960a6f-0dd9-4955-d36d-01e9998e6c04"
      },
      "execution_count": null,
      "outputs": [
        {
          "output_type": "execute_result",
          "data": {
            "text/plain": [
              "{2, 3}"
            ]
          },
          "metadata": {},
          "execution_count": 161
        }
      ]
    },
    {
      "cell_type": "code",
      "source": [
        "b - a  # разность"
      ],
      "metadata": {
        "colab": {
          "base_uri": "https://localhost:8080/"
        },
        "id": "5ZJ1pOnUWewJ",
        "outputId": "aa43357b-361b-4e5a-f296-362db7e9db10"
      },
      "execution_count": null,
      "outputs": [
        {
          "output_type": "execute_result",
          "data": {
            "text/plain": [
              "{4}"
            ]
          },
          "metadata": {},
          "execution_count": 162
        }
      ]
    },
    {
      "cell_type": "code",
      "source": [
        "b ^ a  # симметричная разность"
      ],
      "metadata": {
        "colab": {
          "base_uri": "https://localhost:8080/"
        },
        "id": "r2fYPAegWjb2",
        "outputId": "c63048e9-7eca-4173-e0b4-9cc3ddac8175"
      },
      "execution_count": null,
      "outputs": [
        {
          "output_type": "execute_result",
          "data": {
            "text/plain": [
              "{1, 4}"
            ]
          },
          "metadata": {},
          "execution_count": 163
        }
      ]
    },
    {
      "cell_type": "markdown",
      "source": [
        "Эти же методы и операторы имеют вариант с присвоением, например, найти пересечение `a` и `b` и записать в `a` (аналогично оператору `+=`):"
      ],
      "metadata": {
        "id": "Y4RO8sUhXW_a"
      }
    },
    {
      "cell_type": "markdown",
      "source": [
        "- объединение - `|=`, `update()`\n",
        "- пересечение - `&=`, `intersection_update()`\n",
        "- разность -  `-=`, `difference_update()`\n",
        "- симметричная разность - `^=`, `symmetric_difference_update()`"
      ],
      "metadata": {
        "id": "6iSMNxEkXm0d"
      }
    },
    {
      "cell_type": "markdown",
      "metadata": {
        "id": "YEi_bOpBJLQ8"
      },
      "source": [
        "Помимо проверки на вхождение элемента в множество (`in`), имеются проверки на вхождения одного множества в другое:"
      ]
    },
    {
      "cell_type": "code",
      "execution_count": null,
      "metadata": {
        "id": "g1D_bgsGJVwS"
      },
      "outputs": [],
      "source": [
        "a = {1, 2, 3}\n",
        "b = {1, 2, 3, 4}"
      ]
    },
    {
      "cell_type": "code",
      "source": [
        "b.issubset(a)    # является ли b подмножеством a"
      ],
      "metadata": {
        "colab": {
          "base_uri": "https://localhost:8080/"
        },
        "id": "ldSu1OFjW3dq",
        "outputId": "12325ac1-38e8-4ce1-d949-3b7c04df48b5"
      },
      "execution_count": null,
      "outputs": [
        {
          "output_type": "execute_result",
          "data": {
            "text/plain": [
              "False"
            ]
          },
          "metadata": {},
          "execution_count": 165
        }
      ]
    },
    {
      "cell_type": "code",
      "source": [
        "b.issuperset(a)  # является ли b надмножеством a"
      ],
      "metadata": {
        "colab": {
          "base_uri": "https://localhost:8080/"
        },
        "id": "QTiX5MsLW6rs",
        "outputId": "d49a0e70-c5ef-4899-cca6-c86e0fd755f4"
      },
      "execution_count": null,
      "outputs": [
        {
          "output_type": "execute_result",
          "data": {
            "text/plain": [
              "True"
            ]
          },
          "metadata": {},
          "execution_count": 166
        }
      ]
    },
    {
      "cell_type": "code",
      "source": [
        "b.isdisjoint(a)  # являются ли непересекающимися"
      ],
      "metadata": {
        "colab": {
          "base_uri": "https://localhost:8080/"
        },
        "id": "tuITuyx7W9J_",
        "outputId": "f6505072-e665-4e18-f16e-f00768809398"
      },
      "execution_count": null,
      "outputs": [
        {
          "output_type": "execute_result",
          "data": {
            "text/plain": [
              "False"
            ]
          },
          "metadata": {},
          "execution_count": 167
        }
      ]
    },
    {
      "cell_type": "markdown",
      "metadata": {
        "id": "-_5lwO1Oryh8"
      },
      "source": [
        "### `frozenset`"
      ]
    },
    {
      "cell_type": "markdown",
      "metadata": {
        "id": "_s7UqpLiMib4"
      },
      "source": [
        "Поскольку множество - изменяемый тип данных, его нельзя использовать в качестве ключа. Однако, у него есть свой аналог кортежа - **frozenset**, отличающееся лишь тем, что является неизменяемым:"
      ]
    },
    {
      "cell_type": "code",
      "execution_count": null,
      "metadata": {
        "id": "BzQ5waUAMwf2"
      },
      "outputs": [],
      "source": [
        "set_example = {1, 2, 3}\n",
        "frozenset_example = frozenset(set_example)"
      ]
    },
    {
      "cell_type": "code",
      "source": [
        "new_set = set(frozenset_example)\n",
        "new_set.add(4)"
      ],
      "metadata": {
        "id": "zRsAULzoqyVj"
      },
      "execution_count": null,
      "outputs": []
    },
    {
      "cell_type": "code",
      "source": [
        "new_set"
      ],
      "metadata": {
        "colab": {
          "base_uri": "https://localhost:8080/"
        },
        "id": "Qi7VYQGvq2AA",
        "outputId": "7ce704b5-7519-4e11-820d-f3c4ddd85ada"
      },
      "execution_count": null,
      "outputs": [
        {
          "output_type": "execute_result",
          "data": {
            "text/plain": [
              "{1, 2, 3, 4}"
            ]
          },
          "metadata": {},
          "execution_count": 170
        }
      ]
    },
    {
      "cell_type": "code",
      "source": [
        "set_example"
      ],
      "metadata": {
        "colab": {
          "base_uri": "https://localhost:8080/"
        },
        "id": "-Jeb70-hYIAZ",
        "outputId": "399ac8b8-bbcc-4f61-d15a-d1bc8897bfdf"
      },
      "execution_count": null,
      "outputs": [
        {
          "output_type": "execute_result",
          "data": {
            "text/plain": [
              "{1, 2, 3}"
            ]
          },
          "metadata": {},
          "execution_count": 171
        }
      ]
    },
    {
      "cell_type": "code",
      "source": [
        "frozenset_example"
      ],
      "metadata": {
        "colab": {
          "base_uri": "https://localhost:8080/"
        },
        "id": "AWNaRP_dYHGK",
        "outputId": "fa498da2-93b9-458f-eb12-4db819b65bb7"
      },
      "execution_count": null,
      "outputs": [
        {
          "output_type": "execute_result",
          "data": {
            "text/plain": [
              "frozenset({1, 2, 3})"
            ]
          },
          "metadata": {},
          "execution_count": 172
        }
      ]
    },
    {
      "cell_type": "markdown",
      "source": [
        "Попробуем использовать их как ключи словаря:"
      ],
      "metadata": {
        "id": "94H4V0gqYJ7c"
      }
    },
    {
      "cell_type": "code",
      "source": [
        "some_dict = {}"
      ],
      "metadata": {
        "id": "l3iCWaIIYOYG"
      },
      "execution_count": null,
      "outputs": []
    },
    {
      "cell_type": "code",
      "execution_count": null,
      "metadata": {
        "colab": {
          "base_uri": "https://localhost:8080/"
        },
        "id": "Tb5U5THeM-S1",
        "outputId": "6dc91b96-f768-4b75-afbd-7824d8409962"
      },
      "outputs": [
        {
          "output_type": "execute_result",
          "data": {
            "text/plain": [
              "True"
            ]
          },
          "metadata": {},
          "execution_count": 174
        }
      ],
      "source": [
        "some_dict[frozenset_example] = True\n",
        "some_dict[frozenset_example]"
      ]
    },
    {
      "cell_type": "code",
      "source": [
        "some_dict[set_example] = False\n",
        "some_dict[set_example]"
      ],
      "metadata": {
        "colab": {
          "base_uri": "https://localhost:8080/",
          "height": 183
        },
        "id": "6hz4ABJiYRp-",
        "outputId": "1647b7e9-528f-4c77-b357-82b5c7790959"
      },
      "execution_count": null,
      "outputs": [
        {
          "output_type": "error",
          "ename": "TypeError",
          "evalue": "ignored",
          "traceback": [
            "\u001b[0;31m---------------------------------------------------------------------------\u001b[0m",
            "\u001b[0;31mTypeError\u001b[0m                                 Traceback (most recent call last)",
            "\u001b[0;32m<ipython-input-175-af72f88e7b9d>\u001b[0m in \u001b[0;36m<cell line: 1>\u001b[0;34m()\u001b[0m\n\u001b[0;32m----> 1\u001b[0;31m \u001b[0msome_dict\u001b[0m\u001b[0;34m[\u001b[0m\u001b[0mset_example\u001b[0m\u001b[0;34m]\u001b[0m \u001b[0;34m=\u001b[0m \u001b[0;32mFalse\u001b[0m\u001b[0;34m\u001b[0m\u001b[0;34m\u001b[0m\u001b[0m\n\u001b[0m\u001b[1;32m      2\u001b[0m \u001b[0msome_dict\u001b[0m\u001b[0;34m[\u001b[0m\u001b[0mset_example\u001b[0m\u001b[0;34m]\u001b[0m\u001b[0;34m\u001b[0m\u001b[0;34m\u001b[0m\u001b[0m\n",
            "\u001b[0;31mTypeError\u001b[0m: unhashable type: 'set'"
          ]
        }
      ]
    },
    {
      "cell_type": "markdown",
      "metadata": {
        "id": "IHM92AODILt5"
      },
      "source": [
        "### Задачка"
      ]
    },
    {
      "cell_type": "markdown",
      "metadata": {
        "id": "g6AONlG3rcUi"
      },
      "source": [
        "Имеем множество:"
      ]
    },
    {
      "cell_type": "code",
      "execution_count": null,
      "metadata": {
        "colab": {
          "base_uri": "https://localhost:8080/"
        },
        "id": "3RtFNv3OIMXu",
        "outputId": "e03d8bec-3385-49af-dc6b-ee3864bbd986"
      },
      "outputs": [
        {
          "output_type": "execute_result",
          "data": {
            "text/plain": [
              "{0, 1, 2}"
            ]
          },
          "metadata": {},
          "execution_count": 176
        }
      ],
      "source": [
        "set_sample = {0, 1, 2}\n",
        "set_sample"
      ]
    },
    {
      "cell_type": "markdown",
      "metadata": {
        "id": "tSVdtQc6Icrh"
      },
      "source": [
        "Хотим добавить к нему `True`, `False` и `2.0`:"
      ]
    },
    {
      "cell_type": "code",
      "execution_count": null,
      "metadata": {
        "colab": {
          "base_uri": "https://localhost:8080/"
        },
        "id": "yorDPfvOIYmQ",
        "outputId": "2470192e-9ae5-4040-839d-808973101569"
      },
      "outputs": [
        {
          "output_type": "execute_result",
          "data": {
            "text/plain": [
              "{0, 1, 2}"
            ]
          },
          "metadata": {},
          "execution_count": 177
        }
      ],
      "source": [
        "set_sample.add(True)\n",
        "set_sample.add(False)\n",
        "set_sample.add(2.0)\n",
        "\n",
        "set_sample"
      ]
    },
    {
      "cell_type": "markdown",
      "metadata": {
        "id": "DzpqshV8Is52"
      },
      "source": [
        "Ожидаем увидеть множество: `{0, 1, 2, True, False, 2.0}`, но получили снова `{0, 1, 2}`."
      ]
    },
    {
      "cell_type": "markdown",
      "metadata": {
        "id": "T7MaQK6Crjjj"
      },
      "source": [
        "**Вопрос** - почему множество не поменялось?"
      ]
    },
    {
      "cell_type": "markdown",
      "source": [
        "# Циклы"
      ],
      "metadata": {
        "id": "G7lV7CBKNL2j"
      }
    },
    {
      "cell_type": "markdown",
      "source": [
        "**Циклы** позволяют выполнить набор команд некоторое (часто заранее неопределенное) количество раз.\n",
        "\n",
        "В Python для этого есть два типа циклов."
      ],
      "metadata": {
        "id": "hMbIX2Z3JEFk"
      }
    },
    {
      "cell_type": "markdown",
      "source": [
        "## Цикл `while`"
      ],
      "metadata": {
        "id": "tEo3rIoAQfYx"
      }
    },
    {
      "cell_type": "markdown",
      "source": [
        "Часто необходимо продолжать выполнять какие-либо действия до тех пор, пока условие верно. Например, \"наливать чай в кружку, *пока* кружка неполная\"."
      ],
      "metadata": {
        "id": "HjlUaKbSQiS3"
      }
    },
    {
      "cell_type": "markdown",
      "source": [
        "Для этого пригождается циклы `while`. Он выглядит следующим образом:\n",
        "\n",
        "```python\n",
        "while <условие работы цикла>:\n",
        "    <команда 1>\n",
        "    <команда 2>\n",
        "    <команда 3>\n",
        "    ...\n",
        "```"
      ],
      "metadata": {
        "id": "YOo_PFP5sv3s"
      }
    },
    {
      "cell_type": "markdown",
      "source": [
        "Простыми словами, цикл `while` работает по принципу:\n",
        "\n",
        ">Пока условие истинно, выполняй набор команд."
      ],
      "metadata": {
        "id": "8GEZUbOjtnS7"
      }
    },
    {
      "cell_type": "markdown",
      "source": [
        "**Рассмотрим пример** - приложение должно оповестить набор участников о том, что мероприятие переносится.\n",
        "\n",
        "Для этого мы должны обратиться к каждому элементу списка и вывести для него сообщение:"
      ],
      "metadata": {
        "id": "q0eJn4bltGEZ"
      }
    },
    {
      "cell_type": "code",
      "source": [
        "attendees = ['Alex', 'Barry', 'Wulfrik', 'Cesar', 'Vicky', 'Zeus']\n",
        "\n",
        "i = 0  # Начинаем с элемента с индексом 0\n",
        "N = len(attendees)  # Заканчиваем, когда дойдем до индекса N\n",
        "\n",
        "# пока оповестили не всех участников\n",
        "while i < N:\n",
        "    print(\"Дорогой \" + attendees[i] + \", мероприятие переносится!\")  # оповещаем участника\n",
        "    i = i + 1  # переходим к следующему"
      ],
      "metadata": {
        "colab": {
          "base_uri": "https://localhost:8080/"
        },
        "id": "32yvOvdbRAoC",
        "outputId": "bc70dd0c-096f-4ff0-946c-afa266a68207"
      },
      "execution_count": null,
      "outputs": [
        {
          "output_type": "stream",
          "name": "stdout",
          "text": [
            "Дорогой Alex, мероприятие переносится!\n",
            "Дорогой Barry, мероприятие переносится!\n",
            "Дорогой Wulfrik, мероприятие переносится!\n",
            "Дорогой Cesar, мероприятие переносится!\n",
            "Дорогой Vicky, мероприятие переносится!\n",
            "Дорогой Zeus, мероприятие переносится!\n"
          ]
        }
      ]
    },
    {
      "cell_type": "markdown",
      "source": [
        "Или же если имеем множество:"
      ],
      "metadata": {
        "id": "kSepuQJCuzxm"
      }
    },
    {
      "cell_type": "code",
      "source": [
        "attendees = {'Alex', 'Barry', 'Wulfrik', 'Cesar', 'Vicky'}\n",
        "\n",
        "# пока множество участников для оповещения непустое\n",
        "while len(attendees) != 0:\n",
        "    attendee = attendees.pop()  # выбираем участника\n",
        "    print(\"Дорогой \" + attendee + \", мероприятие переносится!\")  # оповещаем участника"
      ],
      "metadata": {
        "id": "ZssaJLHpu42i",
        "colab": {
          "base_uri": "https://localhost:8080/"
        },
        "outputId": "87f25c7b-da67-4821-9ee8-9961046e716d"
      },
      "execution_count": null,
      "outputs": [
        {
          "output_type": "stream",
          "name": "stdout",
          "text": [
            "Дорогой Alex, мероприятие переносится!\n",
            "Дорогой Vicky, мероприятие переносится!\n",
            "Дорогой Barry, мероприятие переносится!\n",
            "Дорогой Wulfrik, мероприятие переносится!\n",
            "Дорогой Cesar, мероприятие переносится!\n"
          ]
        }
      ]
    },
    {
      "cell_type": "markdown",
      "source": [
        "Выполнение ячейки никак не останавливается, потому что команды внутри цикла выполняются бесконечно - условие как было истинным, так и остается!"
      ],
      "metadata": {
        "id": "JyeK58Tm1KP7"
      }
    },
    {
      "cell_type": "markdown",
      "source": [
        "Если вам все же хочется написать бесконечный цикл, то это можно сделать проще:"
      ],
      "metadata": {
        "id": "DeVL_fNR1T0H"
      }
    },
    {
      "cell_type": "code",
      "source": [
        "i = 0\n",
        "while True:  # даст бесконечный цикл\n",
        "    print(\"Итерация №\", i, \"- цикл работает\")\n",
        "    i += 1  # i для демонстрации того, что команды внутри все еще выполняются - i увеличивается"
      ],
      "metadata": {
        "id": "J2NNbEzG1b6N"
      },
      "execution_count": null,
      "outputs": []
    },
    {
      "cell_type": "markdown",
      "source": [
        "Цикл `while` удобно использовать для интерактивного ввода данных:"
      ],
      "metadata": {
        "id": "5stokSY4xGUJ"
      }
    },
    {
      "cell_type": "code",
      "source": [
        "user_wants_to_exit = False\n",
        "\n",
        "while not user_wants_to_exit:\n",
        "    command = input(\"Введите команду: \")\n",
        "\n",
        "    if command == \"exit\":\n",
        "        user_wants_to_exit = True\n",
        "\n",
        "    print(\"Получена команда\", command)\n",
        "\n",
        "print(\"Вышли из программы\")"
      ],
      "metadata": {
        "id": "PYkePSMhxOcu",
        "colab": {
          "base_uri": "https://localhost:8080/"
        },
        "outputId": "4c4b524c-c04c-45c1-dd3d-7eabece04416"
      },
      "execution_count": null,
      "outputs": [
        {
          "output_type": "stream",
          "name": "stdout",
          "text": [
            "Введите команду: help\n",
            "Получена команда help\n",
            "Введите команду: enter\n",
            "Получена команда enter\n",
            "Введите команду: echo\n",
            "Получена команда echo\n",
            "Введите команду: exit\n",
            "Получена команда exit\n",
            "Вышли из программы\n"
          ]
        }
      ]
    },
    {
      "cell_type": "markdown",
      "source": [
        "### Операторы циклов"
      ],
      "metadata": {
        "id": "Tf7RNatyhsrP"
      }
    },
    {
      "cell_type": "markdown",
      "source": [
        "Не всегда нам хотелось бы полностью выполнять итерацию цикла, порой необходимо раньше времени прекратить ее выполнени. Для этого в Python имеются операторы `break` и `continue`."
      ],
      "metadata": {
        "id": "pGSsBNOgiHtp"
      }
    },
    {
      "cell_type": "markdown",
      "source": [
        "#### Оператор `break`"
      ],
      "metadata": {
        "id": "uyHVKhjAHRjN"
      }
    },
    {
      "cell_type": "markdown",
      "source": [
        "Оператор `break` позволяет прекратить выполнение итерации и полностью выйти из цикла."
      ],
      "metadata": {
        "id": "6t0pgwfQRFEs"
      }
    },
    {
      "cell_type": "markdown",
      "source": [
        "Чаще всего этот оператор используют тогда, когда мы сделали в цикле всё, что хотели, и чтобы не тратить время, хотим выйти из цикла."
      ],
      "metadata": {
        "id": "7vqOtFBMmNlu"
      }
    },
    {
      "cell_type": "markdown",
      "source": [
        "**Рассмотрим пример** - хотим найти сумму всех чисел списка, но нужно прекратить подсчет суммы, если встретим \"плохое\" число:"
      ],
      "metadata": {
        "id": "DsAQ-QOknUZG"
      }
    },
    {
      "cell_type": "code",
      "source": [
        "input_list = [1, 1, 2, 3, 5, 8, 13]\n",
        "bad_number = 3\n",
        "summ = 0  # не sum, потому что так называется функция, поэтому лучше это имя не использовать\n",
        "\n",
        "i = 0\n",
        "while i < len(input_list):\n",
        "    if input_list[i] == bad_number:\n",
        "        break\n",
        "    summ += input_list[i]\n",
        "    i += 1\n",
        "print(summ)"
      ],
      "metadata": {
        "colab": {
          "base_uri": "https://localhost:8080/"
        },
        "id": "snCRuqExRaPW",
        "outputId": "62706705-d2ea-4c17-9517-2f121b8abfcd"
      },
      "execution_count": null,
      "outputs": [
        {
          "output_type": "stream",
          "name": "stdout",
          "text": [
            "4\n"
          ]
        }
      ]
    },
    {
      "cell_type": "markdown",
      "source": [
        "**Можно ли обойтись без оператора `break`?** Можно:"
      ],
      "metadata": {
        "id": "y2OKB3eFph0G"
      }
    },
    {
      "cell_type": "code",
      "source": [
        "input_list = [1, 1, 2, 3, 5, 8, 13]\n",
        "bad_number = 8\n",
        "summ = 0  # не sum, потому что так называется функция, поэтому лучше это имя не использовать\n",
        "\n",
        "i = 0\n",
        "bad_number_found = False\n",
        "while i < len(input_list) and not bad_number_found:\n",
        "    if input_list[i] != bad_number:\n",
        "        summ += input_list[i]\n",
        "        i += 1\n",
        "    else:\n",
        "        bad_number_found = True\n",
        "\n",
        "print(summ)"
      ],
      "metadata": {
        "colab": {
          "base_uri": "https://localhost:8080/"
        },
        "id": "CJU0eNBbp0te",
        "outputId": "45a236b6-8662-4cd8-a509-03d6069fc450"
      },
      "execution_count": null,
      "outputs": [
        {
          "output_type": "stream",
          "name": "stdout",
          "text": [
            "12\n"
          ]
        }
      ]
    },
    {
      "cell_type": "markdown",
      "source": [
        "Однако, использование оператора `break` позволяет не переносить основную логику работы (когда число не плохое), и тем самым улучшить читаемость программы."
      ],
      "metadata": {
        "id": "VspVDKIiqGP6"
      }
    },
    {
      "cell_type": "markdown",
      "source": [
        "#### Оператор `continue`"
      ],
      "metadata": {
        "id": "BjX7NWEHHMYO"
      }
    },
    {
      "cell_type": "markdown",
      "source": [
        "Оператор `continue` позволяет остановить выполнение текущей итерации цикла и перейти к выполнению следующей."
      ],
      "metadata": {
        "id": "Wj_eT-hRqX-v"
      }
    },
    {
      "cell_type": "markdown",
      "source": [
        "Чаще всего данный оператор используют, когда не для всех итераций нужно выполнять основную логику программы:"
      ],
      "metadata": {
        "id": "PxN2kxGV_mG7"
      }
    },
    {
      "cell_type": "markdown",
      "source": [
        "**Пример** - хотим найти сумму и произведение элементов списка, но не всех, а лишь нечетных:"
      ],
      "metadata": {
        "id": "IJt1D9feSMXX"
      }
    },
    {
      "cell_type": "code",
      "source": [
        "input_list = [1, 1, 2, 3, 5, 8, 13]\n",
        "summ = 0\n",
        "prod = 1\n",
        "\n",
        "i = 0\n",
        "while i < len(input_list):\n",
        "    item = input_list[i]\n",
        "    i += 1\n",
        "    if item % 2 == 0:\n",
        "        continue\n",
        "    summ += item\n",
        "    prod *= item\n",
        "\n",
        "print(summ)\n",
        "print(prod)"
      ],
      "metadata": {
        "colab": {
          "base_uri": "https://localhost:8080/"
        },
        "id": "iB-m7Of6SPPb",
        "outputId": "8a52d8eb-1a6a-474b-a0e6-48b343510095"
      },
      "execution_count": null,
      "outputs": [
        {
          "output_type": "stream",
          "name": "stdout",
          "text": [
            "23\n",
            "195\n"
          ]
        }
      ]
    },
    {
      "cell_type": "markdown",
      "source": [
        "**Можно ли обойтись без `continue`?** Да, можно использовать:"
      ],
      "metadata": {
        "id": "_i5Jbxq4GzdA"
      }
    },
    {
      "cell_type": "code",
      "source": [
        "input_list = [1, 1, 2, 3, 5, 8, 13]\n",
        "summ = 0\n",
        "prod = 1\n",
        "\n",
        "i = 0\n",
        "while i < len(input_list):\n",
        "    item = input_list[i]\n",
        "    i += 1\n",
        "    if item % 2 != 0:\n",
        "        summ += item\n",
        "        prod *= item\n",
        "\n",
        "print(summ)\n",
        "print(prod)"
      ],
      "metadata": {
        "colab": {
          "base_uri": "https://localhost:8080/"
        },
        "id": "PCX3UxpbG5L4",
        "outputId": "89f9bce8-816f-4558-f9d4-d2aef45da2cf"
      },
      "execution_count": null,
      "outputs": [
        {
          "output_type": "stream",
          "name": "stdout",
          "text": [
            "23\n",
            "195\n"
          ]
        }
      ]
    },
    {
      "cell_type": "markdown",
      "source": [
        "Но, аналогично, лучше использовать оператор `continue` для улучшения читаемости кода."
      ],
      "metadata": {
        "id": "VYXY1R02G-b9"
      }
    },
    {
      "cell_type": "markdown",
      "source": [
        "### Конструкция `while-else`"
      ],
      "metadata": {
        "id": "G9yHdSr0HVdA"
      }
    },
    {
      "cell_type": "markdown",
      "source": [
        "Блок `else` можно добавить не только к условному оператору `if`, но и к циклам.\n",
        "\n",
        "С его помощью можно указать блок команд, которые будут выполнены, если цикл завершился штатно - без использования `break`."
      ],
      "metadata": {
        "id": "8qv4e0v-uiPJ"
      }
    },
    {
      "cell_type": "markdown",
      "source": [
        "**Рассмотрим пример** - сделаем программу, проверяющую есть ли в списке желаемое число:"
      ],
      "metadata": {
        "id": "Ks66T0kFSX4g"
      }
    },
    {
      "cell_type": "code",
      "source": [
        "input_list = [1, 1, 2, 3, 5, 8, 13]\n",
        "target_number = int(input())\n",
        "\n",
        "i = 0\n",
        "while i < len(input_list):\n",
        "    if input_list[i] == target_number:\n",
        "        print(\"Искомое число\", target_number, \"найдено!\")\n",
        "        break\n",
        "    i += 1\n",
        "else:  # nobreak\n",
        "    print(\"Искомое число\", target_number, \"не найдено!\")"
      ],
      "metadata": {
        "colab": {
          "base_uri": "https://localhost:8080/"
        },
        "id": "iBDAzu0PSZT0",
        "outputId": "99dcde3c-9dc8-4a53-bfa4-f8c7ca72aba1"
      },
      "execution_count": null,
      "outputs": [
        {
          "output_type": "stream",
          "name": "stdout",
          "text": [
            "4\n",
            "Искомое число 4 не найдено!\n"
          ]
        }
      ]
    },
    {
      "cell_type": "markdown",
      "source": [
        "**Можно ли решить эту задачу без блока `else`?** Да, например, так:"
      ],
      "metadata": {
        "id": "-myy4WnnwiTB"
      }
    },
    {
      "cell_type": "code",
      "source": [
        "input_list = [1, 1, 2, 3, 5, 8, 13]\n",
        "target_number = int(input())\n",
        "\n",
        "i = 0\n",
        "target_number_found = False\n",
        "while i < len(input_list):\n",
        "    if input_list[i] == target_number:\n",
        "        print(\"Искомое число\", target_number, \"найдено!\")\n",
        "        target_number_found = True\n",
        "        break\n",
        "    i += 1\n",
        "if target_number_found is False:\n",
        "    print(\"Искомое число\", target_number, \"не найдено!\")"
      ],
      "metadata": {
        "colab": {
          "base_uri": "https://localhost:8080/"
        },
        "id": "2hodF4A8wpje",
        "outputId": "6ff1b62f-cda8-4363-ecb6-f0cbfdcf312d"
      },
      "execution_count": null,
      "outputs": [
        {
          "output_type": "stream",
          "name": "stdout",
          "text": [
            "3\n",
            "Искомое число 3 найдено!\n"
          ]
        }
      ]
    },
    {
      "cell_type": "markdown",
      "source": [
        "**Какой же из методов стоит использовать?**"
      ],
      "metadata": {
        "id": "PMaXkr8gxABp"
      }
    },
    {
      "cell_type": "markdown",
      "source": [
        "Считается, что лучше использовать **второй** способ - без `else`."
      ],
      "metadata": {
        "id": "B8y5Hr99xUU5"
      }
    },
    {
      "cell_type": "markdown",
      "source": [
        "Аргументы:\n",
        "\n",
        "- `while-else` - редко используемая конструкция (почти наверняка не встретите в большинстве кода), поэтому многие про нее не помнят и пугаются, когда видят\n",
        "- не очень удачное именование - `else` означает \"другое\", не очень что именно \"другое\" описано - поэтому советуют писать комментарий-напоминание, что вы делаете"
      ],
      "metadata": {
        "id": "RdBiF-Zyxb5z"
      }
    },
    {
      "cell_type": "markdown",
      "source": [
        "## Цикл `for`"
      ],
      "metadata": {
        "id": "Yoiwt0_8Sjii"
      }
    },
    {
      "cell_type": "markdown",
      "source": [
        "Для более простой работы с элементами контейнеров и строк в Python имеется еще один цикл - цикл `for`."
      ],
      "metadata": {
        "id": "JjMfKCF562Sl"
      }
    },
    {
      "cell_type": "markdown",
      "source": [
        "`for`-цикл устроен следующим образом:\n",
        "\n",
        "```python\n",
        "for variable in iterable_var:\n",
        "    <команда 1>\n",
        "    <команда 2>\n",
        "    <команда 3>\n",
        "    ...\n",
        "```"
      ],
      "metadata": {
        "id": "1ggIOjGESoZ5"
      }
    },
    {
      "cell_type": "markdown",
      "source": [
        "где `iterable_var` - переменная, которая содержит в себе несколько других элементов, а `variable` последовательно указывает на элементы этой переменной.\n",
        "\n",
        "Более точно, это переменная класса `Iterable`, у которой есть специальный метод `__next__`, возвращающий следующий элемент этой переменной.\n",
        "\n",
        "Чаще всего, это контейнеры, для каждого из элементов которого мы выполняем одинаковый набор команд, описанный в цикле. Однако, в качестве переменной `iterable_var` могут использоваться не только контейнеры и строки, но и другие типы данных, например, *генераторы*."
      ],
      "metadata": {
        "id": "g3BzLVwSuWYF"
      }
    },
    {
      "cell_type": "markdown",
      "source": [
        "Познакомимся с циклом `for` на практике."
      ],
      "metadata": {
        "id": "dA2Frql68Yyp"
      }
    },
    {
      "cell_type": "markdown",
      "source": [
        "Самое простое применение - напечатать все элементы какого-либо контейнера:"
      ],
      "metadata": {
        "id": "UeKX0WM88cdZ"
      }
    },
    {
      "cell_type": "code",
      "source": [
        "# список\n",
        "list_example = ['list', 1, 2, 3, 4, 5]\n",
        "\n",
        "for item in list_example:  # одно из принятых имен для переменных цикла - item, элемент\n",
        "    print(item, end=', ')"
      ],
      "metadata": {
        "colab": {
          "base_uri": "https://localhost:8080/"
        },
        "id": "lIuUCCvUUfRx",
        "outputId": "fbdcd80e-a3f4-440d-862b-6a4973a0f762"
      },
      "execution_count": null,
      "outputs": [
        {
          "output_type": "stream",
          "name": "stdout",
          "text": [
            "list, 1, 2, 3, 4, 5, "
          ]
        }
      ]
    },
    {
      "cell_type": "code",
      "source": [
        "# кортеж\n",
        "tuple_example = ('tuple', 1, 2, 3, 4, 5)\n",
        "\n",
        "for item in tuple_example:\n",
        "    print(item, end=' ')"
      ],
      "metadata": {
        "colab": {
          "base_uri": "https://localhost:8080/"
        },
        "id": "f4B_4WVZNjNM",
        "outputId": "949c5e22-04ca-44ba-cdd2-d979fa716940"
      },
      "execution_count": null,
      "outputs": [
        {
          "output_type": "stream",
          "name": "stdout",
          "text": [
            "tuple 1 2 3 4 5 "
          ]
        }
      ]
    },
    {
      "cell_type": "code",
      "source": [
        "# строка\n",
        "string_example = \"string12345\"\n",
        "\n",
        "for item in string_example:\n",
        "    print(item, end=' ')"
      ],
      "metadata": {
        "colab": {
          "base_uri": "https://localhost:8080/"
        },
        "id": "J9vjUtzcNlaB",
        "outputId": "0ab73c4f-6e93-4f4a-caa2-c1f3df1dbe98"
      },
      "execution_count": null,
      "outputs": [
        {
          "output_type": "stream",
          "name": "stdout",
          "text": [
            "s t r i n g 1 2 3 4 5 "
          ]
        }
      ]
    },
    {
      "cell_type": "code",
      "source": [
        "# множество\n",
        "set_example = {'set', 1, 2, 3, 4, 5}\n",
        "\n",
        "for item in set_example:  # порядок элементов в множестве не гарантируется!\n",
        "    print(item, end=' ')"
      ],
      "metadata": {
        "colab": {
          "base_uri": "https://localhost:8080/"
        },
        "id": "_sRc09bEUmbQ",
        "outputId": "1598e259-8120-4d3e-bb79-3e5074d8b0a2"
      },
      "execution_count": null,
      "outputs": [
        {
          "output_type": "stream",
          "name": "stdout",
          "text": [
            "1 2 3 4 5 set "
          ]
        }
      ]
    },
    {
      "cell_type": "markdown",
      "source": [
        "Да, для множества тоже можно вывести все элементы, хотя получить отдельный элемент по индексу мы не можем:"
      ],
      "metadata": {
        "id": "WifF8WNY9FZe"
      }
    },
    {
      "cell_type": "code",
      "source": [
        "set_example[0]"
      ],
      "metadata": {
        "colab": {
          "base_uri": "https://localhost:8080/",
          "height": 170
        },
        "id": "GvgkGKPWYBqJ",
        "outputId": "079a5d54-6988-49e8-cbbf-907b2d75fe31"
      },
      "execution_count": null,
      "outputs": [
        {
          "output_type": "error",
          "ename": "TypeError",
          "evalue": "ignored",
          "traceback": [
            "\u001b[0;31m---------------------------------------------------------------------------\u001b[0m",
            "\u001b[0;31mTypeError\u001b[0m                                 Traceback (most recent call last)",
            "\u001b[0;32m<ipython-input-34-195ff0a1876b>\u001b[0m in \u001b[0;36m<cell line: 1>\u001b[0;34m()\u001b[0m\n\u001b[0;32m----> 1\u001b[0;31m \u001b[0mset_example\u001b[0m\u001b[0;34m[\u001b[0m\u001b[0;36m0\u001b[0m\u001b[0;34m]\u001b[0m\u001b[0;34m\u001b[0m\u001b[0;34m\u001b[0m\u001b[0m\n\u001b[0m",
            "\u001b[0;31mTypeError\u001b[0m: 'set' object is not subscriptable"
          ]
        }
      ]
    },
    {
      "cell_type": "markdown",
      "source": [
        "Для словаря есть сразу несколько вариантов:"
      ],
      "metadata": {
        "id": "u3at3SJuUbwG"
      }
    },
    {
      "cell_type": "code",
      "source": [
        "dict_example = {'dict': \"value0\", 1: \"value1\", 2: \"value2\", 3: \"value3\", 4: \"value4\", 5: \"value5\"}"
      ],
      "metadata": {
        "id": "JiR2VQRD9YJP"
      },
      "execution_count": null,
      "outputs": []
    },
    {
      "cell_type": "markdown",
      "source": [
        "- вывести ключи словаря"
      ],
      "metadata": {
        "id": "1lhgZSXK9VB5"
      }
    },
    {
      "cell_type": "code",
      "source": [
        "for item in dict_example.keys():\n",
        "    print(item, end=' ')"
      ],
      "metadata": {
        "id": "j9Rstbrj9YoT",
        "colab": {
          "base_uri": "https://localhost:8080/"
        },
        "outputId": "2940abbb-c9cc-407c-fd06-c10f3325fe80"
      },
      "execution_count": null,
      "outputs": [
        {
          "output_type": "stream",
          "name": "stdout",
          "text": [
            "dict 1 2 3 4 5 "
          ]
        }
      ]
    },
    {
      "cell_type": "markdown",
      "source": [
        "- вывести значения словаря"
      ],
      "metadata": {
        "id": "auzqw2vb9aMm"
      }
    },
    {
      "cell_type": "code",
      "source": [
        "for item in dict_example.values():\n",
        "    print(item, end=' ')"
      ],
      "metadata": {
        "colab": {
          "base_uri": "https://localhost:8080/"
        },
        "outputId": "c9aa3c97-0ce6-45e7-a26a-68d3b981d75c",
        "id": "ZLVk7qWUvu1H"
      },
      "execution_count": null,
      "outputs": [
        {
          "output_type": "stream",
          "name": "stdout",
          "text": [
            "value0 value1 value2 value3 value4 value5 "
          ]
        }
      ]
    },
    {
      "cell_type": "markdown",
      "source": [
        "- вывести пары \"ключ-значение\" словаря"
      ],
      "metadata": {
        "id": "03hfE4eF9bmm"
      }
    },
    {
      "cell_type": "code",
      "source": [
        "for item in dict_example.items():\n",
        "    print(item, end=' ')"
      ],
      "metadata": {
        "colab": {
          "base_uri": "https://localhost:8080/"
        },
        "outputId": "f52656e6-584a-485b-b7a7-2767fd980b88",
        "id": "L5KT2BCDvu7i"
      },
      "execution_count": null,
      "outputs": [
        {
          "output_type": "stream",
          "name": "stdout",
          "text": [
            "('dict', 'value0') (1, 'value1') (2, 'value2') (3, 'value3') (4, 'value4') (5, 'value5') "
          ]
        }
      ]
    },
    {
      "cell_type": "code",
      "source": [
        "for key, value in dict_example.items():\n",
        "    print(key, \" --- \", value, end='\\n')"
      ],
      "metadata": {
        "colab": {
          "base_uri": "https://localhost:8080/"
        },
        "id": "V7o5BX1QHyXn",
        "outputId": "1965fa1b-8c8f-4117-c58a-198c7dab5913"
      },
      "execution_count": null,
      "outputs": [
        {
          "output_type": "stream",
          "name": "stdout",
          "text": [
            "dict  ---  value0\n",
            "1  ---  value1\n",
            "2  ---  value2\n",
            "3  ---  value3\n",
            "4  ---  value4\n",
            "5  ---  value5\n"
          ]
        }
      ]
    },
    {
      "cell_type": "markdown",
      "source": [
        "А что будет, если попробуем с помощью цикла `for` вывести элементы словаря как мы делали с множеством?"
      ],
      "metadata": {
        "id": "5tnc7EUw9iCL"
      }
    },
    {
      "cell_type": "code",
      "source": [
        "for item in dict_example:\n",
        "    print(item, end=' ')"
      ],
      "metadata": {
        "colab": {
          "base_uri": "https://localhost:8080/"
        },
        "outputId": "e948b538-f0e1-4afa-b79c-3bc49bbd36e7",
        "id": "R1hgRrMCvxh4"
      },
      "execution_count": null,
      "outputs": [
        {
          "output_type": "stream",
          "name": "stdout",
          "text": [
            "dict 1 2 3 4 5 "
          ]
        }
      ]
    },
    {
      "cell_type": "markdown",
      "source": [
        "Получили именно набор ключей, а не значений или пар. Чтобы каждый раз не вспоминать что именно таким способом выводится, рекомендуется использовать соответствующие методы из примеров выше."
      ],
      "metadata": {
        "id": "Ci9EyVK69sAn"
      }
    },
    {
      "cell_type": "markdown",
      "source": [
        "Пример"
      ],
      "metadata": {
        "id": "EqDmPqTozY6L"
      }
    },
    {
      "cell_type": "code",
      "source": [
        "attendees = ['Alex', 'Barry', 'Wulfrik', 'Cesar', 'Vicky', 'Zeus']\n",
        "\n",
        "for attendee in attendees:\n",
        "    print(\"Дорогой \" + attendee + \", мероприятие переносится!\")  # оповещаем участника"
      ],
      "metadata": {
        "colab": {
          "base_uri": "https://localhost:8080/"
        },
        "id": "cijr4Eemzab5",
        "outputId": "46f39a64-de6c-49f4-d571-e2b9f7915230"
      },
      "execution_count": null,
      "outputs": [
        {
          "output_type": "stream",
          "name": "stdout",
          "text": [
            "Дорогой Alex, мероприятие переносится!\n",
            "Дорогой Barry, мероприятие переносится!\n",
            "Дорогой Wulfrik, мероприятие переносится!\n",
            "Дорогой Cesar, мероприятие переносится!\n",
            "Дорогой Vicky, мероприятие переносится!\n",
            "Дорогой Zeus, мероприятие переносится!\n"
          ]
        }
      ]
    },
    {
      "cell_type": "markdown",
      "source": [
        "#### Операторы для цикла `for`"
      ],
      "metadata": {
        "id": "bRvvSmR1XiiW"
      }
    },
    {
      "cell_type": "markdown",
      "source": [
        "Операторы `continue` и `break` так же работают и для цикла `for`.\n",
        "\n",
        "Аналогично конструкции `while-else`, существует и конструкция `for-else`:"
      ],
      "metadata": {
        "id": "I6hXKApuVcQp"
      }
    },
    {
      "cell_type": "code",
      "source": [
        "numbers = [1, 3, 7, 8, -5]\n",
        "\n",
        "for n in numbers:\n",
        "    if n == 5:\n",
        "        print('Нашли пятёрку')\n",
        "        break\n",
        "\n",
        "else: # если break не сработал\n",
        "    print('Не нашли пятёрку')"
      ],
      "metadata": {
        "colab": {
          "base_uri": "https://localhost:8080/"
        },
        "id": "1nmawubtVh2s",
        "outputId": "170694bb-78d2-4f0e-fbcc-e92d901fc5f2"
      },
      "execution_count": null,
      "outputs": [
        {
          "output_type": "stream",
          "name": "stdout",
          "text": [
            "Не нашли пятёрку\n"
          ]
        }
      ]
    },
    {
      "cell_type": "markdown",
      "source": [
        "# Вспомогательные функции"
      ],
      "metadata": {
        "id": "U8JJojpD-N6v"
      }
    },
    {
      "cell_type": "markdown",
      "source": [
        "## `enumerate`"
      ],
      "metadata": {
        "id": "-XxqlHjN-Wxp"
      }
    },
    {
      "cell_type": "markdown",
      "source": [
        "Функция* `enumerate` (пронумеровать) позволяет превратить добавить к каждому элементу контейнера или строки его порядковый номер:"
      ],
      "metadata": {
        "id": "NBgjv9cFaWR_"
      }
    },
    {
      "cell_type": "code",
      "source": [
        "list_example = ['list', 1, 2, 3, 4, 5]\n",
        "\n",
        "for item in list_example:\n",
        "    print(item, end=' ')\n",
        "\n",
        "print()\n",
        "\n",
        "for item in enumerate(list_example):\n",
        "    print(item, end=' ')"
      ],
      "metadata": {
        "id": "QV_T5XuBdGBo",
        "colab": {
          "base_uri": "https://localhost:8080/"
        },
        "outputId": "dabea771-285a-47a6-921f-008cd9467960"
      },
      "execution_count": null,
      "outputs": [
        {
          "output_type": "stream",
          "name": "stdout",
          "text": [
            "list 1 2 3 4 5 \n",
            "(0, 'list') (1, 1) (2, 2) (3, 3) (4, 4) (5, 5) "
          ]
        }
      ]
    },
    {
      "cell_type": "markdown",
      "source": [
        "Если в `item` у нас находится не просто переменная, а контейнер, то мы можем воспользоваться множественным присваиванием и получить:"
      ],
      "metadata": {
        "id": "i_JXV5OtdO1i"
      }
    },
    {
      "cell_type": "code",
      "source": [
        "for i, item in enumerate(list_example):\n",
        "    print(i, item, end=' ')"
      ],
      "metadata": {
        "id": "2NWE6uJdde1E",
        "colab": {
          "base_uri": "https://localhost:8080/"
        },
        "outputId": "6ad1ef1e-3da0-4233-df3b-c21463286f6f"
      },
      "execution_count": null,
      "outputs": [
        {
          "output_type": "stream",
          "name": "stdout",
          "text": [
            "0 list 1 1 2 2 3 3 4 4 5 5 "
          ]
        }
      ]
    },
    {
      "cell_type": "code",
      "source": [
        "d = [[1], [2], [3], [4], [5]]\n",
        "\n",
        "i = 0\n",
        "for i, item in enumerate(d):\n",
        "    d[i] = 0\n",
        "    print(item)\n",
        "\n",
        "print(d)"
      ],
      "metadata": {
        "colab": {
          "base_uri": "https://localhost:8080/"
        },
        "id": "WyuHYwne3wOn",
        "outputId": "c2ebd4eb-47c7-4c40-811f-7b5fcda2256a"
      },
      "execution_count": null,
      "outputs": [
        {
          "output_type": "stream",
          "name": "stdout",
          "text": [
            "[1]\n",
            "[2]\n",
            "[3]\n",
            "[4]\n",
            "[5]\n",
            "[0, 0, 0, 0, 0]\n"
          ]
        }
      ]
    },
    {
      "cell_type": "markdown",
      "source": [
        "## `range`"
      ],
      "metadata": {
        "id": "kvDeTnszVmsT"
      }
    },
    {
      "cell_type": "markdown",
      "source": [
        "Что делать, если нам не нужны существующие значения? Нам нужны лишь индексы, от `0` до `len(...)`?"
      ],
      "metadata": {
        "id": "GWNxJ5CtwREu"
      }
    },
    {
      "cell_type": "markdown",
      "source": [
        "Функция* `range` позволяет получить диапазон целых чисел с нужным шагом:"
      ],
      "metadata": {
        "id": "165wVLLUhBUQ"
      }
    },
    {
      "cell_type": "markdown",
      "source": [
        "`range([start,] stop[, step])` возвращает неизменяемую последовательность чисел.\n",
        "\n",
        "По умолчанию `start=0`, `step=1`, и получаем диапазон `[0, stop)`:"
      ],
      "metadata": {
        "id": "Tdq8E4EyU5oE"
      }
    },
    {
      "cell_type": "code",
      "source": [
        "for i in range(10): # от 0 (по умолчанию) до 10 с шагом 1 (по умолчанию)\n",
        "    print(i, end=' ')"
      ],
      "metadata": {
        "colab": {
          "base_uri": "https://localhost:8080/"
        },
        "id": "LO0yw4HphOew",
        "outputId": "5d10dc2e-b16b-4ea1-ba14-84415efa3b1c"
      },
      "execution_count": null,
      "outputs": [
        {
          "output_type": "stream",
          "name": "stdout",
          "text": [
            "0 1 2 3 4 5 6 7 8 9 "
          ]
        }
      ]
    },
    {
      "cell_type": "code",
      "source": [
        "for i in range(5, 10): # от 5 до 10 с шагом 1 (по умолчанию)\n",
        "    print(i, end=' ')"
      ],
      "metadata": {
        "colab": {
          "base_uri": "https://localhost:8080/"
        },
        "id": "dzVWeA8ahcOb",
        "outputId": "0d3f6392-fec2-463f-dc65-3930c019d189"
      },
      "execution_count": null,
      "outputs": [
        {
          "output_type": "stream",
          "name": "stdout",
          "text": [
            "5 6 7 8 9 "
          ]
        }
      ]
    },
    {
      "cell_type": "code",
      "source": [
        "for i in range(5, 20, 2): # от 5 до 10 с шагом 2\n",
        "    print(i, end=' ')"
      ],
      "metadata": {
        "colab": {
          "base_uri": "https://localhost:8080/"
        },
        "id": "UgzA1_vAhf6H",
        "outputId": "10c9ff43-6e04-43ba-9144-2c96f1e841f1"
      },
      "execution_count": null,
      "outputs": [
        {
          "output_type": "stream",
          "name": "stdout",
          "text": [
            "5 7 9 11 13 15 17 19 "
          ]
        }
      ]
    },
    {
      "cell_type": "markdown",
      "source": [
        "Как и в случае со срезами, шаг может быть отрицательным:"
      ],
      "metadata": {
        "id": "QMulYVO1xHIA"
      }
    },
    {
      "cell_type": "code",
      "source": [
        "for i in range(20, 3, -3):\n",
        "    print(i, end=' ')"
      ],
      "metadata": {
        "colab": {
          "base_uri": "https://localhost:8080/"
        },
        "id": "RPydMD_6xMHh",
        "outputId": "1b0bbf0e-f8a2-4a06-92b2-3b6804fd2ea6"
      },
      "execution_count": null,
      "outputs": [
        {
          "output_type": "stream",
          "name": "stdout",
          "text": [
            "20 17 14 11 8 5 "
          ]
        }
      ]
    },
    {
      "cell_type": "markdown",
      "source": [
        "Помимо итерирования по `range`, можно проверять входит ли число в него:"
      ],
      "metadata": {
        "id": "eu0Vk5Lpw41n"
      }
    },
    {
      "cell_type": "code",
      "source": [
        "r = range(1, 10, 2)\n",
        "6 in r"
      ],
      "metadata": {
        "colab": {
          "base_uri": "https://localhost:8080/"
        },
        "id": "x3-RhkbjVCdd",
        "outputId": "9d924dd0-e6e7-4ba6-f102-2b4f7b1ba8b2"
      },
      "execution_count": null,
      "outputs": [
        {
          "output_type": "execute_result",
          "data": {
            "text/plain": [
              "False"
            ]
          },
          "metadata": {},
          "execution_count": 59
        }
      ]
    },
    {
      "cell_type": "markdown",
      "source": [
        "Если хотим получить из `range(...)` список чисел, которые входят в этот диапазон, то можем воспользоваться \"функцией\" `list`:"
      ],
      "metadata": {
        "id": "Nonbhf2exYNT"
      }
    },
    {
      "cell_type": "code",
      "source": [
        "list(r)"
      ],
      "metadata": {
        "colab": {
          "base_uri": "https://localhost:8080/"
        },
        "id": "f5c7ctAUxUHL",
        "outputId": "8a6367d8-0864-4a52-cab3-38b7deb2316e"
      },
      "execution_count": null,
      "outputs": [
        {
          "output_type": "execute_result",
          "data": {
            "text/plain": [
              "[1, 3, 5, 7, 9]"
            ]
          },
          "metadata": {},
          "execution_count": 60
        }
      ]
    },
    {
      "cell_type": "markdown",
      "source": [
        "Вернемся к нашей проблеме, попробуем изменить все элементы на 0:"
      ],
      "metadata": {
        "id": "9GdyIEMEirL5"
      }
    },
    {
      "cell_type": "code",
      "source": [
        "list_example = ['list', 1, 2, 3, 4, 5]\n",
        "\n",
        "for i in range(len(list_example)):\n",
        "    list_example[i] = 0\n",
        "\n",
        "print(list_example)"
      ],
      "metadata": {
        "colab": {
          "base_uri": "https://localhost:8080/"
        },
        "id": "0Z-98js8jKq6",
        "outputId": "05c14a46-d086-4fb5-8ec1-4ca2e55ce2f7"
      },
      "execution_count": null,
      "outputs": [
        {
          "output_type": "stream",
          "name": "stdout",
          "text": [
            "[0, 0, 0, 0, 0, 0]\n"
          ]
        }
      ]
    },
    {
      "cell_type": "markdown",
      "source": [
        "Победа!"
      ],
      "metadata": {
        "id": "azsCk-7ljeEK"
      }
    },
    {
      "cell_type": "code",
      "source": [
        "list_example1 = ['list', 1, 2, 3, 4, 5]\n",
        "list_example2 = ['list', 11, 22, 33, 44, 55]\n",
        "\n",
        "for i in range(len(list_example1)):\n",
        "    print(i,list_example1[i], end=\" \")\n",
        "    list_example1[i] = list_example2[i]\n",
        "    print(list_example1[i])\n",
        "\n",
        "print(list_example1)"
      ],
      "metadata": {
        "colab": {
          "base_uri": "https://localhost:8080/"
        },
        "id": "ZnjyjS7BLF9x",
        "outputId": "62fe2751-cb83-4b6f-ad13-47d39e99a812"
      },
      "execution_count": null,
      "outputs": [
        {
          "output_type": "stream",
          "name": "stdout",
          "text": [
            "0 list list\n",
            "1 1 11\n",
            "2 2 22\n",
            "3 3 33\n",
            "4 4 44\n",
            "5 5 55\n",
            "['list', 11, 22, 33, 44, 55]\n"
          ]
        }
      ]
    },
    {
      "cell_type": "code",
      "source": [
        "a = 10\n",
        "b = 20\n",
        "c = 30\n",
        "\n",
        "print(list(range(a, b)))\n",
        "print(list(range(b, c)))"
      ],
      "metadata": {
        "colab": {
          "base_uri": "https://localhost:8080/"
        },
        "id": "J0ybKq2NLd_Y",
        "outputId": "d4656391-6c38-4c4f-de92-daed0110d23b"
      },
      "execution_count": null,
      "outputs": [
        {
          "output_type": "stream",
          "name": "stdout",
          "text": [
            "[10, 11, 12, 13, 14, 15, 16, 17, 18, 19]\n",
            "[20, 21, 22, 23, 24, 25, 26, 27, 28, 29]\n"
          ]
        }
      ]
    },
    {
      "cell_type": "markdown",
      "source": [
        "## `zip`"
      ],
      "metadata": {
        "id": "BDPwQOxTtzy3"
      }
    },
    {
      "cell_type": "markdown",
      "source": [
        "Что делать, если хотим пройтись по двум спискам одновременно? Посмотрим на классический подход - обращаемся по индексу:"
      ],
      "metadata": {
        "id": "GsXh4xMltzy5"
      }
    },
    {
      "cell_type": "code",
      "source": [
        "list_a = [1, 3, 5, 7, 9]\n",
        "list_b = [2, 4, 6, 8, 10]\n",
        "list_c = []\n",
        "\n",
        "for i in range(len(list_a)):\n",
        "    list_c.append(list_a[i] + list_b[i])\n",
        "\n",
        "print(list_c)"
      ],
      "metadata": {
        "colab": {
          "base_uri": "https://localhost:8080/"
        },
        "outputId": "d199ee70-592d-45c9-ff7b-eb4383212573",
        "id": "6bnASFZTtzy7"
      },
      "execution_count": null,
      "outputs": [
        {
          "output_type": "stream",
          "name": "stdout",
          "text": [
            "[3, 7, 11, 15, 19]\n"
          ]
        }
      ]
    },
    {
      "cell_type": "markdown",
      "source": [
        "Можно, но неудобно. Выход \"в лоб\" - объявить переменные внутри цикла:"
      ],
      "metadata": {
        "id": "jYfzk4F8tzy-"
      }
    },
    {
      "cell_type": "code",
      "source": [
        "list_a = [1, 3, 5, 7, 9]\n",
        "list_b = [2, 4, 6, 8, 10]\n",
        "list_c = []\n",
        "\n",
        "for i in range(len(list_a)):\n",
        "    item_a = list_a[i]\n",
        "    item_b = list_b[i]\n",
        "    list_c.append(item_a + item_b)\n",
        "\n",
        "print(list_c)"
      ],
      "metadata": {
        "id": "es7XdCQjtzy_"
      },
      "execution_count": null,
      "outputs": []
    },
    {
      "cell_type": "markdown",
      "source": [
        "Каждый раз писать такие присвоения - тоже неудобно. В Python есть встроенная \"функция\" для этого - `zip`:"
      ],
      "metadata": {
        "id": "PLJPv2Z-tzzA"
      }
    },
    {
      "cell_type": "code",
      "source": [
        "list_a = [1, 3, 5, 7, 9]\n",
        "list_b = [2, 4, 6, 8, 10]\n",
        "list_c = []\n",
        "\n",
        "for item in zip(list_a, list_b):\n",
        "    list_c.append(item[0] + item[1])\n",
        "\n",
        "print(list_c)"
      ],
      "metadata": {
        "colab": {
          "base_uri": "https://localhost:8080/"
        },
        "outputId": "f78ca564-8339-4874-9648-bdfcee7e4c5f",
        "id": "iGhtqrrTtzzB"
      },
      "execution_count": null,
      "outputs": [
        {
          "output_type": "stream",
          "name": "stdout",
          "text": [
            "[3, 7, 11, 15, 19]\n"
          ]
        }
      ]
    },
    {
      "cell_type": "markdown",
      "source": [
        "Каждый раз обращаться по индексу кортежа item для доступа к элементу тоже не очень удобно. Поэтому можно сделать следующее:"
      ],
      "metadata": {
        "id": "vB6Ad4cBtzzC"
      }
    },
    {
      "cell_type": "code",
      "source": [
        "list_a = [1, 3, 5, 7, 9]\n",
        "list_b = [2, 4, 6, 8, 10]\n",
        "list_c = []\n",
        "\n",
        "for item_a, item_b in zip(list_a, list_b):\n",
        "    list_c.append(item_a + item_b)\n",
        "\n",
        "print(list_c)"
      ],
      "metadata": {
        "colab": {
          "base_uri": "https://localhost:8080/"
        },
        "outputId": "d5a8a456-7a2f-4cbb-a6cb-0600288c0133",
        "id": "z-4KCInhtzzC"
      },
      "execution_count": null,
      "outputs": [
        {
          "output_type": "stream",
          "name": "stdout",
          "text": [
            "[3, 7, 11, 15, 19]\n"
          ]
        }
      ]
    },
    {
      "cell_type": "markdown",
      "source": [
        "Но что будет, если контейнеры имеют разное количество элементов?"
      ],
      "metadata": {
        "id": "LcRwlkBttzzF"
      }
    },
    {
      "cell_type": "code",
      "source": [
        "list_a = [1, 3, 5]\n",
        "list_b = [2, 4, 6, 8, 10]\n",
        "list_c = []\n",
        "\n",
        "for item_a, item_b in zip(list_a, list_b):\n",
        "    list_c.append(item_a + item_b)\n",
        "\n",
        "print(list_c)"
      ],
      "metadata": {
        "colab": {
          "base_uri": "https://localhost:8080/"
        },
        "outputId": "45473165-5dc3-4b7a-b183-e81f79462464",
        "id": "KR2rZXgntzzF"
      },
      "execution_count": null,
      "outputs": [
        {
          "output_type": "stream",
          "name": "stdout",
          "text": [
            "[3, 7, 11]\n"
          ]
        }
      ]
    },
    {
      "cell_type": "markdown",
      "source": [
        "Фактически мы обрежем контейнеры по длине наименьшего."
      ],
      "metadata": {
        "id": "7XGHQMPntzzG"
      }
    },
    {
      "cell_type": "markdown",
      "source": [
        "Но что если бы мы хотели пройтись по всем элементам наших контейнеров? Что если знаем, как стоит дополнить наши контейнеры?\n",
        "\n",
        "К сожалению, `zip` не позволяет это сделать, однако, мы можем это сделать с помощью функции, скрытом в одном из стандартных модулей Python - `itertools`."
      ],
      "metadata": {
        "id": "96UMtODitzzG"
      }
    },
    {
      "cell_type": "markdown",
      "source": [
        "## Модуль `itertools`"
      ],
      "metadata": {
        "id": "iuX6uARXchGh"
      }
    },
    {
      "cell_type": "markdown",
      "source": [
        "В Python встрено огромное количество полезных модулей. В рамках нашего курса мы познакомимся с некоторыми из них.\n",
        "\n",
        "Один из часто используемых модулей - модуль [itertools](https://docs.python.org/3/library/itertools.html)."
      ],
      "metadata": {
        "id": "2oxPl_9Il1I_"
      }
    },
    {
      "cell_type": "markdown",
      "source": [
        "Для того, чтобы подключить модуль, можно воспользоваться оператором импорта:"
      ],
      "metadata": {
        "id": "ym01JjRem4Rk"
      }
    },
    {
      "cell_type": "code",
      "source": [
        "import itertools"
      ],
      "metadata": {
        "id": "COLQ266Vm1pY"
      },
      "execution_count": null,
      "outputs": []
    },
    {
      "cell_type": "markdown",
      "source": [
        "### `zip_longest`"
      ],
      "metadata": {
        "id": "OqwZru-698ZB"
      }
    },
    {
      "cell_type": "markdown",
      "source": [
        "Работает как обычный `zip`, но требует аргумента `fillvalue` (значение для заполнения):"
      ],
      "metadata": {
        "id": "TU4D5ETyLtkA"
      }
    },
    {
      "cell_type": "code",
      "source": [
        "list_a = [1, 3, 5]\n",
        "list_b = [2, 4, 6, 8, 10]\n",
        "list_c = []\n",
        "\n",
        "for item_a, item_b in itertools.zip_longest(list_a, list_b, fillvalue=0):\n",
        "    list_c.append(item_a + item_b)\n",
        "\n",
        "print(list_c)"
      ],
      "metadata": {
        "colab": {
          "base_uri": "https://localhost:8080/"
        },
        "id": "7Q2gqdYTLlHs",
        "outputId": "8750921d-f8aa-48cb-fe95-55f68ce8272f"
      },
      "execution_count": null,
      "outputs": [
        {
          "output_type": "stream",
          "name": "stdout",
          "text": [
            "[3, 7, 11, 8, 10]\n"
          ]
        }
      ]
    },
    {
      "cell_type": "markdown",
      "source": [
        "### `product`"
      ],
      "metadata": {
        "id": "IqtHgeCN94Kv"
      }
    },
    {
      "cell_type": "markdown",
      "source": [
        "Вложенные циклы - удобная вещь, но если вдруг нужно делать циклы огромной степени вложенности, то читаемость ухудшается.\n",
        "\n",
        "На помощь приходит функция `product`. Она позволяет удобно и лакончно записывать вложенные циклы разной глубины:"
      ],
      "metadata": {
        "id": "wbbhODFMwO9d"
      }
    },
    {
      "cell_type": "code",
      "source": [
        "for i, j, k in itertools.product(range(2), \"abc\", [1, 2, 3]):\n",
        "    print(i, j, k)"
      ],
      "metadata": {
        "id": "mdgozOSGnE3M",
        "colab": {
          "base_uri": "https://localhost:8080/"
        },
        "outputId": "0aa35490-2b2b-47b0-bed0-4a1a2c942d70"
      },
      "execution_count": null,
      "outputs": [
        {
          "output_type": "stream",
          "name": "stdout",
          "text": [
            "0 a 1\n",
            "0 a 2\n",
            "0 a 3\n",
            "0 b 1\n",
            "0 b 2\n",
            "0 b 3\n",
            "0 c 1\n",
            "0 c 2\n",
            "0 c 3\n",
            "1 a 1\n",
            "1 a 2\n",
            "1 a 3\n",
            "1 b 1\n",
            "1 b 2\n",
            "1 b 3\n",
            "1 c 1\n",
            "1 c 2\n",
            "1 c 3\n"
          ]
        }
      ]
    },
    {
      "cell_type": "markdown",
      "source": [
        "Этот код эквивалентен следующему:"
      ],
      "metadata": {
        "id": "lnNVHcDUnFWB"
      }
    },
    {
      "cell_type": "code",
      "source": [
        "for i in range(2):\n",
        "    for j in \"abc\":\n",
        "        for k in [1,2,3]:\n",
        "            print(i, j, k)"
      ],
      "metadata": {
        "id": "WFUhOM2enDYy",
        "colab": {
          "base_uri": "https://localhost:8080/"
        },
        "outputId": "a56d8b5a-a2d1-4e99-bb89-2d449c0982f1"
      },
      "execution_count": null,
      "outputs": [
        {
          "output_type": "stream",
          "name": "stdout",
          "text": [
            "0 a 1\n",
            "0 a 2\n",
            "0 a 3\n",
            "0 b 1\n",
            "0 b 2\n",
            "0 b 3\n",
            "0 c 1\n",
            "0 c 2\n",
            "0 c 3\n",
            "1 a 1\n",
            "1 a 2\n",
            "1 a 3\n",
            "1 b 1\n",
            "1 b 2\n",
            "1 b 3\n",
            "1 c 1\n",
            "1 c 2\n",
            "1 c 3\n"
          ]
        }
      ]
    },
    {
      "cell_type": "markdown",
      "source": [
        "### Комбинаторика"
      ],
      "metadata": {
        "id": "5eQ5iamj96XG"
      }
    },
    {
      "cell_type": "markdown",
      "source": [
        "Также можно применять для комбинаторики - перестановки, комбинации, комбинации с повторениями:"
      ],
      "metadata": {
        "id": "xjVvx2LIcpcw"
      }
    },
    {
      "cell_type": "markdown",
      "source": [
        "1. Перестановки:\n",
        "\n",
        "![](https://upload.wikimedia.org/wikipedia/commons/4/4c/Permutations_RGB.svg?download)"
      ],
      "metadata": {
        "id": "Kp0pLnKwww-f"
      }
    },
    {
      "cell_type": "code",
      "source": [
        "list(itertools.permutations([1, 2, 3]))"
      ],
      "metadata": {
        "colab": {
          "base_uri": "https://localhost:8080/"
        },
        "id": "B8s2H5cectct",
        "outputId": "258e0267-414a-443f-9972-ecdd2a9c8626"
      },
      "execution_count": null,
      "outputs": [
        {
          "output_type": "execute_result",
          "data": {
            "text/plain": [
              "[(1, 2, 3), (1, 3, 2), (2, 1, 3), (2, 3, 1), (3, 1, 2), (3, 2, 1)]"
            ]
          },
          "metadata": {},
          "execution_count": 74
        }
      ]
    },
    {
      "cell_type": "markdown",
      "source": [
        "2. Размещения - выбрать из мешка случайные шарика, не возвращая назад:"
      ],
      "metadata": {
        "id": "We9feXemxphB"
      }
    },
    {
      "cell_type": "code",
      "source": [
        "list(itertools.combinations([1, 2, 3, 4], 2))"
      ],
      "metadata": {
        "colab": {
          "base_uri": "https://localhost:8080/"
        },
        "id": "nEQC9fjvcwM2",
        "outputId": "0a583440-b8d9-4533-b96e-23800078bfd4"
      },
      "execution_count": null,
      "outputs": [
        {
          "output_type": "execute_result",
          "data": {
            "text/plain": [
              "[(1, 2), (1, 3), (1, 4), (2, 3), (2, 4), (3, 4)]"
            ]
          },
          "metadata": {},
          "execution_count": 75
        }
      ]
    },
    {
      "cell_type": "markdown",
      "source": [
        "3. Размещения с повторениями - выбрать из мешка случайные шарика, возвращая назад:"
      ],
      "metadata": {
        "id": "WdQJ1qI207DQ"
      }
    },
    {
      "cell_type": "code",
      "source": [
        "list(itertools.combinations_with_replacement([1, 2, 3], 2))"
      ],
      "metadata": {
        "colab": {
          "base_uri": "https://localhost:8080/"
        },
        "id": "_QktzHxwc0EQ",
        "outputId": "29105fc6-252e-4326-faf3-8104792a9e27"
      },
      "execution_count": null,
      "outputs": [
        {
          "output_type": "execute_result",
          "data": {
            "text/plain": [
              "[(1, 1), (1, 2), (1, 3), (2, 2), (2, 3), (3, 3)]"
            ]
          },
          "metadata": {},
          "execution_count": 76
        }
      ]
    },
    {
      "cell_type": "markdown",
      "source": [
        "# list comprehensions"
      ],
      "metadata": {
        "id": "cfPBOP8TVyN5"
      }
    },
    {
      "cell_type": "markdown",
      "source": [
        "Часто приходится создавать производные списки - новые списки, элементы которых вычисляются из соответствующих элементов другого контейнера."
      ],
      "metadata": {
        "id": "KuFOuPuzx0TD"
      }
    },
    {
      "cell_type": "markdown",
      "source": [
        "Например, список квадратов чисел:"
      ],
      "metadata": {
        "id": "u1NaHwj-2F5-"
      }
    },
    {
      "cell_type": "code",
      "source": [
        "input_list = [3, 14, 15, 92, 65, 35, 89, 79, 323, 84626]\n",
        "\n",
        "output_list = [0] * len(input_list)  # создаем список из нулей длины как input_list\n",
        "for i, item in enumerate(input_list):  # \"функция\" enumerate позволяет получать не только элеметы, но и их порядковый номер\n",
        "    output_list[i] = input_list[i] ** 2\n",
        "\n",
        "print(output_list)"
      ],
      "metadata": {
        "colab": {
          "base_uri": "https://localhost:8080/"
        },
        "id": "GwhwJtyYyClQ",
        "outputId": "6d0a4263-03c7-44d2-ab7a-b93358d5b15d"
      },
      "execution_count": null,
      "outputs": [
        {
          "output_type": "stream",
          "name": "stdout",
          "text": [
            "[9, 196, 225, 8464, 4225, 1225, 7921, 6241, 104329, 7161559876]\n"
          ]
        }
      ]
    },
    {
      "cell_type": "markdown",
      "source": [
        "Чтобы упростить создание подобных списков, в Python есть очень удобная штука под названием **list comprehension**, выглядит она вот так:\n",
        "\n",
        "```python\n",
        "[выражение for var in iterable_var if condition]\n",
        "```"
      ],
      "metadata": {
        "id": "0RZXvo0sV04_"
      }
    },
    {
      "cell_type": "markdown",
      "source": [
        "Тогда наш пример выше перепишется как:"
      ],
      "metadata": {
        "id": "ROep4iGEy4Hr"
      }
    },
    {
      "cell_type": "code",
      "source": [
        "output_list = [item ** 2 for item in input_list]\n",
        "print(output_list)"
      ],
      "metadata": {
        "colab": {
          "base_uri": "https://localhost:8080/"
        },
        "id": "jhpfM-Czy0yr",
        "outputId": "8f2db2fa-6971-4000-b7ea-07f35aac8d5f"
      },
      "execution_count": null,
      "outputs": [
        {
          "output_type": "stream",
          "name": "stdout",
          "text": [
            "[9, 196, 225, 8464, 4225, 1225, 7921, 6241, 104329, 7161559876]\n"
          ]
        }
      ]
    },
    {
      "cell_type": "markdown",
      "source": [
        "Рассмотрим пример использования условия (`condition`) при создании производных списков. Для этого будем сохранять в выходной список только те элементы, которые делятся на `2`:"
      ],
      "metadata": {
        "id": "msDsNRgwzPpG"
      }
    },
    {
      "cell_type": "code",
      "source": [
        "output_list = [item ** 2 for item in input_list if item % 2 == 0]\n",
        "print(output_list)"
      ],
      "metadata": {
        "colab": {
          "base_uri": "https://localhost:8080/"
        },
        "id": "gm1Skimzzi4G",
        "outputId": "00babaad-54d6-45b7-886b-888f0509edfa"
      },
      "execution_count": null,
      "outputs": [
        {
          "output_type": "stream",
          "name": "stdout",
          "text": [
            "[4, 64]\n"
          ]
        }
      ]
    },
    {
      "cell_type": "markdown",
      "source": [
        "`list comprehension` можно использовать в связке с тернарным оператором:"
      ],
      "metadata": {
        "id": "GXtv2zxB2ciO"
      }
    },
    {
      "cell_type": "code",
      "source": [
        "result = [x if x != 7 else 7 ** 25 for x in range(10)]\n",
        "print(result)"
      ],
      "metadata": {
        "colab": {
          "base_uri": "https://localhost:8080/"
        },
        "id": "gfWLWnh0Fot-",
        "outputId": "d991466e-1277-4541-890a-9c98866769be"
      },
      "execution_count": null,
      "outputs": [
        {
          "output_type": "stream",
          "name": "stdout",
          "text": [
            "[0, 1, 2, 3, 4, 5, 6, 1341068619663964900807, 8, 9]\n"
          ]
        }
      ]
    },
    {
      "cell_type": "markdown",
      "source": [
        "Часто list comprehension используют в связке с `range`. Например, если вам нужно создать список кубов чисел, которые делятся на 3 без остатка:"
      ],
      "metadata": {
        "id": "8f3drJB2zomF"
      }
    },
    {
      "cell_type": "code",
      "source": [
        "result = [x ** 3 for x in range(10) if x % 3 == 0]\n",
        "print(result)"
      ],
      "metadata": {
        "id": "ah4iewI9V90V",
        "colab": {
          "base_uri": "https://localhost:8080/"
        },
        "outputId": "47b92520-62e2-49c2-9ab5-dedd517f23b0"
      },
      "execution_count": null,
      "outputs": [
        {
          "output_type": "stream",
          "name": "stdout",
          "text": [
            "[0, 27, 216, 729]\n"
          ]
        }
      ]
    },
    {
      "cell_type": "markdown",
      "source": [
        "Аналогичный результат классическим способом выглядел бы так:"
      ],
      "metadata": {
        "id": "oGjHTp4p0Fck"
      }
    },
    {
      "cell_type": "code",
      "source": [
        "result = []\n",
        "for x in range(10):\n",
        "    if x % 3 == 0:\n",
        "        result.append(x ** 3)\n",
        "print(result)"
      ],
      "metadata": {
        "colab": {
          "base_uri": "https://localhost:8080/"
        },
        "id": "DZBjR5e0FBnq",
        "outputId": "8b164b39-4329-4c49-fbf1-c19645ebb37f"
      },
      "execution_count": null,
      "outputs": [
        {
          "output_type": "stream",
          "name": "stdout",
          "text": [
            "[0, 27, 216, 729]\n"
          ]
        }
      ]
    },
    {
      "cell_type": "markdown",
      "source": [
        "Можно делать и вложенные list comprehension, но это ухудшает читаемость:"
      ],
      "metadata": {
        "id": "Hw4e7gqocDlv"
      }
    },
    {
      "cell_type": "code",
      "source": [
        "[(y, x) for x in range(2, 10) for y in range(x+1, 10) if y % x == 0]"
      ],
      "metadata": {
        "id": "WJQa8RwMb1lW"
      },
      "execution_count": null,
      "outputs": []
    },
    {
      "cell_type": "markdown",
      "source": [
        "Код выше аналогичен следующему:"
      ],
      "metadata": {
        "id": "yeFJ3c1o0NIc"
      }
    },
    {
      "cell_type": "code",
      "source": [
        "result = []\n",
        "for x in range(2, 10):\n",
        "    for y in range(x+1, 10):\n",
        "        if y % x == 0:\n",
        "            result.append((y, x))\n",
        "print(result)"
      ],
      "metadata": {
        "colab": {
          "base_uri": "https://localhost:8080/"
        },
        "id": "TnOekBlk0RO7",
        "outputId": "1fc3ca74-0b79-4231-c05b-aab311d6c1a5"
      },
      "execution_count": null,
      "outputs": [
        {
          "output_type": "stream",
          "name": "stdout",
          "text": [
            "[(4, 2), (6, 2), (8, 2), (6, 3), (9, 3), (8, 4)]\n"
          ]
        }
      ]
    },
    {
      "cell_type": "markdown",
      "source": [
        "### `dict comprehension` и `set comprehension`"
      ],
      "metadata": {
        "id": "NOA4JE7G0mir"
      }
    },
    {
      "cell_type": "markdown",
      "source": [
        "Можно ли так же удобно создавать не только списки, но и множества и словари?\n",
        "\n",
        "Да, аналогично существуют `dict comprehension` и `set comprehension`:"
      ],
      "metadata": {
        "id": "uN1PbcdDcL_A"
      }
    },
    {
      "cell_type": "code",
      "source": [
        "result = {2 * x % 5: x ** 2 for x in [1,2,5,6]}\n",
        "print(type(result), result)"
      ],
      "metadata": {
        "colab": {
          "base_uri": "https://localhost:8080/"
        },
        "id": "hMPIDMNXFfXY",
        "outputId": "173f80d4-ea76-4bf5-b664-beb8cbc3c15a"
      },
      "execution_count": null,
      "outputs": [
        {
          "output_type": "stream",
          "name": "stdout",
          "text": [
            "<class 'dict'> {2: 36, 4: 4, 0: 25}\n"
          ]
        }
      ]
    },
    {
      "cell_type": "code",
      "source": [
        "result = {x ** 2 for x in range(10)}\n",
        "print(type(result), result)"
      ],
      "metadata": {
        "colab": {
          "base_uri": "https://localhost:8080/"
        },
        "id": "e0Uf5G1KcUvx",
        "outputId": "75b0f6a3-48f6-434c-d194-d5f8311ec086"
      },
      "execution_count": null,
      "outputs": [
        {
          "output_type": "stream",
          "name": "stdout",
          "text": [
            "<class 'set'> {0, 1, 64, 4, 36, 9, 16, 49, 81, 25}\n"
          ]
        }
      ]
    },
    {
      "cell_type": "markdown",
      "source": [
        "А что насчет кортежей? Можем ли мы так же легко создать производный кортеж, заменив скобки на круглые?"
      ],
      "metadata": {
        "id": "6eH8ECOw2JTg"
      }
    },
    {
      "cell_type": "markdown",
      "source": [
        "Увы, `tuple comprehension` не существует. Вместо этого круглые скобочки дают нам генераторное выражение (generator expression):"
      ],
      "metadata": {
        "id": "iOe32dAYg5hL"
      }
    },
    {
      "cell_type": "code",
      "source": [
        "result = (x ** 2 for x in range(10))\n",
        "print(type(result), result)"
      ],
      "metadata": {
        "colab": {
          "base_uri": "https://localhost:8080/"
        },
        "id": "_iuE5Xlt2q23",
        "outputId": "43dad22e-385d-4eca-93d8-1ea4473425b1"
      },
      "execution_count": null,
      "outputs": [
        {
          "output_type": "stream",
          "name": "stdout",
          "text": [
            "<class 'generator'> <generator object <genexpr> at 0x7f588d5f3270>\n"
          ]
        }
      ]
    },
    {
      "cell_type": "code",
      "source": [
        "input_list = [3, 14, 15, 92, 65, 35, 89, 79, 323, 84626]\n",
        "\n",
        "for item in input_list:\n",
        "    item = 0\n",
        "    print(item)\n",
        "\n",
        "print(input_list)"
      ],
      "metadata": {
        "colab": {
          "base_uri": "https://localhost:8080/"
        },
        "id": "OIZbdTYAu2kY",
        "outputId": "306a9fd9-198c-49c2-8ffa-9491432e5b12"
      },
      "execution_count": null,
      "outputs": [
        {
          "output_type": "stream",
          "name": "stdout",
          "text": [
            "0\n",
            "0\n",
            "0\n",
            "0\n",
            "0\n",
            "0\n",
            "0\n",
            "0\n",
            "0\n",
            "0\n",
            "[3, 14, 15, 92, 65, 35, 89, 79, 323, 84626]\n"
          ]
        }
      ]
    },
    {
      "cell_type": "code",
      "source": [],
      "metadata": {
        "id": "aCh2jf1zvCXC"
      },
      "execution_count": null,
      "outputs": []
    }
  ]
}